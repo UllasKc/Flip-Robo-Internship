{
 "cells": [
  {
   "cell_type": "markdown",
   "id": "275d811a",
   "metadata": {},
   "source": [
    "## Flight Price Prediction"
   ]
  },
  {
   "cell_type": "markdown",
   "id": "2ca2ecbe",
   "metadata": {},
   "source": [
    "## Problem Statement:"
   ]
  },
  {
   "cell_type": "raw",
   "id": "62fe80bf",
   "metadata": {},
   "source": [
    "Anyone who has booked a flight ticket knows how unexpectedly the prices vary. The cheapest\n",
    "available ticket on a given flight gets more and less expensive over time. This usually happens as\n",
    "an attempt to maximize revenue based on -\n",
    "1. Time of purchase patterns (making sure last-minute purchases are expensive)\n",
    "2. Keeping the flight as full as they want it (raising prices on a flight which is filling up in order\n",
    "to reduce sales and hold back inventory for those expensive last-minute expensive\n",
    "purchases)\n",
    "So, you have to work on a project where you collect data of flight fares with other features and\n",
    "work to make a model to predict fares of flights.\n"
   ]
  },
  {
   "cell_type": "markdown",
   "id": "a18d3949",
   "metadata": {},
   "source": [
    "## Importing the required libraries:"
   ]
  },
  {
   "cell_type": "code",
   "execution_count": 233,
   "id": "69470330",
   "metadata": {},
   "outputs": [],
   "source": [
    "import pandas as pd\n",
    "import numpy as np\n",
    "import seaborn as sns\n",
    "import matplotlib.pyplot as plt\n",
    "import sklearn\n",
    "from sklearn.model_selection import train_test_split,cross_val_score,GridSearchCV,RandomizedSearchCV\n",
    "from sklearn.ensemble import RandomForestRegressor,AdaBoostRegressor\n",
    "from sklearn.linear_model import LinearRegression,ElasticNet\n",
    "from sklearn.svm import SVR\n",
    "from sklearn.tree import DecisionTreeRegressor\n",
    "from sklearn.neighbors import KNeighborsRegressor\n",
    "from sklearn.metrics import mean_absolute_error,mean_squared_error,r2_score\n",
    "from sklearn.preprocessing import MinMaxScaler,power_transform,LabelEncoder,OrdinalEncoder,StandardScaler\n",
    "from sklearn.decomposition import PCA\n",
    "from scipy.stats import zscore\n",
    "import warnings\n",
    "warnings.filterwarnings('ignore')"
   ]
  },
  {
   "cell_type": "markdown",
   "id": "ce934611",
   "metadata": {},
   "source": [
    "## Loading the dataset:"
   ]
  },
  {
   "cell_type": "code",
   "execution_count": 234,
   "id": "4fde2f65",
   "metadata": {},
   "outputs": [],
   "source": [
    "df = pd.read_csv(\"flights_df_final.csv\")"
   ]
  },
  {
   "cell_type": "code",
   "execution_count": 235,
   "id": "eb2279c2",
   "metadata": {},
   "outputs": [],
   "source": [
    "df.drop(\"Unnamed: 0\",axis =1,inplace = True) #dropping the duplicate row column"
   ]
  },
  {
   "cell_type": "code",
   "execution_count": 236,
   "id": "c5308911",
   "metadata": {},
   "outputs": [
    {
     "data": {
      "text/html": [
       "<div>\n",
       "<style scoped>\n",
       "    .dataframe tbody tr th:only-of-type {\n",
       "        vertical-align: middle;\n",
       "    }\n",
       "\n",
       "    .dataframe tbody tr th {\n",
       "        vertical-align: top;\n",
       "    }\n",
       "\n",
       "    .dataframe thead th {\n",
       "        text-align: right;\n",
       "    }\n",
       "</style>\n",
       "<table border=\"1\" class=\"dataframe\">\n",
       "  <thead>\n",
       "    <tr style=\"text-align: right;\">\n",
       "      <th></th>\n",
       "      <th>Airline</th>\n",
       "      <th>Date</th>\n",
       "      <th>Source City</th>\n",
       "      <th>Destination City</th>\n",
       "      <th>Departure Time</th>\n",
       "      <th>Arrival Time</th>\n",
       "      <th>Duration</th>\n",
       "      <th>Stops</th>\n",
       "      <th>Price</th>\n",
       "    </tr>\n",
       "  </thead>\n",
       "  <tbody>\n",
       "    <tr>\n",
       "      <th>0</th>\n",
       "      <td>Go First</td>\n",
       "      <td>09-10-2021</td>\n",
       "      <td>New Delhi</td>\n",
       "      <td>Bangalore</td>\n",
       "      <td>19:45</td>\n",
       "      <td>22:20</td>\n",
       "      <td>2h 35m</td>\n",
       "      <td>Non Stop</td>\n",
       "      <td>7,424</td>\n",
       "    </tr>\n",
       "    <tr>\n",
       "      <th>1</th>\n",
       "      <td>Go First</td>\n",
       "      <td>09-10-2021</td>\n",
       "      <td>New Delhi</td>\n",
       "      <td>Bangalore</td>\n",
       "      <td>22:45</td>\n",
       "      <td>07:45\\n+ 1 day</td>\n",
       "      <td>9h 00m</td>\n",
       "      <td>1 Stop</td>\n",
       "      <td>7,424</td>\n",
       "    </tr>\n",
       "    <tr>\n",
       "      <th>2</th>\n",
       "      <td>Vistara</td>\n",
       "      <td>09-10-2021</td>\n",
       "      <td>New Delhi</td>\n",
       "      <td>Bangalore</td>\n",
       "      <td>20:40</td>\n",
       "      <td>23:20</td>\n",
       "      <td>2h 40m</td>\n",
       "      <td>Non Stop</td>\n",
       "      <td>7,425</td>\n",
       "    </tr>\n",
       "    <tr>\n",
       "      <th>3</th>\n",
       "      <td>SpiceJet</td>\n",
       "      <td>09-10-2021</td>\n",
       "      <td>New Delhi</td>\n",
       "      <td>Bangalore</td>\n",
       "      <td>21:50</td>\n",
       "      <td>00:35\\n+ 1 day</td>\n",
       "      <td>2h 45m</td>\n",
       "      <td>Non Stop</td>\n",
       "      <td>7,425</td>\n",
       "    </tr>\n",
       "    <tr>\n",
       "      <th>4</th>\n",
       "      <td>IndiGo</td>\n",
       "      <td>09-10-2021</td>\n",
       "      <td>New Delhi</td>\n",
       "      <td>Bangalore</td>\n",
       "      <td>22:20</td>\n",
       "      <td>01:05\\n+ 1 day</td>\n",
       "      <td>2h 45m</td>\n",
       "      <td>Non Stop</td>\n",
       "      <td>7,425</td>\n",
       "    </tr>\n",
       "  </tbody>\n",
       "</table>\n",
       "</div>"
      ],
      "text/plain": [
       "    Airline        Date Source City Destination City Departure Time  \\\n",
       "0  Go First  09-10-2021   New Delhi        Bangalore          19:45   \n",
       "1  Go First  09-10-2021   New Delhi        Bangalore          22:45   \n",
       "2   Vistara  09-10-2021   New Delhi        Bangalore          20:40   \n",
       "3  SpiceJet  09-10-2021   New Delhi        Bangalore          21:50   \n",
       "4    IndiGo  09-10-2021   New Delhi        Bangalore          22:20   \n",
       "\n",
       "     Arrival Time Duration     Stops  Price  \n",
       "0           22:20   2h 35m  Non Stop  7,424  \n",
       "1  07:45\\n+ 1 day   9h 00m    1 Stop  7,424  \n",
       "2           23:20   2h 40m  Non Stop  7,425  \n",
       "3  00:35\\n+ 1 day   2h 45m  Non Stop  7,425  \n",
       "4  01:05\\n+ 1 day   2h 45m  Non Stop  7,425  "
      ]
     },
     "execution_count": 236,
     "metadata": {},
     "output_type": "execute_result"
    }
   ],
   "source": [
    "df.head()"
   ]
  },
  {
   "cell_type": "code",
   "execution_count": 237,
   "id": "2cb3165e",
   "metadata": {},
   "outputs": [
    {
     "data": {
      "text/plain": [
       "(2736, 9)"
      ]
     },
     "execution_count": 237,
     "metadata": {},
     "output_type": "execute_result"
    }
   ],
   "source": [
    "df.shape"
   ]
  },
  {
   "cell_type": "markdown",
   "id": "bd65213c",
   "metadata": {},
   "source": [
    "## EDA (Exploratory Data Analysis)"
   ]
  },
  {
   "cell_type": "code",
   "execution_count": 238,
   "id": "21ab41fa",
   "metadata": {},
   "outputs": [
    {
     "name": "stdout",
     "output_type": "stream",
     "text": [
      "<class 'pandas.core.frame.DataFrame'>\n",
      "RangeIndex: 2736 entries, 0 to 2735\n",
      "Data columns (total 9 columns):\n",
      " #   Column            Non-Null Count  Dtype \n",
      "---  ------            --------------  ----- \n",
      " 0   Airline           2736 non-null   object\n",
      " 1   Date              2736 non-null   object\n",
      " 2   Source City       2736 non-null   object\n",
      " 3   Destination City  2736 non-null   object\n",
      " 4   Departure Time    2736 non-null   object\n",
      " 5   Arrival Time      2736 non-null   object\n",
      " 6   Duration          2736 non-null   object\n",
      " 7   Stops             2736 non-null   object\n",
      " 8   Price             2736 non-null   object\n",
      "dtypes: object(9)\n",
      "memory usage: 192.5+ KB\n"
     ]
    }
   ],
   "source": [
    "df.info()"
   ]
  },
  {
   "cell_type": "code",
   "execution_count": 239,
   "id": "e911544a",
   "metadata": {},
   "outputs": [
    {
     "data": {
      "text/plain": [
       "(2736, 9)"
      ]
     },
     "execution_count": 239,
     "metadata": {},
     "output_type": "execute_result"
    }
   ],
   "source": [
    "df.shape"
   ]
  },
  {
   "cell_type": "markdown",
   "id": "af948076",
   "metadata": {},
   "source": [
    "Now we have 2736 rows and 9 columns"
   ]
  },
  {
   "cell_type": "code",
   "execution_count": 240,
   "id": "8d79f9db",
   "metadata": {},
   "outputs": [
    {
     "data": {
      "text/plain": [
       "Index(['Airline', 'Date', 'Source City', 'Destination City', 'Departure Time',\n",
       "       'Arrival Time', 'Duration', 'Stops', 'Price'],\n",
       "      dtype='object')"
      ]
     },
     "execution_count": 240,
     "metadata": {},
     "output_type": "execute_result"
    }
   ],
   "source": [
    "df.columns"
   ]
  },
  {
   "cell_type": "code",
   "execution_count": 241,
   "id": "2c00bafb",
   "metadata": {},
   "outputs": [
    {
     "data": {
      "text/plain": [
       "Airline             object\n",
       "Date                object\n",
       "Source City         object\n",
       "Destination City    object\n",
       "Departure Time      object\n",
       "Arrival Time        object\n",
       "Duration            object\n",
       "Stops               object\n",
       "Price               object\n",
       "dtype: object"
      ]
     },
     "execution_count": 241,
     "metadata": {},
     "output_type": "execute_result"
    }
   ],
   "source": [
    "df.dtypes"
   ]
  },
  {
   "cell_type": "code",
   "execution_count": 242,
   "id": "b110e9ab",
   "metadata": {},
   "outputs": [
    {
     "data": {
      "text/plain": [
       "Airline             0\n",
       "Date                0\n",
       "Source City         0\n",
       "Destination City    0\n",
       "Departure Time      0\n",
       "Arrival Time        0\n",
       "Duration            0\n",
       "Stops               0\n",
       "Price               0\n",
       "dtype: int64"
      ]
     },
     "execution_count": 242,
     "metadata": {},
     "output_type": "execute_result"
    }
   ],
   "source": [
    "#lets check for null values\n",
    "df.isnull().sum()"
   ]
  },
  {
   "cell_type": "code",
   "execution_count": 243,
   "id": "1a21a8c0",
   "metadata": {},
   "outputs": [
    {
     "name": "stdout",
     "output_type": "stream",
     "text": [
      "Airline 6\n",
      "Date 23\n",
      "Source City 2\n",
      "Destination City 3\n",
      "Departure Time 173\n",
      "Arrival Time 229\n",
      "Duration 223\n",
      "Stops 4\n",
      "Price 215\n"
     ]
    }
   ],
   "source": [
    "#lets print out the columns with unique values\n",
    "for i in df.columns:\n",
    "    if df[i].dtype == 'object':\n",
    "        print(i,len(pd.unique(df[i])))"
   ]
  },
  {
   "cell_type": "code",
   "execution_count": 244,
   "id": "2b144194",
   "metadata": {},
   "outputs": [
    {
     "name": "stdout",
     "output_type": "stream",
     "text": [
      "\n",
      "\n",
      "Airline IndiGo       793\n",
      "Vistara      557\n",
      "Go First     414\n",
      "Air Asia     373\n",
      "SpiceJet     334\n",
      "Air India    265\n",
      "Name: Airline, dtype: int64\n",
      "\n",
      "\n",
      "Date 20-10-2021    195\n",
      "17-10-2021    195\n",
      "12-10-2021    195\n",
      "16-10-2021    195\n",
      "10-10-2021    185\n",
      "14-10-2021    155\n",
      "21-10-2021    130\n",
      "18-10-2021    130\n",
      "28-10-2021    130\n",
      "29-10-2021    130\n",
      "11-10-2021    130\n",
      "25-10-2021    130\n",
      "24-10-2021    130\n",
      "13-10-2021    130\n",
      "22-10-2021     65\n",
      "30-10-2021     65\n",
      "26-10-2021     65\n",
      "23-10-2021     65\n",
      "31-10-2021     65\n",
      "15-10-2021     65\n",
      "19-10-2021     65\n",
      "27-10-2021     65\n",
      "09-10-2021     56\n",
      "Name: Date, dtype: int64\n",
      "\n",
      "\n",
      "Source City New Delhi    1620\n",
      "Mumbai       1116\n",
      "Name: Source City, dtype: int64\n",
      "\n",
      "\n",
      "Destination City Mumbai       1129\n",
      "Kolkata      1116\n",
      "Bangalore     491\n",
      "Name: Destination City, dtype: int64\n",
      "\n",
      "\n",
      "Departure Time 08:00    67\n",
      "17:45    55\n",
      "19:45    50\n",
      "22:45    49\n",
      "07:30    47\n",
      "         ..\n",
      "06:30     1\n",
      "22:30     1\n",
      "16:30     1\n",
      "08:35     1\n",
      "10:30     1\n",
      "Name: Departure Time, Length: 173, dtype: int64\n",
      "\n",
      "\n",
      "Arrival Time 21:30             70\n",
      "22:45             62\n",
      "08:20\\n+ 1 day    61\n",
      "16:55             59\n",
      "22:40             59\n",
      "                  ..\n",
      "11:00              1\n",
      "03:35              1\n",
      "04:30\\n+ 1 day     1\n",
      "12:50\\n+ 1 day     1\n",
      "17:05\\n+ 1 day     1\n",
      "Name: Arrival Time, Length: 229, dtype: int64\n",
      "\n",
      "\n",
      "Duration 2h 10m     203\n",
      "2h 05m     174\n",
      "2h 15m     131\n",
      "2h 45m      76\n",
      "2h 20m      75\n",
      "          ... \n",
      "21h 00m      1\n",
      "26h 50m      1\n",
      "28h 15m      1\n",
      "26h 00m      1\n",
      "25h 00m      1\n",
      "Name: Duration, Length: 223, dtype: int64\n",
      "\n",
      "\n",
      "Stops 1 Stop       1708\n",
      "Non Stop      970\n",
      "2 Stop(s)      56\n",
      "3 Stop(s)       2\n",
      "Name: Stops, dtype: int64\n",
      "\n",
      "\n",
      "Price 5,955     615\n",
      "5,954     177\n",
      "8,794     177\n",
      "7,412     172\n",
      "7,425     160\n",
      "         ... \n",
      "10,878      1\n",
      "9,210       1\n",
      "9,350       1\n",
      "7,997       1\n",
      "12,769      1\n",
      "Name: Price, Length: 215, dtype: int64\n"
     ]
    }
   ],
   "source": [
    "#lets print out the columns with unique values\n",
    "for i in df.columns:\n",
    "    if df[i].dtype == 'object':\n",
    "        print('\\n')\n",
    "        print(i,df[i].value_counts())"
   ]
  },
  {
   "cell_type": "code",
   "execution_count": 245,
   "id": "78622d44",
   "metadata": {},
   "outputs": [
    {
     "data": {
      "image/png": "[encoded data removed]",
      "text/plain": [
       "<Figure size 720x360 with 2 Axes>"
      ]
     },
     "metadata": {
      "needs_background": "light"
     },
     "output_type": "display_data"
    }
   ],
   "source": [
    "plt.figure(figsize=(10,5))\n",
    "sns.heatmap(df.isnull())\n",
    "plt.show()"
   ]
  },
  {
   "cell_type": "markdown",
   "id": "03770010",
   "metadata": {},
   "source": [
    "## Data Preprocessing"
   ]
  },
  {
   "cell_type": "code",
   "execution_count": 246,
   "id": "940087c9",
   "metadata": {},
   "outputs": [],
   "source": [
    "df['Dates'] =  pd.to_datetime(df['Date'],format=\"%d-%m-%Y\")  #converting to date datatype"
   ]
  },
  {
   "cell_type": "code",
   "execution_count": 247,
   "id": "4695d0b6",
   "metadata": {},
   "outputs": [
    {
     "data": {
      "text/plain": [
       "Int64Index([10], dtype='int64', name='Dates')"
      ]
     },
     "execution_count": 247,
     "metadata": {},
     "output_type": "execute_result"
    }
   ],
   "source": [
    "pd.DatetimeIndex(df['Dates']).month.unique()"
   ]
  },
  {
   "cell_type": "code",
   "execution_count": 248,
   "id": "ce6ad1d3",
   "metadata": {},
   "outputs": [],
   "source": [
    "#Dropping the old date column\n",
    "df.drop(\"Date\",axis =1 ,inplace = True)"
   ]
  },
  {
   "cell_type": "code",
   "execution_count": 249,
   "id": "b948fca9",
   "metadata": {},
   "outputs": [
    {
     "data": {
      "text/html": [
       "<div>\n",
       "<style scoped>\n",
       "    .dataframe tbody tr th:only-of-type {\n",
       "        vertical-align: middle;\n",
       "    }\n",
       "\n",
       "    .dataframe tbody tr th {\n",
       "        vertical-align: top;\n",
       "    }\n",
       "\n",
       "    .dataframe thead th {\n",
       "        text-align: right;\n",
       "    }\n",
       "</style>\n",
       "<table border=\"1\" class=\"dataframe\">\n",
       "  <thead>\n",
       "    <tr style=\"text-align: right;\">\n",
       "      <th></th>\n",
       "      <th>Airline</th>\n",
       "      <th>Source City</th>\n",
       "      <th>Destination City</th>\n",
       "      <th>Departure Time</th>\n",
       "      <th>Arrival Time</th>\n",
       "      <th>Duration</th>\n",
       "      <th>Stops</th>\n",
       "      <th>Price</th>\n",
       "      <th>Dates</th>\n",
       "    </tr>\n",
       "  </thead>\n",
       "  <tbody>\n",
       "    <tr>\n",
       "      <th>0</th>\n",
       "      <td>Go First</td>\n",
       "      <td>New Delhi</td>\n",
       "      <td>Bangalore</td>\n",
       "      <td>19:45</td>\n",
       "      <td>22:20</td>\n",
       "      <td>2h 35m</td>\n",
       "      <td>Non Stop</td>\n",
       "      <td>7,424</td>\n",
       "      <td>2021-10-09</td>\n",
       "    </tr>\n",
       "    <tr>\n",
       "      <th>1</th>\n",
       "      <td>Go First</td>\n",
       "      <td>New Delhi</td>\n",
       "      <td>Bangalore</td>\n",
       "      <td>22:45</td>\n",
       "      <td>07:45\\n+ 1 day</td>\n",
       "      <td>9h 00m</td>\n",
       "      <td>1 Stop</td>\n",
       "      <td>7,424</td>\n",
       "      <td>2021-10-09</td>\n",
       "    </tr>\n",
       "    <tr>\n",
       "      <th>2</th>\n",
       "      <td>Vistara</td>\n",
       "      <td>New Delhi</td>\n",
       "      <td>Bangalore</td>\n",
       "      <td>20:40</td>\n",
       "      <td>23:20</td>\n",
       "      <td>2h 40m</td>\n",
       "      <td>Non Stop</td>\n",
       "      <td>7,425</td>\n",
       "      <td>2021-10-09</td>\n",
       "    </tr>\n",
       "    <tr>\n",
       "      <th>3</th>\n",
       "      <td>SpiceJet</td>\n",
       "      <td>New Delhi</td>\n",
       "      <td>Bangalore</td>\n",
       "      <td>21:50</td>\n",
       "      <td>00:35\\n+ 1 day</td>\n",
       "      <td>2h 45m</td>\n",
       "      <td>Non Stop</td>\n",
       "      <td>7,425</td>\n",
       "      <td>2021-10-09</td>\n",
       "    </tr>\n",
       "    <tr>\n",
       "      <th>4</th>\n",
       "      <td>IndiGo</td>\n",
       "      <td>New Delhi</td>\n",
       "      <td>Bangalore</td>\n",
       "      <td>22:20</td>\n",
       "      <td>01:05\\n+ 1 day</td>\n",
       "      <td>2h 45m</td>\n",
       "      <td>Non Stop</td>\n",
       "      <td>7,425</td>\n",
       "      <td>2021-10-09</td>\n",
       "    </tr>\n",
       "  </tbody>\n",
       "</table>\n",
       "</div>"
      ],
      "text/plain": [
       "    Airline Source City Destination City Departure Time    Arrival Time  \\\n",
       "0  Go First   New Delhi        Bangalore          19:45           22:20   \n",
       "1  Go First   New Delhi        Bangalore          22:45  07:45\\n+ 1 day   \n",
       "2   Vistara   New Delhi        Bangalore          20:40           23:20   \n",
       "3  SpiceJet   New Delhi        Bangalore          21:50  00:35\\n+ 1 day   \n",
       "4    IndiGo   New Delhi        Bangalore          22:20  01:05\\n+ 1 day   \n",
       "\n",
       "  Duration     Stops  Price      Dates  \n",
       "0   2h 35m  Non Stop  7,424 2021-10-09  \n",
       "1   9h 00m    1 Stop  7,424 2021-10-09  \n",
       "2   2h 40m  Non Stop  7,425 2021-10-09  \n",
       "3   2h 45m  Non Stop  7,425 2021-10-09  \n",
       "4   2h 45m  Non Stop  7,425 2021-10-09  "
      ]
     },
     "execution_count": 249,
     "metadata": {},
     "output_type": "execute_result"
    }
   ],
   "source": [
    "df.head()"
   ]
  },
  {
   "cell_type": "code",
   "execution_count": 250,
   "id": "7928a685",
   "metadata": {},
   "outputs": [],
   "source": [
    "#converting price to float\n",
    "df['Price']= df.Price.str.replace(\",\",\"\")"
   ]
  },
  {
   "cell_type": "code",
   "execution_count": 251,
   "id": "bdaf8777",
   "metadata": {},
   "outputs": [],
   "source": [
    "#lets convert the price to float datatype\n",
    "df['Price']= df['Price'].astype(\"float64\")"
   ]
  },
  {
   "cell_type": "code",
   "execution_count": 252,
   "id": "538b6326",
   "metadata": {},
   "outputs": [
    {
     "data": {
      "text/plain": [
       "Airline                     object\n",
       "Source City                 object\n",
       "Destination City            object\n",
       "Departure Time              object\n",
       "Arrival Time                object\n",
       "Duration                    object\n",
       "Stops                       object\n",
       "Price                      float64\n",
       "Dates               datetime64[ns]\n",
       "dtype: object"
      ]
     },
     "execution_count": 252,
     "metadata": {},
     "output_type": "execute_result"
    }
   ],
   "source": [
    "df.dtypes"
   ]
  },
  {
   "cell_type": "code",
   "execution_count": 253,
   "id": "258cf143",
   "metadata": {},
   "outputs": [],
   "source": [
    "#Converting duration columns to minutes \n",
    "\n",
    "def minutes(x):\n",
    "    hour, minute = x.split(\"h\")\n",
    "    minutes = (60 * int(hour)) + int(minute.strip(\"m\"))\n",
    "    return float(minutes)"
   ]
  },
  {
   "cell_type": "code",
   "execution_count": 254,
   "id": "e452a6c3",
   "metadata": {},
   "outputs": [],
   "source": [
    "#applying the above function\n",
    "df['Duration_in_Minutes'] = df.Duration.apply(minutes)"
   ]
  },
  {
   "cell_type": "code",
   "execution_count": 255,
   "id": "1b61cac1",
   "metadata": {},
   "outputs": [],
   "source": [
    "#dropping the old column\n",
    "df.drop(\"Duration\",axis = 1,inplace= True)"
   ]
  },
  {
   "cell_type": "code",
   "execution_count": 256,
   "id": "73400e19",
   "metadata": {},
   "outputs": [
    {
     "data": {
      "text/plain": [
       "Airline                        object\n",
       "Source City                    object\n",
       "Destination City               object\n",
       "Departure Time                 object\n",
       "Arrival Time                   object\n",
       "Stops                          object\n",
       "Price                         float64\n",
       "Dates                  datetime64[ns]\n",
       "Duration_in_Minutes           float64\n",
       "dtype: object"
      ]
     },
     "execution_count": 256,
     "metadata": {},
     "output_type": "execute_result"
    }
   ],
   "source": [
    "df.dtypes"
   ]
  },
  {
   "cell_type": "code",
   "execution_count": 257,
   "id": "c5a4fac1",
   "metadata": {},
   "outputs": [],
   "source": [
    "def next_day(x):\n",
    "    if \"\\n\" in x:\n",
    "        return \"Yes\"\n",
    "    else:\n",
    "        return \"No\""
   ]
  },
  {
   "cell_type": "code",
   "execution_count": 258,
   "id": "d4755a95",
   "metadata": {},
   "outputs": [],
   "source": [
    "#creating a new column using the existing information \n",
    "#if flight reaches the destination next day i.e after 12 am\n",
    "df[\"Next_day_Arrival\"] = df[\"Arrival Time\"].apply(next_day)"
   ]
  },
  {
   "cell_type": "code",
   "execution_count": 259,
   "id": "b24930ce",
   "metadata": {},
   "outputs": [
    {
     "data": {
      "text/html": [
       "<div>\n",
       "<style scoped>\n",
       "    .dataframe tbody tr th:only-of-type {\n",
       "        vertical-align: middle;\n",
       "    }\n",
       "\n",
       "    .dataframe tbody tr th {\n",
       "        vertical-align: top;\n",
       "    }\n",
       "\n",
       "    .dataframe thead th {\n",
       "        text-align: right;\n",
       "    }\n",
       "</style>\n",
       "<table border=\"1\" class=\"dataframe\">\n",
       "  <thead>\n",
       "    <tr style=\"text-align: right;\">\n",
       "      <th></th>\n",
       "      <th>Airline</th>\n",
       "      <th>Source City</th>\n",
       "      <th>Destination City</th>\n",
       "      <th>Departure Time</th>\n",
       "      <th>Arrival Time</th>\n",
       "      <th>Stops</th>\n",
       "      <th>Price</th>\n",
       "      <th>Dates</th>\n",
       "      <th>Duration_in_Minutes</th>\n",
       "      <th>Next_day_Arrival</th>\n",
       "    </tr>\n",
       "  </thead>\n",
       "  <tbody>\n",
       "    <tr>\n",
       "      <th>0</th>\n",
       "      <td>Go First</td>\n",
       "      <td>New Delhi</td>\n",
       "      <td>Bangalore</td>\n",
       "      <td>19:45</td>\n",
       "      <td>22:20</td>\n",
       "      <td>Non Stop</td>\n",
       "      <td>7424.0</td>\n",
       "      <td>2021-10-09</td>\n",
       "      <td>155.0</td>\n",
       "      <td>No</td>\n",
       "    </tr>\n",
       "    <tr>\n",
       "      <th>1</th>\n",
       "      <td>Go First</td>\n",
       "      <td>New Delhi</td>\n",
       "      <td>Bangalore</td>\n",
       "      <td>22:45</td>\n",
       "      <td>07:45\\n+ 1 day</td>\n",
       "      <td>1 Stop</td>\n",
       "      <td>7424.0</td>\n",
       "      <td>2021-10-09</td>\n",
       "      <td>540.0</td>\n",
       "      <td>Yes</td>\n",
       "    </tr>\n",
       "    <tr>\n",
       "      <th>2</th>\n",
       "      <td>Vistara</td>\n",
       "      <td>New Delhi</td>\n",
       "      <td>Bangalore</td>\n",
       "      <td>20:40</td>\n",
       "      <td>23:20</td>\n",
       "      <td>Non Stop</td>\n",
       "      <td>7425.0</td>\n",
       "      <td>2021-10-09</td>\n",
       "      <td>160.0</td>\n",
       "      <td>No</td>\n",
       "    </tr>\n",
       "    <tr>\n",
       "      <th>3</th>\n",
       "      <td>SpiceJet</td>\n",
       "      <td>New Delhi</td>\n",
       "      <td>Bangalore</td>\n",
       "      <td>21:50</td>\n",
       "      <td>00:35\\n+ 1 day</td>\n",
       "      <td>Non Stop</td>\n",
       "      <td>7425.0</td>\n",
       "      <td>2021-10-09</td>\n",
       "      <td>165.0</td>\n",
       "      <td>Yes</td>\n",
       "    </tr>\n",
       "    <tr>\n",
       "      <th>4</th>\n",
       "      <td>IndiGo</td>\n",
       "      <td>New Delhi</td>\n",
       "      <td>Bangalore</td>\n",
       "      <td>22:20</td>\n",
       "      <td>01:05\\n+ 1 day</td>\n",
       "      <td>Non Stop</td>\n",
       "      <td>7425.0</td>\n",
       "      <td>2021-10-09</td>\n",
       "      <td>165.0</td>\n",
       "      <td>Yes</td>\n",
       "    </tr>\n",
       "  </tbody>\n",
       "</table>\n",
       "</div>"
      ],
      "text/plain": [
       "    Airline Source City Destination City Departure Time    Arrival Time  \\\n",
       "0  Go First   New Delhi        Bangalore          19:45           22:20   \n",
       "1  Go First   New Delhi        Bangalore          22:45  07:45\\n+ 1 day   \n",
       "2   Vistara   New Delhi        Bangalore          20:40           23:20   \n",
       "3  SpiceJet   New Delhi        Bangalore          21:50  00:35\\n+ 1 day   \n",
       "4    IndiGo   New Delhi        Bangalore          22:20  01:05\\n+ 1 day   \n",
       "\n",
       "      Stops   Price      Dates  Duration_in_Minutes Next_day_Arrival  \n",
       "0  Non Stop  7424.0 2021-10-09                155.0               No  \n",
       "1    1 Stop  7424.0 2021-10-09                540.0              Yes  \n",
       "2  Non Stop  7425.0 2021-10-09                160.0               No  \n",
       "3  Non Stop  7425.0 2021-10-09                165.0              Yes  \n",
       "4  Non Stop  7425.0 2021-10-09                165.0              Yes  "
      ]
     },
     "execution_count": 259,
     "metadata": {},
     "output_type": "execute_result"
    }
   ],
   "source": [
    "df.head()"
   ]
  },
  {
   "cell_type": "code",
   "execution_count": 260,
   "id": "55345a12",
   "metadata": {},
   "outputs": [],
   "source": [
    "import re\n",
    "def Arrival(x):\n",
    "    a = re.search(r\"\\d\\d:\\d\\d\",x)\n",
    "    return a.group()"
   ]
  },
  {
   "cell_type": "code",
   "execution_count": 261,
   "id": "704bb781",
   "metadata": {},
   "outputs": [],
   "source": [
    "\n",
    "#removing the \"\\n+1 day\" from arrival date\n",
    "df[\"Arrival_Time\"] = df[\"Arrival Time\"].apply(Arrival)"
   ]
  },
  {
   "cell_type": "code",
   "execution_count": 262,
   "id": "35508d22",
   "metadata": {},
   "outputs": [
    {
     "data": {
      "text/html": [
       "<div>\n",
       "<style scoped>\n",
       "    .dataframe tbody tr th:only-of-type {\n",
       "        vertical-align: middle;\n",
       "    }\n",
       "\n",
       "    .dataframe tbody tr th {\n",
       "        vertical-align: top;\n",
       "    }\n",
       "\n",
       "    .dataframe thead th {\n",
       "        text-align: right;\n",
       "    }\n",
       "</style>\n",
       "<table border=\"1\" class=\"dataframe\">\n",
       "  <thead>\n",
       "    <tr style=\"text-align: right;\">\n",
       "      <th></th>\n",
       "      <th>Airline</th>\n",
       "      <th>Source City</th>\n",
       "      <th>Destination City</th>\n",
       "      <th>Departure Time</th>\n",
       "      <th>Stops</th>\n",
       "      <th>Price</th>\n",
       "      <th>Dates</th>\n",
       "      <th>Duration_in_Minutes</th>\n",
       "      <th>Next_day_Arrival</th>\n",
       "      <th>Arrival_Time</th>\n",
       "    </tr>\n",
       "  </thead>\n",
       "  <tbody>\n",
       "    <tr>\n",
       "      <th>0</th>\n",
       "      <td>Go First</td>\n",
       "      <td>New Delhi</td>\n",
       "      <td>Bangalore</td>\n",
       "      <td>19:45</td>\n",
       "      <td>Non Stop</td>\n",
       "      <td>7424.0</td>\n",
       "      <td>2021-10-09</td>\n",
       "      <td>155.0</td>\n",
       "      <td>No</td>\n",
       "      <td>22:20</td>\n",
       "    </tr>\n",
       "    <tr>\n",
       "      <th>1</th>\n",
       "      <td>Go First</td>\n",
       "      <td>New Delhi</td>\n",
       "      <td>Bangalore</td>\n",
       "      <td>22:45</td>\n",
       "      <td>1 Stop</td>\n",
       "      <td>7424.0</td>\n",
       "      <td>2021-10-09</td>\n",
       "      <td>540.0</td>\n",
       "      <td>Yes</td>\n",
       "      <td>07:45</td>\n",
       "    </tr>\n",
       "    <tr>\n",
       "      <th>2</th>\n",
       "      <td>Vistara</td>\n",
       "      <td>New Delhi</td>\n",
       "      <td>Bangalore</td>\n",
       "      <td>20:40</td>\n",
       "      <td>Non Stop</td>\n",
       "      <td>7425.0</td>\n",
       "      <td>2021-10-09</td>\n",
       "      <td>160.0</td>\n",
       "      <td>No</td>\n",
       "      <td>23:20</td>\n",
       "    </tr>\n",
       "    <tr>\n",
       "      <th>3</th>\n",
       "      <td>SpiceJet</td>\n",
       "      <td>New Delhi</td>\n",
       "      <td>Bangalore</td>\n",
       "      <td>21:50</td>\n",
       "      <td>Non Stop</td>\n",
       "      <td>7425.0</td>\n",
       "      <td>2021-10-09</td>\n",
       "      <td>165.0</td>\n",
       "      <td>Yes</td>\n",
       "      <td>00:35</td>\n",
       "    </tr>\n",
       "    <tr>\n",
       "      <th>4</th>\n",
       "      <td>IndiGo</td>\n",
       "      <td>New Delhi</td>\n",
       "      <td>Bangalore</td>\n",
       "      <td>22:20</td>\n",
       "      <td>Non Stop</td>\n",
       "      <td>7425.0</td>\n",
       "      <td>2021-10-09</td>\n",
       "      <td>165.0</td>\n",
       "      <td>Yes</td>\n",
       "      <td>01:05</td>\n",
       "    </tr>\n",
       "  </tbody>\n",
       "</table>\n",
       "</div>"
      ],
      "text/plain": [
       "    Airline Source City Destination City Departure Time     Stops   Price  \\\n",
       "0  Go First   New Delhi        Bangalore          19:45  Non Stop  7424.0   \n",
       "1  Go First   New Delhi        Bangalore          22:45    1 Stop  7424.0   \n",
       "2   Vistara   New Delhi        Bangalore          20:40  Non Stop  7425.0   \n",
       "3  SpiceJet   New Delhi        Bangalore          21:50  Non Stop  7425.0   \n",
       "4    IndiGo   New Delhi        Bangalore          22:20  Non Stop  7425.0   \n",
       "\n",
       "       Dates  Duration_in_Minutes Next_day_Arrival Arrival_Time  \n",
       "0 2021-10-09                155.0               No        22:20  \n",
       "1 2021-10-09                540.0              Yes        07:45  \n",
       "2 2021-10-09                160.0               No        23:20  \n",
       "3 2021-10-09                165.0              Yes        00:35  \n",
       "4 2021-10-09                165.0              Yes        01:05  "
      ]
     },
     "execution_count": 262,
     "metadata": {},
     "output_type": "execute_result"
    }
   ],
   "source": [
    "#dropping the old column\n",
    "df.drop(\"Arrival Time\",axis = 1,inplace = True)\n",
    "df.head()"
   ]
  },
  {
   "cell_type": "code",
   "execution_count": 263,
   "id": "fa7b3178",
   "metadata": {},
   "outputs": [],
   "source": [
    "#lets extract the departure hour from deaprture time column\n",
    "df[\"Depature_hour\"] = pd.to_datetime(df[\"Departure Time\"])\n",
    "df[\"Depature_hour\"] = pd.DatetimeIndex(df['Depature_hour']).hour"
   ]
  },
  {
   "cell_type": "code",
   "execution_count": 264,
   "id": "d971b00b",
   "metadata": {},
   "outputs": [],
   "source": [
    "#lets extract the Arrival hour from Arrival time column\n",
    "df[\"Arrival_hour\"] = pd.to_datetime(df[\"Arrival_Time\"])\n",
    "df[\"Arrival_hour\"] = pd.DatetimeIndex(df['Arrival_hour']).hour"
   ]
  },
  {
   "cell_type": "code",
   "execution_count": 265,
   "id": "10f10fb2",
   "metadata": {},
   "outputs": [
    {
     "data": {
      "text/html": [
       "<div>\n",
       "<style scoped>\n",
       "    .dataframe tbody tr th:only-of-type {\n",
       "        vertical-align: middle;\n",
       "    }\n",
       "\n",
       "    .dataframe tbody tr th {\n",
       "        vertical-align: top;\n",
       "    }\n",
       "\n",
       "    .dataframe thead th {\n",
       "        text-align: right;\n",
       "    }\n",
       "</style>\n",
       "<table border=\"1\" class=\"dataframe\">\n",
       "  <thead>\n",
       "    <tr style=\"text-align: right;\">\n",
       "      <th></th>\n",
       "      <th>Airline</th>\n",
       "      <th>Source City</th>\n",
       "      <th>Destination City</th>\n",
       "      <th>Departure Time</th>\n",
       "      <th>Stops</th>\n",
       "      <th>Price</th>\n",
       "      <th>Dates</th>\n",
       "      <th>Duration_in_Minutes</th>\n",
       "      <th>Next_day_Arrival</th>\n",
       "      <th>Arrival_Time</th>\n",
       "      <th>Depature_hour</th>\n",
       "      <th>Arrival_hour</th>\n",
       "    </tr>\n",
       "  </thead>\n",
       "  <tbody>\n",
       "    <tr>\n",
       "      <th>0</th>\n",
       "      <td>Go First</td>\n",
       "      <td>New Delhi</td>\n",
       "      <td>Bangalore</td>\n",
       "      <td>19:45</td>\n",
       "      <td>Non Stop</td>\n",
       "      <td>7424.0</td>\n",
       "      <td>2021-10-09</td>\n",
       "      <td>155.0</td>\n",
       "      <td>No</td>\n",
       "      <td>22:20</td>\n",
       "      <td>19</td>\n",
       "      <td>22</td>\n",
       "    </tr>\n",
       "    <tr>\n",
       "      <th>1</th>\n",
       "      <td>Go First</td>\n",
       "      <td>New Delhi</td>\n",
       "      <td>Bangalore</td>\n",
       "      <td>22:45</td>\n",
       "      <td>1 Stop</td>\n",
       "      <td>7424.0</td>\n",
       "      <td>2021-10-09</td>\n",
       "      <td>540.0</td>\n",
       "      <td>Yes</td>\n",
       "      <td>07:45</td>\n",
       "      <td>22</td>\n",
       "      <td>7</td>\n",
       "    </tr>\n",
       "    <tr>\n",
       "      <th>2</th>\n",
       "      <td>Vistara</td>\n",
       "      <td>New Delhi</td>\n",
       "      <td>Bangalore</td>\n",
       "      <td>20:40</td>\n",
       "      <td>Non Stop</td>\n",
       "      <td>7425.0</td>\n",
       "      <td>2021-10-09</td>\n",
       "      <td>160.0</td>\n",
       "      <td>No</td>\n",
       "      <td>23:20</td>\n",
       "      <td>20</td>\n",
       "      <td>23</td>\n",
       "    </tr>\n",
       "    <tr>\n",
       "      <th>3</th>\n",
       "      <td>SpiceJet</td>\n",
       "      <td>New Delhi</td>\n",
       "      <td>Bangalore</td>\n",
       "      <td>21:50</td>\n",
       "      <td>Non Stop</td>\n",
       "      <td>7425.0</td>\n",
       "      <td>2021-10-09</td>\n",
       "      <td>165.0</td>\n",
       "      <td>Yes</td>\n",
       "      <td>00:35</td>\n",
       "      <td>21</td>\n",
       "      <td>0</td>\n",
       "    </tr>\n",
       "    <tr>\n",
       "      <th>4</th>\n",
       "      <td>IndiGo</td>\n",
       "      <td>New Delhi</td>\n",
       "      <td>Bangalore</td>\n",
       "      <td>22:20</td>\n",
       "      <td>Non Stop</td>\n",
       "      <td>7425.0</td>\n",
       "      <td>2021-10-09</td>\n",
       "      <td>165.0</td>\n",
       "      <td>Yes</td>\n",
       "      <td>01:05</td>\n",
       "      <td>22</td>\n",
       "      <td>1</td>\n",
       "    </tr>\n",
       "  </tbody>\n",
       "</table>\n",
       "</div>"
      ],
      "text/plain": [
       "    Airline Source City Destination City Departure Time     Stops   Price  \\\n",
       "0  Go First   New Delhi        Bangalore          19:45  Non Stop  7424.0   \n",
       "1  Go First   New Delhi        Bangalore          22:45    1 Stop  7424.0   \n",
       "2   Vistara   New Delhi        Bangalore          20:40  Non Stop  7425.0   \n",
       "3  SpiceJet   New Delhi        Bangalore          21:50  Non Stop  7425.0   \n",
       "4    IndiGo   New Delhi        Bangalore          22:20  Non Stop  7425.0   \n",
       "\n",
       "       Dates  Duration_in_Minutes Next_day_Arrival Arrival_Time  \\\n",
       "0 2021-10-09                155.0               No        22:20   \n",
       "1 2021-10-09                540.0              Yes        07:45   \n",
       "2 2021-10-09                160.0               No        23:20   \n",
       "3 2021-10-09                165.0              Yes        00:35   \n",
       "4 2021-10-09                165.0              Yes        01:05   \n",
       "\n",
       "   Depature_hour  Arrival_hour  \n",
       "0             19            22  \n",
       "1             22             7  \n",
       "2             20            23  \n",
       "3             21             0  \n",
       "4             22             1  "
      ]
     },
     "execution_count": 265,
     "metadata": {},
     "output_type": "execute_result"
    }
   ],
   "source": [
    "df.head()"
   ]
  },
  {
   "cell_type": "code",
   "execution_count": 266,
   "id": "0b4308b1",
   "metadata": {},
   "outputs": [],
   "source": [
    "#now lets drop Arrival_time and deapture time\n",
    "df.drop([\"Arrival_Time\",\"Departure Time\"],axis =1, inplace = True)"
   ]
  },
  {
   "cell_type": "code",
   "execution_count": 267,
   "id": "59c2a087",
   "metadata": {},
   "outputs": [
    {
     "data": {
      "text/html": [
       "<div>\n",
       "<style scoped>\n",
       "    .dataframe tbody tr th:only-of-type {\n",
       "        vertical-align: middle;\n",
       "    }\n",
       "\n",
       "    .dataframe tbody tr th {\n",
       "        vertical-align: top;\n",
       "    }\n",
       "\n",
       "    .dataframe thead th {\n",
       "        text-align: right;\n",
       "    }\n",
       "</style>\n",
       "<table border=\"1\" class=\"dataframe\">\n",
       "  <thead>\n",
       "    <tr style=\"text-align: right;\">\n",
       "      <th></th>\n",
       "      <th>Airline</th>\n",
       "      <th>Source City</th>\n",
       "      <th>Destination City</th>\n",
       "      <th>Stops</th>\n",
       "      <th>Price</th>\n",
       "      <th>Dates</th>\n",
       "      <th>Duration_in_Minutes</th>\n",
       "      <th>Next_day_Arrival</th>\n",
       "      <th>Depature_hour</th>\n",
       "      <th>Arrival_hour</th>\n",
       "    </tr>\n",
       "  </thead>\n",
       "  <tbody>\n",
       "    <tr>\n",
       "      <th>0</th>\n",
       "      <td>Go First</td>\n",
       "      <td>New Delhi</td>\n",
       "      <td>Bangalore</td>\n",
       "      <td>Non Stop</td>\n",
       "      <td>7424.0</td>\n",
       "      <td>2021-10-09</td>\n",
       "      <td>155.0</td>\n",
       "      <td>No</td>\n",
       "      <td>19</td>\n",
       "      <td>22</td>\n",
       "    </tr>\n",
       "    <tr>\n",
       "      <th>1</th>\n",
       "      <td>Go First</td>\n",
       "      <td>New Delhi</td>\n",
       "      <td>Bangalore</td>\n",
       "      <td>1 Stop</td>\n",
       "      <td>7424.0</td>\n",
       "      <td>2021-10-09</td>\n",
       "      <td>540.0</td>\n",
       "      <td>Yes</td>\n",
       "      <td>22</td>\n",
       "      <td>7</td>\n",
       "    </tr>\n",
       "    <tr>\n",
       "      <th>2</th>\n",
       "      <td>Vistara</td>\n",
       "      <td>New Delhi</td>\n",
       "      <td>Bangalore</td>\n",
       "      <td>Non Stop</td>\n",
       "      <td>7425.0</td>\n",
       "      <td>2021-10-09</td>\n",
       "      <td>160.0</td>\n",
       "      <td>No</td>\n",
       "      <td>20</td>\n",
       "      <td>23</td>\n",
       "    </tr>\n",
       "    <tr>\n",
       "      <th>3</th>\n",
       "      <td>SpiceJet</td>\n",
       "      <td>New Delhi</td>\n",
       "      <td>Bangalore</td>\n",
       "      <td>Non Stop</td>\n",
       "      <td>7425.0</td>\n",
       "      <td>2021-10-09</td>\n",
       "      <td>165.0</td>\n",
       "      <td>Yes</td>\n",
       "      <td>21</td>\n",
       "      <td>0</td>\n",
       "    </tr>\n",
       "    <tr>\n",
       "      <th>4</th>\n",
       "      <td>IndiGo</td>\n",
       "      <td>New Delhi</td>\n",
       "      <td>Bangalore</td>\n",
       "      <td>Non Stop</td>\n",
       "      <td>7425.0</td>\n",
       "      <td>2021-10-09</td>\n",
       "      <td>165.0</td>\n",
       "      <td>Yes</td>\n",
       "      <td>22</td>\n",
       "      <td>1</td>\n",
       "    </tr>\n",
       "  </tbody>\n",
       "</table>\n",
       "</div>"
      ],
      "text/plain": [
       "    Airline Source City Destination City     Stops   Price      Dates  \\\n",
       "0  Go First   New Delhi        Bangalore  Non Stop  7424.0 2021-10-09   \n",
       "1  Go First   New Delhi        Bangalore    1 Stop  7424.0 2021-10-09   \n",
       "2   Vistara   New Delhi        Bangalore  Non Stop  7425.0 2021-10-09   \n",
       "3  SpiceJet   New Delhi        Bangalore  Non Stop  7425.0 2021-10-09   \n",
       "4    IndiGo   New Delhi        Bangalore  Non Stop  7425.0 2021-10-09   \n",
       "\n",
       "   Duration_in_Minutes Next_day_Arrival  Depature_hour  Arrival_hour  \n",
       "0                155.0               No             19            22  \n",
       "1                540.0              Yes             22             7  \n",
       "2                160.0               No             20            23  \n",
       "3                165.0              Yes             21             0  \n",
       "4                165.0              Yes             22             1  "
      ]
     },
     "execution_count": 267,
     "metadata": {},
     "output_type": "execute_result"
    }
   ],
   "source": [
    "df.head()"
   ]
  },
  {
   "cell_type": "code",
   "execution_count": 268,
   "id": "84a4de2f",
   "metadata": {},
   "outputs": [],
   "source": [
    "#lets extract the time of the day from this column Dep_hour and Arrival_hour column\n",
    "#lets write a function for this\n",
    "def part_of_the_day(x):\n",
    "    if (x > 4) and (x <= 8):\n",
    "        return 'Early Morning'\n",
    "    elif (x > 8) and (x <= 12 ):\n",
    "        return 'Morning'\n",
    "    elif (x > 12) and (x <= 16):\n",
    "        return'Noon'\n",
    "    elif (x > 16) and (x <= 20) :\n",
    "        return 'Eve'\n",
    "    elif (x > 20) and (x <= 24):\n",
    "        return'Night'\n",
    "    elif (x <= 4):\n",
    "        return'Late Night'"
   ]
  },
  {
   "cell_type": "code",
   "execution_count": 269,
   "id": "4b05329a",
   "metadata": {},
   "outputs": [],
   "source": [
    "#applying the above fuction to get part of the day column\n",
    "df['Departure_Part_of_the_day'] = df.Depature_hour.apply(part_of_the_day)"
   ]
  },
  {
   "cell_type": "code",
   "execution_count": 270,
   "id": "4e3001b3",
   "metadata": {},
   "outputs": [],
   "source": [
    "#applying the above fuction to get part of the day column\n",
    "df['Arrival_Part_of_the_day'] = df.Arrival_hour.apply(part_of_the_day)"
   ]
  },
  {
   "cell_type": "code",
   "execution_count": 271,
   "id": "b363bb12",
   "metadata": {},
   "outputs": [
    {
     "data": {
      "text/html": [
       "<div>\n",
       "<style scoped>\n",
       "    .dataframe tbody tr th:only-of-type {\n",
       "        vertical-align: middle;\n",
       "    }\n",
       "\n",
       "    .dataframe tbody tr th {\n",
       "        vertical-align: top;\n",
       "    }\n",
       "\n",
       "    .dataframe thead th {\n",
       "        text-align: right;\n",
       "    }\n",
       "</style>\n",
       "<table border=\"1\" class=\"dataframe\">\n",
       "  <thead>\n",
       "    <tr style=\"text-align: right;\">\n",
       "      <th></th>\n",
       "      <th>Airline</th>\n",
       "      <th>Source City</th>\n",
       "      <th>Destination City</th>\n",
       "      <th>Stops</th>\n",
       "      <th>Price</th>\n",
       "      <th>Dates</th>\n",
       "      <th>Duration_in_Minutes</th>\n",
       "      <th>Next_day_Arrival</th>\n",
       "      <th>Depature_hour</th>\n",
       "      <th>Arrival_hour</th>\n",
       "      <th>Departure_Part_of_the_day</th>\n",
       "      <th>Arrival_Part_of_the_day</th>\n",
       "    </tr>\n",
       "  </thead>\n",
       "  <tbody>\n",
       "    <tr>\n",
       "      <th>0</th>\n",
       "      <td>Go First</td>\n",
       "      <td>New Delhi</td>\n",
       "      <td>Bangalore</td>\n",
       "      <td>Non Stop</td>\n",
       "      <td>7424.0</td>\n",
       "      <td>2021-10-09</td>\n",
       "      <td>155.0</td>\n",
       "      <td>No</td>\n",
       "      <td>19</td>\n",
       "      <td>22</td>\n",
       "      <td>Eve</td>\n",
       "      <td>Night</td>\n",
       "    </tr>\n",
       "    <tr>\n",
       "      <th>1</th>\n",
       "      <td>Go First</td>\n",
       "      <td>New Delhi</td>\n",
       "      <td>Bangalore</td>\n",
       "      <td>1 Stop</td>\n",
       "      <td>7424.0</td>\n",
       "      <td>2021-10-09</td>\n",
       "      <td>540.0</td>\n",
       "      <td>Yes</td>\n",
       "      <td>22</td>\n",
       "      <td>7</td>\n",
       "      <td>Night</td>\n",
       "      <td>Early Morning</td>\n",
       "    </tr>\n",
       "    <tr>\n",
       "      <th>2</th>\n",
       "      <td>Vistara</td>\n",
       "      <td>New Delhi</td>\n",
       "      <td>Bangalore</td>\n",
       "      <td>Non Stop</td>\n",
       "      <td>7425.0</td>\n",
       "      <td>2021-10-09</td>\n",
       "      <td>160.0</td>\n",
       "      <td>No</td>\n",
       "      <td>20</td>\n",
       "      <td>23</td>\n",
       "      <td>Eve</td>\n",
       "      <td>Night</td>\n",
       "    </tr>\n",
       "    <tr>\n",
       "      <th>3</th>\n",
       "      <td>SpiceJet</td>\n",
       "      <td>New Delhi</td>\n",
       "      <td>Bangalore</td>\n",
       "      <td>Non Stop</td>\n",
       "      <td>7425.0</td>\n",
       "      <td>2021-10-09</td>\n",
       "      <td>165.0</td>\n",
       "      <td>Yes</td>\n",
       "      <td>21</td>\n",
       "      <td>0</td>\n",
       "      <td>Night</td>\n",
       "      <td>Late Night</td>\n",
       "    </tr>\n",
       "    <tr>\n",
       "      <th>4</th>\n",
       "      <td>IndiGo</td>\n",
       "      <td>New Delhi</td>\n",
       "      <td>Bangalore</td>\n",
       "      <td>Non Stop</td>\n",
       "      <td>7425.0</td>\n",
       "      <td>2021-10-09</td>\n",
       "      <td>165.0</td>\n",
       "      <td>Yes</td>\n",
       "      <td>22</td>\n",
       "      <td>1</td>\n",
       "      <td>Night</td>\n",
       "      <td>Late Night</td>\n",
       "    </tr>\n",
       "  </tbody>\n",
       "</table>\n",
       "</div>"
      ],
      "text/plain": [
       "    Airline Source City Destination City     Stops   Price      Dates  \\\n",
       "0  Go First   New Delhi        Bangalore  Non Stop  7424.0 2021-10-09   \n",
       "1  Go First   New Delhi        Bangalore    1 Stop  7424.0 2021-10-09   \n",
       "2   Vistara   New Delhi        Bangalore  Non Stop  7425.0 2021-10-09   \n",
       "3  SpiceJet   New Delhi        Bangalore  Non Stop  7425.0 2021-10-09   \n",
       "4    IndiGo   New Delhi        Bangalore  Non Stop  7425.0 2021-10-09   \n",
       "\n",
       "   Duration_in_Minutes Next_day_Arrival  Depature_hour  Arrival_hour  \\\n",
       "0                155.0               No             19            22   \n",
       "1                540.0              Yes             22             7   \n",
       "2                160.0               No             20            23   \n",
       "3                165.0              Yes             21             0   \n",
       "4                165.0              Yes             22             1   \n",
       "\n",
       "  Departure_Part_of_the_day Arrival_Part_of_the_day  \n",
       "0                       Eve                   Night  \n",
       "1                     Night           Early Morning  \n",
       "2                       Eve                   Night  \n",
       "3                     Night              Late Night  \n",
       "4                     Night              Late Night  "
      ]
     },
     "execution_count": 271,
     "metadata": {},
     "output_type": "execute_result"
    }
   ],
   "source": [
    "df.head()"
   ]
  },
  {
   "cell_type": "code",
   "execution_count": 272,
   "id": "f57a08c2",
   "metadata": {},
   "outputs": [],
   "source": [
    "#now lets drop Arrival_hour and deapture_hour\n",
    "df.drop([\"Arrival_hour\",\"Depature_hour\"],axis =1, inplace = True)"
   ]
  },
  {
   "cell_type": "code",
   "execution_count": 273,
   "id": "e893ce36",
   "metadata": {},
   "outputs": [
    {
     "data": {
      "text/html": [
       "<div>\n",
       "<style scoped>\n",
       "    .dataframe tbody tr th:only-of-type {\n",
       "        vertical-align: middle;\n",
       "    }\n",
       "\n",
       "    .dataframe tbody tr th {\n",
       "        vertical-align: top;\n",
       "    }\n",
       "\n",
       "    .dataframe thead th {\n",
       "        text-align: right;\n",
       "    }\n",
       "</style>\n",
       "<table border=\"1\" class=\"dataframe\">\n",
       "  <thead>\n",
       "    <tr style=\"text-align: right;\">\n",
       "      <th></th>\n",
       "      <th>Airline</th>\n",
       "      <th>Source City</th>\n",
       "      <th>Destination City</th>\n",
       "      <th>Stops</th>\n",
       "      <th>Price</th>\n",
       "      <th>Dates</th>\n",
       "      <th>Duration_in_Minutes</th>\n",
       "      <th>Next_day_Arrival</th>\n",
       "      <th>Departure_Part_of_the_day</th>\n",
       "      <th>Arrival_Part_of_the_day</th>\n",
       "    </tr>\n",
       "  </thead>\n",
       "  <tbody>\n",
       "    <tr>\n",
       "      <th>0</th>\n",
       "      <td>Go First</td>\n",
       "      <td>New Delhi</td>\n",
       "      <td>Bangalore</td>\n",
       "      <td>Non Stop</td>\n",
       "      <td>7424.0</td>\n",
       "      <td>2021-10-09</td>\n",
       "      <td>155.0</td>\n",
       "      <td>No</td>\n",
       "      <td>Eve</td>\n",
       "      <td>Night</td>\n",
       "    </tr>\n",
       "    <tr>\n",
       "      <th>1</th>\n",
       "      <td>Go First</td>\n",
       "      <td>New Delhi</td>\n",
       "      <td>Bangalore</td>\n",
       "      <td>1 Stop</td>\n",
       "      <td>7424.0</td>\n",
       "      <td>2021-10-09</td>\n",
       "      <td>540.0</td>\n",
       "      <td>Yes</td>\n",
       "      <td>Night</td>\n",
       "      <td>Early Morning</td>\n",
       "    </tr>\n",
       "    <tr>\n",
       "      <th>2</th>\n",
       "      <td>Vistara</td>\n",
       "      <td>New Delhi</td>\n",
       "      <td>Bangalore</td>\n",
       "      <td>Non Stop</td>\n",
       "      <td>7425.0</td>\n",
       "      <td>2021-10-09</td>\n",
       "      <td>160.0</td>\n",
       "      <td>No</td>\n",
       "      <td>Eve</td>\n",
       "      <td>Night</td>\n",
       "    </tr>\n",
       "    <tr>\n",
       "      <th>3</th>\n",
       "      <td>SpiceJet</td>\n",
       "      <td>New Delhi</td>\n",
       "      <td>Bangalore</td>\n",
       "      <td>Non Stop</td>\n",
       "      <td>7425.0</td>\n",
       "      <td>2021-10-09</td>\n",
       "      <td>165.0</td>\n",
       "      <td>Yes</td>\n",
       "      <td>Night</td>\n",
       "      <td>Late Night</td>\n",
       "    </tr>\n",
       "    <tr>\n",
       "      <th>4</th>\n",
       "      <td>IndiGo</td>\n",
       "      <td>New Delhi</td>\n",
       "      <td>Bangalore</td>\n",
       "      <td>Non Stop</td>\n",
       "      <td>7425.0</td>\n",
       "      <td>2021-10-09</td>\n",
       "      <td>165.0</td>\n",
       "      <td>Yes</td>\n",
       "      <td>Night</td>\n",
       "      <td>Late Night</td>\n",
       "    </tr>\n",
       "  </tbody>\n",
       "</table>\n",
       "</div>"
      ],
      "text/plain": [
       "    Airline Source City Destination City     Stops   Price      Dates  \\\n",
       "0  Go First   New Delhi        Bangalore  Non Stop  7424.0 2021-10-09   \n",
       "1  Go First   New Delhi        Bangalore    1 Stop  7424.0 2021-10-09   \n",
       "2   Vistara   New Delhi        Bangalore  Non Stop  7425.0 2021-10-09   \n",
       "3  SpiceJet   New Delhi        Bangalore  Non Stop  7425.0 2021-10-09   \n",
       "4    IndiGo   New Delhi        Bangalore  Non Stop  7425.0 2021-10-09   \n",
       "\n",
       "   Duration_in_Minutes Next_day_Arrival Departure_Part_of_the_day  \\\n",
       "0                155.0               No                       Eve   \n",
       "1                540.0              Yes                     Night   \n",
       "2                160.0               No                       Eve   \n",
       "3                165.0              Yes                     Night   \n",
       "4                165.0              Yes                     Night   \n",
       "\n",
       "  Arrival_Part_of_the_day  \n",
       "0                   Night  \n",
       "1           Early Morning  \n",
       "2                   Night  \n",
       "3              Late Night  \n",
       "4              Late Night  "
      ]
     },
     "execution_count": 273,
     "metadata": {},
     "output_type": "execute_result"
    }
   ],
   "source": [
    "df.head()"
   ]
  },
  {
   "cell_type": "code",
   "execution_count": 274,
   "id": "851aa10d",
   "metadata": {},
   "outputs": [],
   "source": [
    "\n",
    "#exatrcting week number\n",
    "df[\"week_num\"] = pd.DatetimeIndex(df[\"Dates\"]).weekday"
   ]
  },
  {
   "cell_type": "code",
   "execution_count": 275,
   "id": "c736722c",
   "metadata": {},
   "outputs": [],
   "source": [
    "#from Dates column we can extarct day and days prior to booking\n",
    "\n",
    "def day(x):\n",
    "    if x == 0:\n",
    "        return \"Monday\"\n",
    "    elif x == 1:\n",
    "        return \"Tuesday\"\n",
    "    elif x == 2:\n",
    "        return \"Wednesday\"\n",
    "    elif x == 3:\n",
    "        return \"Thursday\"\n",
    "    elif x == 4:\n",
    "        return \"Friday\"\n",
    "    elif x == 5:\n",
    "        return \"Saturday\"\n",
    "    elif x == 6:\n",
    "        return \"Sunday\""
   ]
  },
  {
   "cell_type": "code",
   "execution_count": 276,
   "id": "f2df5d82",
   "metadata": {},
   "outputs": [],
   "source": [
    "#extracting the day of the week\n",
    "df[\"Day\"] = df[\"week_num\"].apply(day)"
   ]
  },
  {
   "cell_type": "code",
   "execution_count": 277,
   "id": "c135052e",
   "metadata": {},
   "outputs": [
    {
     "data": {
      "text/html": [
       "<div>\n",
       "<style scoped>\n",
       "    .dataframe tbody tr th:only-of-type {\n",
       "        vertical-align: middle;\n",
       "    }\n",
       "\n",
       "    .dataframe tbody tr th {\n",
       "        vertical-align: top;\n",
       "    }\n",
       "\n",
       "    .dataframe thead th {\n",
       "        text-align: right;\n",
       "    }\n",
       "</style>\n",
       "<table border=\"1\" class=\"dataframe\">\n",
       "  <thead>\n",
       "    <tr style=\"text-align: right;\">\n",
       "      <th></th>\n",
       "      <th>Airline</th>\n",
       "      <th>Source City</th>\n",
       "      <th>Destination City</th>\n",
       "      <th>Stops</th>\n",
       "      <th>Price</th>\n",
       "      <th>Dates</th>\n",
       "      <th>Duration_in_Minutes</th>\n",
       "      <th>Next_day_Arrival</th>\n",
       "      <th>Departure_Part_of_the_day</th>\n",
       "      <th>Arrival_Part_of_the_day</th>\n",
       "      <th>week_num</th>\n",
       "      <th>Day</th>\n",
       "    </tr>\n",
       "  </thead>\n",
       "  <tbody>\n",
       "    <tr>\n",
       "      <th>0</th>\n",
       "      <td>Go First</td>\n",
       "      <td>New Delhi</td>\n",
       "      <td>Bangalore</td>\n",
       "      <td>Non Stop</td>\n",
       "      <td>7424.0</td>\n",
       "      <td>2021-10-09</td>\n",
       "      <td>155.0</td>\n",
       "      <td>No</td>\n",
       "      <td>Eve</td>\n",
       "      <td>Night</td>\n",
       "      <td>5</td>\n",
       "      <td>Saturday</td>\n",
       "    </tr>\n",
       "    <tr>\n",
       "      <th>1</th>\n",
       "      <td>Go First</td>\n",
       "      <td>New Delhi</td>\n",
       "      <td>Bangalore</td>\n",
       "      <td>1 Stop</td>\n",
       "      <td>7424.0</td>\n",
       "      <td>2021-10-09</td>\n",
       "      <td>540.0</td>\n",
       "      <td>Yes</td>\n",
       "      <td>Night</td>\n",
       "      <td>Early Morning</td>\n",
       "      <td>5</td>\n",
       "      <td>Saturday</td>\n",
       "    </tr>\n",
       "    <tr>\n",
       "      <th>2</th>\n",
       "      <td>Vistara</td>\n",
       "      <td>New Delhi</td>\n",
       "      <td>Bangalore</td>\n",
       "      <td>Non Stop</td>\n",
       "      <td>7425.0</td>\n",
       "      <td>2021-10-09</td>\n",
       "      <td>160.0</td>\n",
       "      <td>No</td>\n",
       "      <td>Eve</td>\n",
       "      <td>Night</td>\n",
       "      <td>5</td>\n",
       "      <td>Saturday</td>\n",
       "    </tr>\n",
       "    <tr>\n",
       "      <th>3</th>\n",
       "      <td>SpiceJet</td>\n",
       "      <td>New Delhi</td>\n",
       "      <td>Bangalore</td>\n",
       "      <td>Non Stop</td>\n",
       "      <td>7425.0</td>\n",
       "      <td>2021-10-09</td>\n",
       "      <td>165.0</td>\n",
       "      <td>Yes</td>\n",
       "      <td>Night</td>\n",
       "      <td>Late Night</td>\n",
       "      <td>5</td>\n",
       "      <td>Saturday</td>\n",
       "    </tr>\n",
       "    <tr>\n",
       "      <th>4</th>\n",
       "      <td>IndiGo</td>\n",
       "      <td>New Delhi</td>\n",
       "      <td>Bangalore</td>\n",
       "      <td>Non Stop</td>\n",
       "      <td>7425.0</td>\n",
       "      <td>2021-10-09</td>\n",
       "      <td>165.0</td>\n",
       "      <td>Yes</td>\n",
       "      <td>Night</td>\n",
       "      <td>Late Night</td>\n",
       "      <td>5</td>\n",
       "      <td>Saturday</td>\n",
       "    </tr>\n",
       "  </tbody>\n",
       "</table>\n",
       "</div>"
      ],
      "text/plain": [
       "    Airline Source City Destination City     Stops   Price      Dates  \\\n",
       "0  Go First   New Delhi        Bangalore  Non Stop  7424.0 2021-10-09   \n",
       "1  Go First   New Delhi        Bangalore    1 Stop  7424.0 2021-10-09   \n",
       "2   Vistara   New Delhi        Bangalore  Non Stop  7425.0 2021-10-09   \n",
       "3  SpiceJet   New Delhi        Bangalore  Non Stop  7425.0 2021-10-09   \n",
       "4    IndiGo   New Delhi        Bangalore  Non Stop  7425.0 2021-10-09   \n",
       "\n",
       "   Duration_in_Minutes Next_day_Arrival Departure_Part_of_the_day  \\\n",
       "0                155.0               No                       Eve   \n",
       "1                540.0              Yes                     Night   \n",
       "2                160.0               No                       Eve   \n",
       "3                165.0              Yes                     Night   \n",
       "4                165.0              Yes                     Night   \n",
       "\n",
       "  Arrival_Part_of_the_day  week_num       Day  \n",
       "0                   Night         5  Saturday  \n",
       "1           Early Morning         5  Saturday  \n",
       "2                   Night         5  Saturday  \n",
       "3              Late Night         5  Saturday  \n",
       "4              Late Night         5  Saturday  "
      ]
     },
     "execution_count": 277,
     "metadata": {},
     "output_type": "execute_result"
    }
   ],
   "source": [
    "df.head()"
   ]
  },
  {
   "cell_type": "code",
   "execution_count": 278,
   "id": "4257ebb2",
   "metadata": {},
   "outputs": [],
   "source": [
    "#exatracting only date since i have only scraped data from october 9th to october 31th 2021\n",
    "df[\"only_date\"] = pd.DatetimeIndex(df[\"Dates\"]).day"
   ]
  },
  {
   "cell_type": "code",
   "execution_count": 279,
   "id": "e9195854",
   "metadata": {},
   "outputs": [],
   "source": [
    "#extraxting the days prior to booking column\n",
    "#since i scapred the data on 9th\n",
    "#for 9th days prior booking is zero\n",
    "df[\"Days_priors_booking\"] = df[\"only_date\"] - 9"
   ]
  },
  {
   "cell_type": "code",
   "execution_count": 280,
   "id": "c271a325",
   "metadata": {},
   "outputs": [
    {
     "data": {
      "text/html": [
       "<div>\n",
       "<style scoped>\n",
       "    .dataframe tbody tr th:only-of-type {\n",
       "        vertical-align: middle;\n",
       "    }\n",
       "\n",
       "    .dataframe tbody tr th {\n",
       "        vertical-align: top;\n",
       "    }\n",
       "\n",
       "    .dataframe thead th {\n",
       "        text-align: right;\n",
       "    }\n",
       "</style>\n",
       "<table border=\"1\" class=\"dataframe\">\n",
       "  <thead>\n",
       "    <tr style=\"text-align: right;\">\n",
       "      <th></th>\n",
       "      <th>Airline</th>\n",
       "      <th>Source City</th>\n",
       "      <th>Destination City</th>\n",
       "      <th>Stops</th>\n",
       "      <th>Price</th>\n",
       "      <th>Dates</th>\n",
       "      <th>Duration_in_Minutes</th>\n",
       "      <th>Next_day_Arrival</th>\n",
       "      <th>Departure_Part_of_the_day</th>\n",
       "      <th>Arrival_Part_of_the_day</th>\n",
       "      <th>week_num</th>\n",
       "      <th>Day</th>\n",
       "      <th>only_date</th>\n",
       "      <th>Days_priors_booking</th>\n",
       "    </tr>\n",
       "  </thead>\n",
       "  <tbody>\n",
       "    <tr>\n",
       "      <th>0</th>\n",
       "      <td>Go First</td>\n",
       "      <td>New Delhi</td>\n",
       "      <td>Bangalore</td>\n",
       "      <td>Non Stop</td>\n",
       "      <td>7424.0</td>\n",
       "      <td>2021-10-09</td>\n",
       "      <td>155.0</td>\n",
       "      <td>No</td>\n",
       "      <td>Eve</td>\n",
       "      <td>Night</td>\n",
       "      <td>5</td>\n",
       "      <td>Saturday</td>\n",
       "      <td>9</td>\n",
       "      <td>0</td>\n",
       "    </tr>\n",
       "    <tr>\n",
       "      <th>1</th>\n",
       "      <td>Go First</td>\n",
       "      <td>New Delhi</td>\n",
       "      <td>Bangalore</td>\n",
       "      <td>1 Stop</td>\n",
       "      <td>7424.0</td>\n",
       "      <td>2021-10-09</td>\n",
       "      <td>540.0</td>\n",
       "      <td>Yes</td>\n",
       "      <td>Night</td>\n",
       "      <td>Early Morning</td>\n",
       "      <td>5</td>\n",
       "      <td>Saturday</td>\n",
       "      <td>9</td>\n",
       "      <td>0</td>\n",
       "    </tr>\n",
       "    <tr>\n",
       "      <th>2</th>\n",
       "      <td>Vistara</td>\n",
       "      <td>New Delhi</td>\n",
       "      <td>Bangalore</td>\n",
       "      <td>Non Stop</td>\n",
       "      <td>7425.0</td>\n",
       "      <td>2021-10-09</td>\n",
       "      <td>160.0</td>\n",
       "      <td>No</td>\n",
       "      <td>Eve</td>\n",
       "      <td>Night</td>\n",
       "      <td>5</td>\n",
       "      <td>Saturday</td>\n",
       "      <td>9</td>\n",
       "      <td>0</td>\n",
       "    </tr>\n",
       "    <tr>\n",
       "      <th>3</th>\n",
       "      <td>SpiceJet</td>\n",
       "      <td>New Delhi</td>\n",
       "      <td>Bangalore</td>\n",
       "      <td>Non Stop</td>\n",
       "      <td>7425.0</td>\n",
       "      <td>2021-10-09</td>\n",
       "      <td>165.0</td>\n",
       "      <td>Yes</td>\n",
       "      <td>Night</td>\n",
       "      <td>Late Night</td>\n",
       "      <td>5</td>\n",
       "      <td>Saturday</td>\n",
       "      <td>9</td>\n",
       "      <td>0</td>\n",
       "    </tr>\n",
       "    <tr>\n",
       "      <th>4</th>\n",
       "      <td>IndiGo</td>\n",
       "      <td>New Delhi</td>\n",
       "      <td>Bangalore</td>\n",
       "      <td>Non Stop</td>\n",
       "      <td>7425.0</td>\n",
       "      <td>2021-10-09</td>\n",
       "      <td>165.0</td>\n",
       "      <td>Yes</td>\n",
       "      <td>Night</td>\n",
       "      <td>Late Night</td>\n",
       "      <td>5</td>\n",
       "      <td>Saturday</td>\n",
       "      <td>9</td>\n",
       "      <td>0</td>\n",
       "    </tr>\n",
       "  </tbody>\n",
       "</table>\n",
       "</div>"
      ],
      "text/plain": [
       "    Airline Source City Destination City     Stops   Price      Dates  \\\n",
       "0  Go First   New Delhi        Bangalore  Non Stop  7424.0 2021-10-09   \n",
       "1  Go First   New Delhi        Bangalore    1 Stop  7424.0 2021-10-09   \n",
       "2   Vistara   New Delhi        Bangalore  Non Stop  7425.0 2021-10-09   \n",
       "3  SpiceJet   New Delhi        Bangalore  Non Stop  7425.0 2021-10-09   \n",
       "4    IndiGo   New Delhi        Bangalore  Non Stop  7425.0 2021-10-09   \n",
       "\n",
       "   Duration_in_Minutes Next_day_Arrival Departure_Part_of_the_day  \\\n",
       "0                155.0               No                       Eve   \n",
       "1                540.0              Yes                     Night   \n",
       "2                160.0               No                       Eve   \n",
       "3                165.0              Yes                     Night   \n",
       "4                165.0              Yes                     Night   \n",
       "\n",
       "  Arrival_Part_of_the_day  week_num       Day  only_date  Days_priors_booking  \n",
       "0                   Night         5  Saturday          9                    0  \n",
       "1           Early Morning         5  Saturday          9                    0  \n",
       "2                   Night         5  Saturday          9                    0  \n",
       "3              Late Night         5  Saturday          9                    0  \n",
       "4              Late Night         5  Saturday          9                    0  "
      ]
     },
     "execution_count": 280,
     "metadata": {},
     "output_type": "execute_result"
    }
   ],
   "source": [
    "df.head()"
   ]
  },
  {
   "cell_type": "code",
   "execution_count": 281,
   "id": "ac1d7742",
   "metadata": {},
   "outputs": [],
   "source": [
    "#Now lets drop week_num,only_date,Dates columns\n",
    "df.drop([\"Dates\",\"week_num\",\"only_date\"],axis =1,inplace= True)"
   ]
  },
  {
   "cell_type": "code",
   "execution_count": 282,
   "id": "2ae9ea43",
   "metadata": {},
   "outputs": [
    {
     "data": {
      "text/html": [
       "<div>\n",
       "<style scoped>\n",
       "    .dataframe tbody tr th:only-of-type {\n",
       "        vertical-align: middle;\n",
       "    }\n",
       "\n",
       "    .dataframe tbody tr th {\n",
       "        vertical-align: top;\n",
       "    }\n",
       "\n",
       "    .dataframe thead th {\n",
       "        text-align: right;\n",
       "    }\n",
       "</style>\n",
       "<table border=\"1\" class=\"dataframe\">\n",
       "  <thead>\n",
       "    <tr style=\"text-align: right;\">\n",
       "      <th></th>\n",
       "      <th>Airline</th>\n",
       "      <th>Source City</th>\n",
       "      <th>Destination City</th>\n",
       "      <th>Stops</th>\n",
       "      <th>Price</th>\n",
       "      <th>Duration_in_Minutes</th>\n",
       "      <th>Next_day_Arrival</th>\n",
       "      <th>Departure_Part_of_the_day</th>\n",
       "      <th>Arrival_Part_of_the_day</th>\n",
       "      <th>Day</th>\n",
       "      <th>Days_priors_booking</th>\n",
       "    </tr>\n",
       "  </thead>\n",
       "  <tbody>\n",
       "    <tr>\n",
       "      <th>0</th>\n",
       "      <td>Go First</td>\n",
       "      <td>New Delhi</td>\n",
       "      <td>Bangalore</td>\n",
       "      <td>Non Stop</td>\n",
       "      <td>7424.0</td>\n",
       "      <td>155.0</td>\n",
       "      <td>No</td>\n",
       "      <td>Eve</td>\n",
       "      <td>Night</td>\n",
       "      <td>Saturday</td>\n",
       "      <td>0</td>\n",
       "    </tr>\n",
       "    <tr>\n",
       "      <th>1</th>\n",
       "      <td>Go First</td>\n",
       "      <td>New Delhi</td>\n",
       "      <td>Bangalore</td>\n",
       "      <td>1 Stop</td>\n",
       "      <td>7424.0</td>\n",
       "      <td>540.0</td>\n",
       "      <td>Yes</td>\n",
       "      <td>Night</td>\n",
       "      <td>Early Morning</td>\n",
       "      <td>Saturday</td>\n",
       "      <td>0</td>\n",
       "    </tr>\n",
       "    <tr>\n",
       "      <th>2</th>\n",
       "      <td>Vistara</td>\n",
       "      <td>New Delhi</td>\n",
       "      <td>Bangalore</td>\n",
       "      <td>Non Stop</td>\n",
       "      <td>7425.0</td>\n",
       "      <td>160.0</td>\n",
       "      <td>No</td>\n",
       "      <td>Eve</td>\n",
       "      <td>Night</td>\n",
       "      <td>Saturday</td>\n",
       "      <td>0</td>\n",
       "    </tr>\n",
       "    <tr>\n",
       "      <th>3</th>\n",
       "      <td>SpiceJet</td>\n",
       "      <td>New Delhi</td>\n",
       "      <td>Bangalore</td>\n",
       "      <td>Non Stop</td>\n",
       "      <td>7425.0</td>\n",
       "      <td>165.0</td>\n",
       "      <td>Yes</td>\n",
       "      <td>Night</td>\n",
       "      <td>Late Night</td>\n",
       "      <td>Saturday</td>\n",
       "      <td>0</td>\n",
       "    </tr>\n",
       "    <tr>\n",
       "      <th>4</th>\n",
       "      <td>IndiGo</td>\n",
       "      <td>New Delhi</td>\n",
       "      <td>Bangalore</td>\n",
       "      <td>Non Stop</td>\n",
       "      <td>7425.0</td>\n",
       "      <td>165.0</td>\n",
       "      <td>Yes</td>\n",
       "      <td>Night</td>\n",
       "      <td>Late Night</td>\n",
       "      <td>Saturday</td>\n",
       "      <td>0</td>\n",
       "    </tr>\n",
       "  </tbody>\n",
       "</table>\n",
       "</div>"
      ],
      "text/plain": [
       "    Airline Source City Destination City     Stops   Price  \\\n",
       "0  Go First   New Delhi        Bangalore  Non Stop  7424.0   \n",
       "1  Go First   New Delhi        Bangalore    1 Stop  7424.0   \n",
       "2   Vistara   New Delhi        Bangalore  Non Stop  7425.0   \n",
       "3  SpiceJet   New Delhi        Bangalore  Non Stop  7425.0   \n",
       "4    IndiGo   New Delhi        Bangalore  Non Stop  7425.0   \n",
       "\n",
       "   Duration_in_Minutes Next_day_Arrival Departure_Part_of_the_day  \\\n",
       "0                155.0               No                       Eve   \n",
       "1                540.0              Yes                     Night   \n",
       "2                160.0               No                       Eve   \n",
       "3                165.0              Yes                     Night   \n",
       "4                165.0              Yes                     Night   \n",
       "\n",
       "  Arrival_Part_of_the_day       Day  Days_priors_booking  \n",
       "0                   Night  Saturday                    0  \n",
       "1           Early Morning  Saturday                    0  \n",
       "2                   Night  Saturday                    0  \n",
       "3              Late Night  Saturday                    0  \n",
       "4              Late Night  Saturday                    0  "
      ]
     },
     "execution_count": 282,
     "metadata": {},
     "output_type": "execute_result"
    }
   ],
   "source": [
    "df.head()"
   ]
  },
  {
   "cell_type": "code",
   "execution_count": 283,
   "id": "75e42930",
   "metadata": {},
   "outputs": [],
   "source": [
    "#This is Our final Dataframe after pre-Processing"
   ]
  },
  {
   "cell_type": "code",
   "execution_count": 284,
   "id": "9d915979",
   "metadata": {},
   "outputs": [],
   "source": [
    "#df.to_csv(\"Flights_final_pre.csv\")"
   ]
  },
  {
   "cell_type": "code",
   "execution_count": 285,
   "id": "9921ba7d",
   "metadata": {},
   "outputs": [
    {
     "data": {
      "text/html": [
       "<div>\n",
       "<style scoped>\n",
       "    .dataframe tbody tr th:only-of-type {\n",
       "        vertical-align: middle;\n",
       "    }\n",
       "\n",
       "    .dataframe tbody tr th {\n",
       "        vertical-align: top;\n",
       "    }\n",
       "\n",
       "    .dataframe thead th {\n",
       "        text-align: right;\n",
       "    }\n",
       "</style>\n",
       "<table border=\"1\" class=\"dataframe\">\n",
       "  <thead>\n",
       "    <tr style=\"text-align: right;\">\n",
       "      <th></th>\n",
       "      <th>Airline</th>\n",
       "      <th>Source City</th>\n",
       "      <th>Destination City</th>\n",
       "      <th>Stops</th>\n",
       "      <th>Price</th>\n",
       "      <th>Duration_in_Minutes</th>\n",
       "      <th>Next_day_Arrival</th>\n",
       "      <th>Departure_Part_of_the_day</th>\n",
       "      <th>Arrival_Part_of_the_day</th>\n",
       "      <th>Day</th>\n",
       "      <th>Days_priors_booking</th>\n",
       "    </tr>\n",
       "  </thead>\n",
       "  <tbody>\n",
       "    <tr>\n",
       "      <th>0</th>\n",
       "      <td>Go First</td>\n",
       "      <td>New Delhi</td>\n",
       "      <td>Bangalore</td>\n",
       "      <td>Non Stop</td>\n",
       "      <td>7424.0</td>\n",
       "      <td>155.0</td>\n",
       "      <td>No</td>\n",
       "      <td>Eve</td>\n",
       "      <td>Night</td>\n",
       "      <td>Saturday</td>\n",
       "      <td>0</td>\n",
       "    </tr>\n",
       "    <tr>\n",
       "      <th>1</th>\n",
       "      <td>Go First</td>\n",
       "      <td>New Delhi</td>\n",
       "      <td>Bangalore</td>\n",
       "      <td>1 Stop</td>\n",
       "      <td>7424.0</td>\n",
       "      <td>540.0</td>\n",
       "      <td>Yes</td>\n",
       "      <td>Night</td>\n",
       "      <td>Early Morning</td>\n",
       "      <td>Saturday</td>\n",
       "      <td>0</td>\n",
       "    </tr>\n",
       "    <tr>\n",
       "      <th>2</th>\n",
       "      <td>Vistara</td>\n",
       "      <td>New Delhi</td>\n",
       "      <td>Bangalore</td>\n",
       "      <td>Non Stop</td>\n",
       "      <td>7425.0</td>\n",
       "      <td>160.0</td>\n",
       "      <td>No</td>\n",
       "      <td>Eve</td>\n",
       "      <td>Night</td>\n",
       "      <td>Saturday</td>\n",
       "      <td>0</td>\n",
       "    </tr>\n",
       "    <tr>\n",
       "      <th>3</th>\n",
       "      <td>SpiceJet</td>\n",
       "      <td>New Delhi</td>\n",
       "      <td>Bangalore</td>\n",
       "      <td>Non Stop</td>\n",
       "      <td>7425.0</td>\n",
       "      <td>165.0</td>\n",
       "      <td>Yes</td>\n",
       "      <td>Night</td>\n",
       "      <td>Late Night</td>\n",
       "      <td>Saturday</td>\n",
       "      <td>0</td>\n",
       "    </tr>\n",
       "    <tr>\n",
       "      <th>4</th>\n",
       "      <td>IndiGo</td>\n",
       "      <td>New Delhi</td>\n",
       "      <td>Bangalore</td>\n",
       "      <td>Non Stop</td>\n",
       "      <td>7425.0</td>\n",
       "      <td>165.0</td>\n",
       "      <td>Yes</td>\n",
       "      <td>Night</td>\n",
       "      <td>Late Night</td>\n",
       "      <td>Saturday</td>\n",
       "      <td>0</td>\n",
       "    </tr>\n",
       "    <tr>\n",
       "      <th>...</th>\n",
       "      <td>...</td>\n",
       "      <td>...</td>\n",
       "      <td>...</td>\n",
       "      <td>...</td>\n",
       "      <td>...</td>\n",
       "      <td>...</td>\n",
       "      <td>...</td>\n",
       "      <td>...</td>\n",
       "      <td>...</td>\n",
       "      <td>...</td>\n",
       "      <td>...</td>\n",
       "    </tr>\n",
       "    <tr>\n",
       "      <th>2731</th>\n",
       "      <td>SpiceJet</td>\n",
       "      <td>New Delhi</td>\n",
       "      <td>Mumbai</td>\n",
       "      <td>1 Stop</td>\n",
       "      <td>6271.0</td>\n",
       "      <td>1310.0</td>\n",
       "      <td>Yes</td>\n",
       "      <td>Noon</td>\n",
       "      <td>Morning</td>\n",
       "      <td>Sunday</td>\n",
       "      <td>22</td>\n",
       "    </tr>\n",
       "    <tr>\n",
       "      <th>2732</th>\n",
       "      <td>IndiGo</td>\n",
       "      <td>New Delhi</td>\n",
       "      <td>Mumbai</td>\n",
       "      <td>1 Stop</td>\n",
       "      <td>6443.0</td>\n",
       "      <td>470.0</td>\n",
       "      <td>No</td>\n",
       "      <td>Morning</td>\n",
       "      <td>Eve</td>\n",
       "      <td>Sunday</td>\n",
       "      <td>22</td>\n",
       "    </tr>\n",
       "    <tr>\n",
       "      <th>2733</th>\n",
       "      <td>IndiGo</td>\n",
       "      <td>New Delhi</td>\n",
       "      <td>Mumbai</td>\n",
       "      <td>1 Stop</td>\n",
       "      <td>6443.0</td>\n",
       "      <td>610.0</td>\n",
       "      <td>Yes</td>\n",
       "      <td>Night</td>\n",
       "      <td>Early Morning</td>\n",
       "      <td>Sunday</td>\n",
       "      <td>22</td>\n",
       "    </tr>\n",
       "    <tr>\n",
       "      <th>2734</th>\n",
       "      <td>IndiGo</td>\n",
       "      <td>New Delhi</td>\n",
       "      <td>Mumbai</td>\n",
       "      <td>1 Stop</td>\n",
       "      <td>6506.0</td>\n",
       "      <td>320.0</td>\n",
       "      <td>No</td>\n",
       "      <td>Eve</td>\n",
       "      <td>Night</td>\n",
       "      <td>Sunday</td>\n",
       "      <td>22</td>\n",
       "    </tr>\n",
       "    <tr>\n",
       "      <th>2735</th>\n",
       "      <td>IndiGo</td>\n",
       "      <td>New Delhi</td>\n",
       "      <td>Mumbai</td>\n",
       "      <td>1 Stop</td>\n",
       "      <td>6506.0</td>\n",
       "      <td>620.0</td>\n",
       "      <td>No</td>\n",
       "      <td>Morning</td>\n",
       "      <td>Night</td>\n",
       "      <td>Sunday</td>\n",
       "      <td>22</td>\n",
       "    </tr>\n",
       "  </tbody>\n",
       "</table>\n",
       "<p>2736 rows × 11 columns</p>\n",
       "</div>"
      ],
      "text/plain": [
       "       Airline Source City Destination City     Stops   Price  \\\n",
       "0     Go First   New Delhi        Bangalore  Non Stop  7424.0   \n",
       "1     Go First   New Delhi        Bangalore    1 Stop  7424.0   \n",
       "2      Vistara   New Delhi        Bangalore  Non Stop  7425.0   \n",
       "3     SpiceJet   New Delhi        Bangalore  Non Stop  7425.0   \n",
       "4       IndiGo   New Delhi        Bangalore  Non Stop  7425.0   \n",
       "...        ...         ...              ...       ...     ...   \n",
       "2731  SpiceJet   New Delhi           Mumbai    1 Stop  6271.0   \n",
       "2732    IndiGo   New Delhi           Mumbai    1 Stop  6443.0   \n",
       "2733    IndiGo   New Delhi           Mumbai    1 Stop  6443.0   \n",
       "2734    IndiGo   New Delhi           Mumbai    1 Stop  6506.0   \n",
       "2735    IndiGo   New Delhi           Mumbai    1 Stop  6506.0   \n",
       "\n",
       "      Duration_in_Minutes Next_day_Arrival Departure_Part_of_the_day  \\\n",
       "0                   155.0               No                       Eve   \n",
       "1                   540.0              Yes                     Night   \n",
       "2                   160.0               No                       Eve   \n",
       "3                   165.0              Yes                     Night   \n",
       "4                   165.0              Yes                     Night   \n",
       "...                   ...              ...                       ...   \n",
       "2731               1310.0              Yes                      Noon   \n",
       "2732                470.0               No                   Morning   \n",
       "2733                610.0              Yes                     Night   \n",
       "2734                320.0               No                       Eve   \n",
       "2735                620.0               No                   Morning   \n",
       "\n",
       "     Arrival_Part_of_the_day       Day  Days_priors_booking  \n",
       "0                      Night  Saturday                    0  \n",
       "1              Early Morning  Saturday                    0  \n",
       "2                      Night  Saturday                    0  \n",
       "3                 Late Night  Saturday                    0  \n",
       "4                 Late Night  Saturday                    0  \n",
       "...                      ...       ...                  ...  \n",
       "2731                 Morning    Sunday                   22  \n",
       "2732                     Eve    Sunday                   22  \n",
       "2733           Early Morning    Sunday                   22  \n",
       "2734                   Night    Sunday                   22  \n",
       "2735                   Night    Sunday                   22  \n",
       "\n",
       "[2736 rows x 11 columns]"
      ]
     },
     "execution_count": 285,
     "metadata": {},
     "output_type": "execute_result"
    }
   ],
   "source": [
    "df"
   ]
  },
  {
   "cell_type": "markdown",
   "id": "1c4e7eec",
   "metadata": {},
   "source": [
    "## Data Visualization :"
   ]
  },
  {
   "cell_type": "code",
   "execution_count": 286,
   "id": "a31dc4fd",
   "metadata": {},
   "outputs": [
    {
     "data": {
      "image/png": "[encoded data removed]",
      "text/plain": [
       "<Figure size 432x288 with 1 Axes>"
      ]
     },
     "metadata": {
      "needs_background": "light"
     },
     "output_type": "display_data"
    }
   ],
   "source": [
    "#lets check the box plot of our target column, to check if there are outliers\n",
    "sns.boxplot(df.Price)\n",
    "plt.show()"
   ]
  },
  {
   "cell_type": "markdown",
   "id": "9bfd6d8d",
   "metadata": {},
   "source": [
    "From the above plot we can see there are many outliers in the target column"
   ]
  },
  {
   "cell_type": "code",
   "execution_count": 287,
   "id": "07622510",
   "metadata": {},
   "outputs": [
    {
     "data": {
      "image/png": "[encoded data removed]",
      "text/plain": [
       "<Figure size 432x288 with 1 Axes>"
      ]
     },
     "metadata": {
      "needs_background": "light"
     },
     "output_type": "display_data"
    }
   ],
   "source": [
    "#lets check the distribution of the target column\n",
    "sns.distplot(df.Price)\n",
    "plt.show()"
   ]
  },
  {
   "cell_type": "markdown",
   "id": "08705ecf",
   "metadata": {},
   "source": [
    "From the above plot we can see that data is right skewed in target column"
   ]
  },
  {
   "cell_type": "code",
   "execution_count": 288,
   "id": "ae0d6c0a",
   "metadata": {},
   "outputs": [
    {
     "data": {
      "image/png": "[encoded data removed]",
      "text/plain": [
       "<Figure size 432x288 with 1 Axes>"
      ]
     },
     "metadata": {
      "needs_background": "light"
     },
     "output_type": "display_data"
    }
   ],
   "source": [
    "sns.violinplot(df.Price)\n",
    "plt.show()"
   ]
  },
  {
   "cell_type": "markdown",
   "id": "9a13593a",
   "metadata": {},
   "source": [
    "## Bivariate Analysis with Target Variable"
   ]
  },
  {
   "cell_type": "code",
   "execution_count": 289,
   "id": "053196d3",
   "metadata": {},
   "outputs": [
    {
     "data": {
      "text/plain": [
       "Index(['Airline', 'Source City', 'Destination City', 'Stops', 'Price',\n",
       "       'Duration_in_Minutes', 'Next_day_Arrival', 'Departure_Part_of_the_day',\n",
       "       'Arrival_Part_of_the_day', 'Day', 'Days_priors_booking'],\n",
       "      dtype='object')"
      ]
     },
     "execution_count": 289,
     "metadata": {},
     "output_type": "execute_result"
    }
   ],
   "source": [
    "df.columns"
   ]
  },
  {
   "cell_type": "code",
   "execution_count": 290,
   "id": "fb8f9690",
   "metadata": {},
   "outputs": [
    {
     "data": {
      "image/png": "[encoded data removed]",
      "text/plain": [
       "<Figure size 1080x360 with 1 Axes>"
      ]
     },
     "metadata": {
      "needs_background": "light"
     },
     "output_type": "display_data"
    }
   ],
   "source": [
    "#Lets check this column againt our target variable\n",
    "plt.figure(figsize= (15,5))\n",
    "col1 = sns.barplot(x = df['Airline'] , y =df['Price'] )\n",
    "col1.set_xticklabels(col1.get_xticklabels(), rotation=40, ha=\"right\") \n",
    "plt.show()"
   ]
  },
  {
   "cell_type": "code",
   "execution_count": 348,
   "id": "cf57c571",
   "metadata": {},
   "outputs": [],
   "source": [
    "#from the above plot we can see that spicejet is very cheap and vistara is more expensive"
   ]
  },
  {
   "cell_type": "code",
   "execution_count": 349,
   "id": "8a20df95",
   "metadata": {},
   "outputs": [
    {
     "data": {
      "image/png": "[encoded data removed]",
      "text/plain": [
       "<Figure size 1080x360 with 1 Axes>"
      ]
     },
     "metadata": {
      "needs_background": "light"
     },
     "output_type": "display_data"
    }
   ],
   "source": [
    "#Lets check this column againt our target variable\n",
    "plt.figure(figsize= (15,5))\n",
    "col1 = sns.barplot(x = df['Source City'] , y =df['Price'] )\n",
    "col1.set_xticklabels(col1.get_xticklabels(), rotation=40, ha=\"right\") \n",
    "plt.show()"
   ]
  },
  {
   "cell_type": "code",
   "execution_count": 292,
   "id": "966be3ee",
   "metadata": {},
   "outputs": [
    {
     "data": {
      "image/png": "[encoded data removed]",
      "text/plain": [
       "<Figure size 1080x360 with 1 Axes>"
      ]
     },
     "metadata": {
      "needs_background": "light"
     },
     "output_type": "display_data"
    }
   ],
   "source": [
    "#Lets check this column againt our target variable\n",
    "plt.figure(figsize= (15,5))\n",
    "col1 = sns.barplot(x = df['Destination City'] , y =df['Price'] )\n",
    "col1.set_xticklabels(col1.get_xticklabels(), rotation=40, ha=\"right\") \n",
    "plt.show()"
   ]
  },
  {
   "cell_type": "code",
   "execution_count": 293,
   "id": "b318cf00",
   "metadata": {},
   "outputs": [
    {
     "data": {
      "image/png": "[encoded data removed]",
      "text/plain": [
       "<Figure size 1080x360 with 1 Axes>"
      ]
     },
     "metadata": {
      "needs_background": "light"
     },
     "output_type": "display_data"
    }
   ],
   "source": [
    "#Lets check this column againt our target variable\n",
    "plt.figure(figsize= (15,5))\n",
    "col1 = sns.barplot(x = df['Stops'] , y =df['Price'] )\n",
    "col1.set_xticklabels(col1.get_xticklabels(), rotation=40, ha=\"right\") \n",
    "plt.show()"
   ]
  },
  {
   "cell_type": "code",
   "execution_count": 350,
   "id": "4fda1f34",
   "metadata": {},
   "outputs": [],
   "source": [
    "#from the above plot we can see that flights having more spots are more expensive"
   ]
  },
  {
   "cell_type": "code",
   "execution_count": 294,
   "id": "b67f8b85",
   "metadata": {},
   "outputs": [
    {
     "data": {
      "image/png": "[encoded data removed]",
      "text/plain": [
       "<Figure size 1080x360 with 1 Axes>"
      ]
     },
     "metadata": {
      "needs_background": "light"
     },
     "output_type": "display_data"
    }
   ],
   "source": [
    "#Lets check this column againt our target variable\n",
    "plt.figure(figsize= (15,5))\n",
    "col1 = sns.barplot(x = df['Next_day_Arrival'] , y =df['Price'] )\n",
    "col1.set_xticklabels(col1.get_xticklabels(), rotation=40, ha=\"right\") \n",
    "plt.show()"
   ]
  },
  {
   "cell_type": "code",
   "execution_count": 351,
   "id": "98fc37e4",
   "metadata": {},
   "outputs": [],
   "source": [
    "#from the above plot we can see that if arrival is not in same day then the flight price is expensive"
   ]
  },
  {
   "cell_type": "code",
   "execution_count": 295,
   "id": "227499fd",
   "metadata": {},
   "outputs": [
    {
     "data": {
      "image/png": "[encoded data removed]",
      "text/plain": [
       "<Figure size 1080x360 with 1 Axes>"
      ]
     },
     "metadata": {
      "needs_background": "light"
     },
     "output_type": "display_data"
    }
   ],
   "source": [
    "#Lets check this column againt our target variable\n",
    "plt.figure(figsize= (15,5))\n",
    "col1 = sns.barplot(x = df['Departure_Part_of_the_day'] , y =df['Price'] )\n",
    "col1.set_xticklabels(col1.get_xticklabels(), rotation=40, ha=\"right\") \n",
    "plt.show()"
   ]
  },
  {
   "cell_type": "code",
   "execution_count": null,
   "id": "d9574a50",
   "metadata": {},
   "outputs": [],
   "source": [
    "#from the above plot we can see that we don't see much diffrence in entries"
   ]
  },
  {
   "cell_type": "code",
   "execution_count": 296,
   "id": "3b0e64c3",
   "metadata": {},
   "outputs": [
    {
     "data": {
      "image/png": "[encoded data removed]",
      "text/plain": [
       "<Figure size 1080x360 with 1 Axes>"
      ]
     },
     "metadata": {
      "needs_background": "light"
     },
     "output_type": "display_data"
    }
   ],
   "source": [
    "#Lets check this column againt our target variable\n",
    "plt.figure(figsize= (15,5))\n",
    "col1 = sns.barplot(x = df['Arrival_Part_of_the_day'] , y =df['Price'] )\n",
    "col1.set_xticklabels(col1.get_xticklabels(), rotation=40, ha=\"right\") \n",
    "plt.show()"
   ]
  },
  {
   "cell_type": "code",
   "execution_count": 297,
   "id": "15f94b12",
   "metadata": {},
   "outputs": [
    {
     "data": {
      "image/png": "[encoded data removed]",
      "text/plain": [
       "<Figure size 1080x360 with 1 Axes>"
      ]
     },
     "metadata": {
      "needs_background": "light"
     },
     "output_type": "display_data"
    }
   ],
   "source": [
    "#Lets check this column againt our target variable\n",
    "plt.figure(figsize= (15,5))\n",
    "col1 = sns.barplot(x = df['Day'] , y =df['Price'] )\n",
    "col1.set_xticklabels(col1.get_xticklabels(), rotation=40, ha=\"right\") \n",
    "plt.show()"
   ]
  },
  {
   "cell_type": "code",
   "execution_count": 352,
   "id": "f5340e0c",
   "metadata": {},
   "outputs": [],
   "source": [
    "#from the above plot we can see that going thurday can save some money"
   ]
  },
  {
   "cell_type": "code",
   "execution_count": 298,
   "id": "cdaf1600",
   "metadata": {},
   "outputs": [
    {
     "data": {
      "text/plain": [
       "Index(['Airline', 'Source City', 'Destination City', 'Stops', 'Price',\n",
       "       'Duration_in_Minutes', 'Next_day_Arrival', 'Departure_Part_of_the_day',\n",
       "       'Arrival_Part_of_the_day', 'Day', 'Days_priors_booking'],\n",
       "      dtype='object')"
      ]
     },
     "execution_count": 298,
     "metadata": {},
     "output_type": "execute_result"
    }
   ],
   "source": [
    "df.columns"
   ]
  },
  {
   "cell_type": "code",
   "execution_count": 302,
   "id": "89a1ae8f",
   "metadata": {},
   "outputs": [
    {
     "data": {
      "image/png": "[encoded data removed]",
      "text/plain": [
       "<Figure size 432x288 with 1 Axes>"
      ]
     },
     "metadata": {
      "needs_background": "light"
     },
     "output_type": "display_data"
    }
   ],
   "source": [
    "#Lets check this column againt our target variable\n",
    "sns.scatterplot(x = 'Duration_in_Minutes', y ='Price' , data  = df)\n",
    "plt.show()"
   ]
  },
  {
   "cell_type": "code",
   "execution_count": 301,
   "id": "671c9036",
   "metadata": {},
   "outputs": [
    {
     "data": {
      "image/png": "[encoded data removed]",
      "text/plain": [
       "<Figure size 432x288 with 1 Axes>"
      ]
     },
     "metadata": {
      "needs_background": "light"
     },
     "output_type": "display_data"
    }
   ],
   "source": [
    "#Lets check this column againt our target variable\n",
    "sns.scatterplot(x = 'Days_priors_booking', y ='Price' , data  = df)\n",
    "plt.show()"
   ]
  },
  {
   "cell_type": "markdown",
   "id": "c6c109c0",
   "metadata": {},
   "source": [
    "## We have seven questions to answer our client"
   ]
  },
  {
   "cell_type": "markdown",
   "id": "d94b38dc",
   "metadata": {},
   "source": [
    "## 1. Do airfares change frequently?"
   ]
  },
  {
   "cell_type": "code",
   "execution_count": 304,
   "id": "11616fa0",
   "metadata": {},
   "outputs": [
    {
     "data": {
      "image/png": "[encoded data removed]",
      "text/plain": [
       "<Figure size 432x288 with 1 Axes>"
      ]
     },
     "metadata": {
      "needs_background": "light"
     },
     "output_type": "display_data"
    }
   ],
   "source": [
    "#Lets check this column againt our target variable\n",
    "sns.scatterplot(x = 'Days_priors_booking', y ='Price' , data  = df)\n",
    "plt.show()"
   ]
  },
  {
   "cell_type": "markdown",
   "id": "62aee5be",
   "metadata": {},
   "source": [
    "From the above plot we can see that airfares change frequently"
   ]
  },
  {
   "cell_type": "markdown",
   "id": "2a979281",
   "metadata": {},
   "source": [
    "## 2. Do they move in small increments or in large jumps?"
   ]
  },
  {
   "cell_type": "code",
   "execution_count": 305,
   "id": "0a616b7b",
   "metadata": {},
   "outputs": [
    {
     "data": {
      "image/png": "[encoded data removed]",
      "text/plain": [
       "<Figure size 432x288 with 1 Axes>"
      ]
     },
     "metadata": {
      "needs_background": "light"
     },
     "output_type": "display_data"
    }
   ],
   "source": [
    "#Lets check this column againt our target variable\n",
    "sns.scatterplot(x = 'Days_priors_booking', y ='Price' , data  = df)\n",
    "plt.show()"
   ]
  },
  {
   "cell_type": "markdown",
   "id": "de97392d",
   "metadata": {},
   "source": [
    "Yes,they move in large jumps"
   ]
  },
  {
   "cell_type": "markdown",
   "id": "bcbae3c0",
   "metadata": {},
   "source": [
    "## 3. Do they tend to go up or down over time?"
   ]
  },
  {
   "cell_type": "code",
   "execution_count": 306,
   "id": "690c3277",
   "metadata": {},
   "outputs": [
    {
     "data": {
      "image/png": "[encoded data removed]",
      "text/plain": [
       "<Figure size 432x288 with 1 Axes>"
      ]
     },
     "metadata": {
      "needs_background": "light"
     },
     "output_type": "display_data"
    }
   ],
   "source": [
    "#Lets check this column againt our target variable\n",
    "sns.scatterplot(x = 'Days_priors_booking', y ='Price' , data  = df)\n",
    "plt.show()"
   ]
  },
  {
   "cell_type": "markdown",
   "id": "31957f8f",
   "metadata": {},
   "source": [
    "They usally tend go down over time"
   ]
  },
  {
   "cell_type": "markdown",
   "id": "d7b46d1d",
   "metadata": {},
   "source": [
    "## 4. What is the best time to buy so that the consumer can save the most by taking the least risk?"
   ]
  },
  {
   "cell_type": "code",
   "execution_count": 307,
   "id": "c2ed9c03",
   "metadata": {},
   "outputs": [
    {
     "data": {
      "image/png": "[encoded data removed]",
      "text/plain": [
       "<Figure size 1080x360 with 1 Axes>"
      ]
     },
     "metadata": {
      "needs_background": "light"
     },
     "output_type": "display_data"
    }
   ],
   "source": [
    "#Lets check this column againt our target variable\n",
    "plt.figure(figsize= (15,5))\n",
    "col1 = sns.barplot(x = df['Day'] , y =df['Price'] )\n",
    "col1.set_xticklabels(col1.get_xticklabels(), rotation=40, ha=\"right\") \n",
    "plt.show()"
   ]
  },
  {
   "cell_type": "code",
   "execution_count": 308,
   "id": "4164d2cb",
   "metadata": {},
   "outputs": [
    {
     "data": {
      "image/png": "[encoded data removed]",
      "text/plain": [
       "<Figure size 1080x360 with 1 Axes>"
      ]
     },
     "metadata": {
      "needs_background": "light"
     },
     "output_type": "display_data"
    }
   ],
   "source": [
    "#Lets check this column againt our target variable\n",
    "plt.figure(figsize= (15,5))\n",
    "col1 = sns.barplot(x = df['Airline'] , y =df['Price'] )\n",
    "col1.set_xticklabels(col1.get_xticklabels(), rotation=40, ha=\"right\") \n",
    "plt.show()"
   ]
  },
  {
   "cell_type": "markdown",
   "id": "5d8354d0",
   "metadata": {},
   "source": [
    "Going on Thurday and choosinf spicejet can reduce the money"
   ]
  },
  {
   "cell_type": "markdown",
   "id": "7f2f6522",
   "metadata": {},
   "source": [
    "## 5. Does price increase as we get near to departure date?"
   ]
  },
  {
   "cell_type": "code",
   "execution_count": 309,
   "id": "3224d03d",
   "metadata": {},
   "outputs": [
    {
     "data": {
      "image/png": "[encoded data removed]",
      "text/plain": [
       "<Figure size 432x288 with 1 Axes>"
      ]
     },
     "metadata": {
      "needs_background": "light"
     },
     "output_type": "display_data"
    }
   ],
   "source": [
    "#Lets check this column againt our target variable\n",
    "sns.scatterplot(x = 'Days_priors_booking', y ='Price' , data  = df)\n",
    "plt.show()"
   ]
  },
  {
   "cell_type": "markdown",
   "id": "5d8fe7f6",
   "metadata": {},
   "source": [
    "Yes, booking prior can save some money"
   ]
  },
  {
   "cell_type": "markdown",
   "id": "1203dc76",
   "metadata": {},
   "source": [
    "## 6. Is Indigo cheaper than Jet Airways? "
   ]
  },
  {
   "cell_type": "code",
   "execution_count": 311,
   "id": "e6f4eb67",
   "metadata": {},
   "outputs": [
    {
     "data": {
      "image/png": "[encoded data removed]",
      "text/plain": [
       "<Figure size 1080x360 with 1 Axes>"
      ]
     },
     "metadata": {
      "needs_background": "light"
     },
     "output_type": "display_data"
    }
   ],
   "source": [
    "#Lets check this column againt our target variable\n",
    "plt.figure(figsize= (15,5))\n",
    "col1 = sns.barplot(x = df['Airline'] , y =df['Price'] )\n",
    "col1.set_xticklabels(col1.get_xticklabels(), rotation=40, ha=\"right\") \n",
    "plt.show()"
   ]
  },
  {
   "cell_type": "markdown",
   "id": "5739e304",
   "metadata": {},
   "source": [
    "No,indifo flights are not cheaper than spicejet"
   ]
  },
  {
   "cell_type": "markdown",
   "id": "275f8715",
   "metadata": {},
   "source": [
    "## 7. Are morning flights expensive?"
   ]
  },
  {
   "cell_type": "code",
   "execution_count": 312,
   "id": "f4637b50",
   "metadata": {},
   "outputs": [
    {
     "data": {
      "image/png": "[encoded data removed]",
      "text/plain": [
       "<Figure size 1080x360 with 1 Axes>"
      ]
     },
     "metadata": {
      "needs_background": "light"
     },
     "output_type": "display_data"
    }
   ],
   "source": [
    "#Lets check this column againt our target variable\n",
    "plt.figure(figsize= (15,5))\n",
    "col1 = sns.barplot(x = df['Departure_Part_of_the_day'] , y =df['Price'] )\n",
    "col1.set_xticklabels(col1.get_xticklabels(), rotation=40, ha=\"right\") \n",
    "plt.show()"
   ]
  },
  {
   "cell_type": "markdown",
   "id": "3db5025d",
   "metadata": {},
   "source": [
    "No, Compared to morning flights night flights are expensive"
   ]
  },
  {
   "cell_type": "markdown",
   "id": "6dcdf9cd",
   "metadata": {},
   "source": [
    "## Encoding the Object Columns"
   ]
  },
  {
   "cell_type": "code",
   "execution_count": 313,
   "id": "6381cec3",
   "metadata": {},
   "outputs": [
    {
     "data": {
      "text/plain": [
       "Index(['Airline', 'Source City', 'Destination City', 'Stops', 'Price',\n",
       "       'Duration_in_Minutes', 'Next_day_Arrival', 'Departure_Part_of_the_day',\n",
       "       'Arrival_Part_of_the_day', 'Day', 'Days_priors_booking'],\n",
       "      dtype='object')"
      ]
     },
     "execution_count": 313,
     "metadata": {},
     "output_type": "execute_result"
    }
   ],
   "source": [
    "df.columns"
   ]
  },
  {
   "cell_type": "code",
   "execution_count": 314,
   "id": "66d92f86",
   "metadata": {},
   "outputs": [],
   "source": [
    "#we need convert the above columns one-hot encoder, since they are not ordinal values\n",
    "#and also columns contains more than 2 unique values\n",
    "\n",
    "one_hot_columns = ['Airline', 'Destination City','Source City','Stops', 'Departure_Part_of_the_day',\n",
    "       'Arrival_Part_of_the_day',\"Day\",\"Next_day_Arrival\"]\n",
    "df_new = pd.get_dummies(data = df,columns=one_hot_columns)"
   ]
  },
  {
   "cell_type": "code",
   "execution_count": 315,
   "id": "1a64e528",
   "metadata": {},
   "outputs": [
    {
     "data": {
      "text/plain": [
       "(2736, 39)"
      ]
     },
     "execution_count": 315,
     "metadata": {},
     "output_type": "execute_result"
    }
   ],
   "source": [
    "df_new.shape"
   ]
  },
  {
   "cell_type": "code",
   "execution_count": 316,
   "id": "35fc6ea3",
   "metadata": {},
   "outputs": [
    {
     "data": {
      "text/html": [
       "<div>\n",
       "<style scoped>\n",
       "    .dataframe tbody tr th:only-of-type {\n",
       "        vertical-align: middle;\n",
       "    }\n",
       "\n",
       "    .dataframe tbody tr th {\n",
       "        vertical-align: top;\n",
       "    }\n",
       "\n",
       "    .dataframe thead th {\n",
       "        text-align: right;\n",
       "    }\n",
       "</style>\n",
       "<table border=\"1\" class=\"dataframe\">\n",
       "  <thead>\n",
       "    <tr style=\"text-align: right;\">\n",
       "      <th></th>\n",
       "      <th>Price</th>\n",
       "      <th>Duration_in_Minutes</th>\n",
       "      <th>Days_priors_booking</th>\n",
       "      <th>Airline_Air Asia</th>\n",
       "      <th>Airline_Air India</th>\n",
       "      <th>Airline_Go First</th>\n",
       "      <th>Airline_IndiGo</th>\n",
       "      <th>Airline_SpiceJet</th>\n",
       "      <th>Airline_Vistara</th>\n",
       "      <th>Destination City_Bangalore</th>\n",
       "      <th>...</th>\n",
       "      <th>Arrival_Part_of_the_day_Noon</th>\n",
       "      <th>Day_Friday</th>\n",
       "      <th>Day_Monday</th>\n",
       "      <th>Day_Saturday</th>\n",
       "      <th>Day_Sunday</th>\n",
       "      <th>Day_Thursday</th>\n",
       "      <th>Day_Tuesday</th>\n",
       "      <th>Day_Wednesday</th>\n",
       "      <th>Next_day_Arrival_No</th>\n",
       "      <th>Next_day_Arrival_Yes</th>\n",
       "    </tr>\n",
       "  </thead>\n",
       "  <tbody>\n",
       "    <tr>\n",
       "      <th>0</th>\n",
       "      <td>7424.0</td>\n",
       "      <td>155.0</td>\n",
       "      <td>0</td>\n",
       "      <td>0</td>\n",
       "      <td>0</td>\n",
       "      <td>1</td>\n",
       "      <td>0</td>\n",
       "      <td>0</td>\n",
       "      <td>0</td>\n",
       "      <td>1</td>\n",
       "      <td>...</td>\n",
       "      <td>0</td>\n",
       "      <td>0</td>\n",
       "      <td>0</td>\n",
       "      <td>1</td>\n",
       "      <td>0</td>\n",
       "      <td>0</td>\n",
       "      <td>0</td>\n",
       "      <td>0</td>\n",
       "      <td>1</td>\n",
       "      <td>0</td>\n",
       "    </tr>\n",
       "    <tr>\n",
       "      <th>1</th>\n",
       "      <td>7424.0</td>\n",
       "      <td>540.0</td>\n",
       "      <td>0</td>\n",
       "      <td>0</td>\n",
       "      <td>0</td>\n",
       "      <td>1</td>\n",
       "      <td>0</td>\n",
       "      <td>0</td>\n",
       "      <td>0</td>\n",
       "      <td>1</td>\n",
       "      <td>...</td>\n",
       "      <td>0</td>\n",
       "      <td>0</td>\n",
       "      <td>0</td>\n",
       "      <td>1</td>\n",
       "      <td>0</td>\n",
       "      <td>0</td>\n",
       "      <td>0</td>\n",
       "      <td>0</td>\n",
       "      <td>0</td>\n",
       "      <td>1</td>\n",
       "    </tr>\n",
       "    <tr>\n",
       "      <th>2</th>\n",
       "      <td>7425.0</td>\n",
       "      <td>160.0</td>\n",
       "      <td>0</td>\n",
       "      <td>0</td>\n",
       "      <td>0</td>\n",
       "      <td>0</td>\n",
       "      <td>0</td>\n",
       "      <td>0</td>\n",
       "      <td>1</td>\n",
       "      <td>1</td>\n",
       "      <td>...</td>\n",
       "      <td>0</td>\n",
       "      <td>0</td>\n",
       "      <td>0</td>\n",
       "      <td>1</td>\n",
       "      <td>0</td>\n",
       "      <td>0</td>\n",
       "      <td>0</td>\n",
       "      <td>0</td>\n",
       "      <td>1</td>\n",
       "      <td>0</td>\n",
       "    </tr>\n",
       "    <tr>\n",
       "      <th>3</th>\n",
       "      <td>7425.0</td>\n",
       "      <td>165.0</td>\n",
       "      <td>0</td>\n",
       "      <td>0</td>\n",
       "      <td>0</td>\n",
       "      <td>0</td>\n",
       "      <td>0</td>\n",
       "      <td>1</td>\n",
       "      <td>0</td>\n",
       "      <td>1</td>\n",
       "      <td>...</td>\n",
       "      <td>0</td>\n",
       "      <td>0</td>\n",
       "      <td>0</td>\n",
       "      <td>1</td>\n",
       "      <td>0</td>\n",
       "      <td>0</td>\n",
       "      <td>0</td>\n",
       "      <td>0</td>\n",
       "      <td>0</td>\n",
       "      <td>1</td>\n",
       "    </tr>\n",
       "    <tr>\n",
       "      <th>4</th>\n",
       "      <td>7425.0</td>\n",
       "      <td>165.0</td>\n",
       "      <td>0</td>\n",
       "      <td>0</td>\n",
       "      <td>0</td>\n",
       "      <td>0</td>\n",
       "      <td>1</td>\n",
       "      <td>0</td>\n",
       "      <td>0</td>\n",
       "      <td>1</td>\n",
       "      <td>...</td>\n",
       "      <td>0</td>\n",
       "      <td>0</td>\n",
       "      <td>0</td>\n",
       "      <td>1</td>\n",
       "      <td>0</td>\n",
       "      <td>0</td>\n",
       "      <td>0</td>\n",
       "      <td>0</td>\n",
       "      <td>0</td>\n",
       "      <td>1</td>\n",
       "    </tr>\n",
       "  </tbody>\n",
       "</table>\n",
       "<p>5 rows × 39 columns</p>\n",
       "</div>"
      ],
      "text/plain": [
       "    Price  Duration_in_Minutes  Days_priors_booking  Airline_Air Asia  \\\n",
       "0  7424.0                155.0                    0                 0   \n",
       "1  7424.0                540.0                    0                 0   \n",
       "2  7425.0                160.0                    0                 0   \n",
       "3  7425.0                165.0                    0                 0   \n",
       "4  7425.0                165.0                    0                 0   \n",
       "\n",
       "   Airline_Air India  Airline_Go First  Airline_IndiGo  Airline_SpiceJet  \\\n",
       "0                  0                 1               0                 0   \n",
       "1                  0                 1               0                 0   \n",
       "2                  0                 0               0                 0   \n",
       "3                  0                 0               0                 1   \n",
       "4                  0                 0               1                 0   \n",
       "\n",
       "   Airline_Vistara  Destination City_Bangalore  ...  \\\n",
       "0                0                           1  ...   \n",
       "1                0                           1  ...   \n",
       "2                1                           1  ...   \n",
       "3                0                           1  ...   \n",
       "4                0                           1  ...   \n",
       "\n",
       "   Arrival_Part_of_the_day_Noon  Day_Friday  Day_Monday  Day_Saturday  \\\n",
       "0                             0           0           0             1   \n",
       "1                             0           0           0             1   \n",
       "2                             0           0           0             1   \n",
       "3                             0           0           0             1   \n",
       "4                             0           0           0             1   \n",
       "\n",
       "   Day_Sunday  Day_Thursday  Day_Tuesday  Day_Wednesday  Next_day_Arrival_No  \\\n",
       "0           0             0            0              0                    1   \n",
       "1           0             0            0              0                    0   \n",
       "2           0             0            0              0                    1   \n",
       "3           0             0            0              0                    0   \n",
       "4           0             0            0              0                    0   \n",
       "\n",
       "   Next_day_Arrival_Yes  \n",
       "0                     0  \n",
       "1                     1  \n",
       "2                     0  \n",
       "3                     1  \n",
       "4                     1  \n",
       "\n",
       "[5 rows x 39 columns]"
      ]
     },
     "execution_count": 316,
     "metadata": {},
     "output_type": "execute_result"
    }
   ],
   "source": [
    "df_new.head()"
   ]
  },
  {
   "cell_type": "markdown",
   "id": "c214e542",
   "metadata": {},
   "source": [
    "## Scaling the Data"
   ]
  },
  {
   "cell_type": "code",
   "execution_count": 317,
   "id": "a2568aac",
   "metadata": {},
   "outputs": [],
   "source": [
    "#lets split our x and y column before scaling\n",
    "#x and y spitting\n",
    "Y = df_new['Price']\n",
    "X = df_new.drop('Price',axis = 1)"
   ]
  },
  {
   "cell_type": "code",
   "execution_count": 318,
   "id": "106d9272",
   "metadata": {},
   "outputs": [
    {
     "data": {
      "text/plain": [
       "(2736, 38)"
      ]
     },
     "execution_count": 318,
     "metadata": {},
     "output_type": "execute_result"
    }
   ],
   "source": [
    "X.shape"
   ]
  },
  {
   "cell_type": "code",
   "execution_count": 319,
   "id": "27f5ba34",
   "metadata": {},
   "outputs": [
    {
     "data": {
      "text/html": [
       "<div>\n",
       "<style scoped>\n",
       "    .dataframe tbody tr th:only-of-type {\n",
       "        vertical-align: middle;\n",
       "    }\n",
       "\n",
       "    .dataframe tbody tr th {\n",
       "        vertical-align: top;\n",
       "    }\n",
       "\n",
       "    .dataframe thead th {\n",
       "        text-align: right;\n",
       "    }\n",
       "</style>\n",
       "<table border=\"1\" class=\"dataframe\">\n",
       "  <thead>\n",
       "    <tr style=\"text-align: right;\">\n",
       "      <th></th>\n",
       "      <th>Duration_in_Minutes</th>\n",
       "      <th>Days_priors_booking</th>\n",
       "      <th>Airline_Air Asia</th>\n",
       "      <th>Airline_Air India</th>\n",
       "      <th>Airline_Go First</th>\n",
       "      <th>Airline_IndiGo</th>\n",
       "      <th>Airline_SpiceJet</th>\n",
       "      <th>Airline_Vistara</th>\n",
       "      <th>Destination City_Bangalore</th>\n",
       "      <th>Destination City_Kolkata</th>\n",
       "      <th>...</th>\n",
       "      <th>Arrival_Part_of_the_day_Noon</th>\n",
       "      <th>Day_Friday</th>\n",
       "      <th>Day_Monday</th>\n",
       "      <th>Day_Saturday</th>\n",
       "      <th>Day_Sunday</th>\n",
       "      <th>Day_Thursday</th>\n",
       "      <th>Day_Tuesday</th>\n",
       "      <th>Day_Wednesday</th>\n",
       "      <th>Next_day_Arrival_No</th>\n",
       "      <th>Next_day_Arrival_Yes</th>\n",
       "    </tr>\n",
       "  </thead>\n",
       "  <tbody>\n",
       "    <tr>\n",
       "      <th>0</th>\n",
       "      <td>-0.843953</td>\n",
       "      <td>-1.568236</td>\n",
       "      <td>-0.397304</td>\n",
       "      <td>-0.327481</td>\n",
       "      <td>2.368268</td>\n",
       "      <td>-0.638852</td>\n",
       "      <td>-0.372895</td>\n",
       "      <td>-0.505591</td>\n",
       "      <td>2.138294</td>\n",
       "      <td>-0.829993</td>\n",
       "      <td>...</td>\n",
       "      <td>-0.456597</td>\n",
       "      <td>-0.324049</td>\n",
       "      <td>-0.407726</td>\n",
       "      <td>2.486182</td>\n",
       "      <td>-0.51583</td>\n",
       "      <td>-0.42285</td>\n",
       "      <td>-0.36715</td>\n",
       "      <td>-0.407726</td>\n",
       "      <td>0.602685</td>\n",
       "      <td>-0.602685</td>\n",
       "    </tr>\n",
       "    <tr>\n",
       "      <th>1</th>\n",
       "      <td>0.251107</td>\n",
       "      <td>-1.568236</td>\n",
       "      <td>-0.397304</td>\n",
       "      <td>-0.327481</td>\n",
       "      <td>2.368268</td>\n",
       "      <td>-0.638852</td>\n",
       "      <td>-0.372895</td>\n",
       "      <td>-0.505591</td>\n",
       "      <td>2.138294</td>\n",
       "      <td>-0.829993</td>\n",
       "      <td>...</td>\n",
       "      <td>-0.456597</td>\n",
       "      <td>-0.324049</td>\n",
       "      <td>-0.407726</td>\n",
       "      <td>2.486182</td>\n",
       "      <td>-0.51583</td>\n",
       "      <td>-0.42285</td>\n",
       "      <td>-0.36715</td>\n",
       "      <td>-0.407726</td>\n",
       "      <td>-1.659243</td>\n",
       "      <td>1.659243</td>\n",
       "    </tr>\n",
       "    <tr>\n",
       "      <th>2</th>\n",
       "      <td>-0.829732</td>\n",
       "      <td>-1.568236</td>\n",
       "      <td>-0.397304</td>\n",
       "      <td>-0.327481</td>\n",
       "      <td>-0.422249</td>\n",
       "      <td>-0.638852</td>\n",
       "      <td>-0.372895</td>\n",
       "      <td>1.977885</td>\n",
       "      <td>2.138294</td>\n",
       "      <td>-0.829993</td>\n",
       "      <td>...</td>\n",
       "      <td>-0.456597</td>\n",
       "      <td>-0.324049</td>\n",
       "      <td>-0.407726</td>\n",
       "      <td>2.486182</td>\n",
       "      <td>-0.51583</td>\n",
       "      <td>-0.42285</td>\n",
       "      <td>-0.36715</td>\n",
       "      <td>-0.407726</td>\n",
       "      <td>0.602685</td>\n",
       "      <td>-0.602685</td>\n",
       "    </tr>\n",
       "    <tr>\n",
       "      <th>3</th>\n",
       "      <td>-0.815510</td>\n",
       "      <td>-1.568236</td>\n",
       "      <td>-0.397304</td>\n",
       "      <td>-0.327481</td>\n",
       "      <td>-0.422249</td>\n",
       "      <td>-0.638852</td>\n",
       "      <td>2.681719</td>\n",
       "      <td>-0.505591</td>\n",
       "      <td>2.138294</td>\n",
       "      <td>-0.829993</td>\n",
       "      <td>...</td>\n",
       "      <td>-0.456597</td>\n",
       "      <td>-0.324049</td>\n",
       "      <td>-0.407726</td>\n",
       "      <td>2.486182</td>\n",
       "      <td>-0.51583</td>\n",
       "      <td>-0.42285</td>\n",
       "      <td>-0.36715</td>\n",
       "      <td>-0.407726</td>\n",
       "      <td>-1.659243</td>\n",
       "      <td>1.659243</td>\n",
       "    </tr>\n",
       "    <tr>\n",
       "      <th>4</th>\n",
       "      <td>-0.815510</td>\n",
       "      <td>-1.568236</td>\n",
       "      <td>-0.397304</td>\n",
       "      <td>-0.327481</td>\n",
       "      <td>-0.422249</td>\n",
       "      <td>1.565308</td>\n",
       "      <td>-0.372895</td>\n",
       "      <td>-0.505591</td>\n",
       "      <td>2.138294</td>\n",
       "      <td>-0.829993</td>\n",
       "      <td>...</td>\n",
       "      <td>-0.456597</td>\n",
       "      <td>-0.324049</td>\n",
       "      <td>-0.407726</td>\n",
       "      <td>2.486182</td>\n",
       "      <td>-0.51583</td>\n",
       "      <td>-0.42285</td>\n",
       "      <td>-0.36715</td>\n",
       "      <td>-0.407726</td>\n",
       "      <td>-1.659243</td>\n",
       "      <td>1.659243</td>\n",
       "    </tr>\n",
       "  </tbody>\n",
       "</table>\n",
       "<p>5 rows × 38 columns</p>\n",
       "</div>"
      ],
      "text/plain": [
       "   Duration_in_Minutes  Days_priors_booking  Airline_Air Asia  \\\n",
       "0            -0.843953            -1.568236         -0.397304   \n",
       "1             0.251107            -1.568236         -0.397304   \n",
       "2            -0.829732            -1.568236         -0.397304   \n",
       "3            -0.815510            -1.568236         -0.397304   \n",
       "4            -0.815510            -1.568236         -0.397304   \n",
       "\n",
       "   Airline_Air India  Airline_Go First  Airline_IndiGo  Airline_SpiceJet  \\\n",
       "0          -0.327481          2.368268       -0.638852         -0.372895   \n",
       "1          -0.327481          2.368268       -0.638852         -0.372895   \n",
       "2          -0.327481         -0.422249       -0.638852         -0.372895   \n",
       "3          -0.327481         -0.422249       -0.638852          2.681719   \n",
       "4          -0.327481         -0.422249        1.565308         -0.372895   \n",
       "\n",
       "   Airline_Vistara  Destination City_Bangalore  Destination City_Kolkata  ...  \\\n",
       "0        -0.505591                    2.138294                 -0.829993  ...   \n",
       "1        -0.505591                    2.138294                 -0.829993  ...   \n",
       "2         1.977885                    2.138294                 -0.829993  ...   \n",
       "3        -0.505591                    2.138294                 -0.829993  ...   \n",
       "4        -0.505591                    2.138294                 -0.829993  ...   \n",
       "\n",
       "   Arrival_Part_of_the_day_Noon  Day_Friday  Day_Monday  Day_Saturday  \\\n",
       "0                     -0.456597   -0.324049   -0.407726      2.486182   \n",
       "1                     -0.456597   -0.324049   -0.407726      2.486182   \n",
       "2                     -0.456597   -0.324049   -0.407726      2.486182   \n",
       "3                     -0.456597   -0.324049   -0.407726      2.486182   \n",
       "4                     -0.456597   -0.324049   -0.407726      2.486182   \n",
       "\n",
       "   Day_Sunday  Day_Thursday  Day_Tuesday  Day_Wednesday  Next_day_Arrival_No  \\\n",
       "0    -0.51583      -0.42285     -0.36715      -0.407726             0.602685   \n",
       "1    -0.51583      -0.42285     -0.36715      -0.407726            -1.659243   \n",
       "2    -0.51583      -0.42285     -0.36715      -0.407726             0.602685   \n",
       "3    -0.51583      -0.42285     -0.36715      -0.407726            -1.659243   \n",
       "4    -0.51583      -0.42285     -0.36715      -0.407726            -1.659243   \n",
       "\n",
       "   Next_day_Arrival_Yes  \n",
       "0             -0.602685  \n",
       "1              1.659243  \n",
       "2             -0.602685  \n",
       "3              1.659243  \n",
       "4              1.659243  \n",
       "\n",
       "[5 rows x 38 columns]"
      ]
     },
     "execution_count": 319,
     "metadata": {},
     "output_type": "execute_result"
    }
   ],
   "source": [
    "#Lets scale the data using standard scaler\n",
    "scaler = StandardScaler()\n",
    "scaled_X = pd.DataFrame(scaler.fit_transform(X),columns= X.columns)\n",
    "scaled_X.head()"
   ]
  },
  {
   "cell_type": "code",
   "execution_count": 320,
   "id": "1b3f9b0f",
   "metadata": {},
   "outputs": [],
   "source": [
    "#now our data is scaled using standard scaler"
   ]
  },
  {
   "cell_type": "markdown",
   "id": "ef70418f",
   "metadata": {},
   "source": [
    "## PCA (Principal Component Analysis):"
   ]
  },
  {
   "cell_type": "code",
   "execution_count": 321,
   "id": "13e25045",
   "metadata": {},
   "outputs": [],
   "source": [
    "#we need to use pca becuase we have 38 columns in this dataset which is very high"
   ]
  },
  {
   "cell_type": "code",
   "execution_count": 322,
   "id": "cc1bc7ef",
   "metadata": {},
   "outputs": [],
   "source": [
    "#we should always use scaled data for performing the PCA"
   ]
  },
  {
   "cell_type": "code",
   "execution_count": 323,
   "id": "0d04c3c0",
   "metadata": {},
   "outputs": [
    {
     "data": {
      "text/plain": [
       "(2736, 38)"
      ]
     },
     "execution_count": 323,
     "metadata": {},
     "output_type": "execute_result"
    }
   ],
   "source": [
    "#we have 38 columns excluding target variable\n",
    "scaled_X.shape"
   ]
  },
  {
   "cell_type": "code",
   "execution_count": 324,
   "id": "c8191c69",
   "metadata": {},
   "outputs": [],
   "source": [
    "#first lets TEST out percentage of data that we will obtain after PCA\n",
    "testpca = PCA()\n",
    "test_x = testpca.fit(scaled_X)"
   ]
  },
  {
   "cell_type": "code",
   "execution_count": 325,
   "id": "6d1d7f32",
   "metadata": {},
   "outputs": [
    {
     "data": {
      "text/plain": [
       "array([ 13.9110257 ,  21.22501012,  27.38154258,  32.37146461,\n",
       "        36.90307598,  41.12942215,  44.96856722,  48.65790217,\n",
       "        52.20240262,  55.68449228,  59.08558924,  62.34113421,\n",
       "        65.5776048 ,  68.69247465,  71.69352618,  74.60409788,\n",
       "        77.46884085,  80.29888357,  82.89520882,  85.43107564,\n",
       "        87.87185652,  90.20151636,  92.44450664,  94.38621601,\n",
       "        96.18811532,  97.82334882,  99.09907311,  99.93254055,\n",
       "       100.        , 100.        , 100.        , 100.        ,\n",
       "       100.        , 100.        , 100.        , 100.        ,\n",
       "       100.        , 100.        ])"
      ]
     },
     "execution_count": 325,
     "metadata": {},
     "output_type": "execute_result"
    }
   ],
   "source": [
    "#now lets out cumulative score \n",
    "cum_score = np.cumsum(test_x.explained_variance_ratio_)*100\n",
    "cum_score  "
   ]
  },
  {
   "cell_type": "code",
   "execution_count": 326,
   "id": "8c856f53",
   "metadata": {},
   "outputs": [
    {
     "name": "stdout",
     "output_type": "stream",
     "text": [
      "Number of components expaining 90% of variance is : 21\n"
     ]
    }
   ],
   "source": [
    "#lets check how many columns gives 90% of variance\n",
    "s = np.argmax(cum_score > 90)\n",
    "print(\"Number of components expaining 90% of variance is :\", s)"
   ]
  },
  {
   "cell_type": "code",
   "execution_count": 327,
   "id": "5a1b7772",
   "metadata": {},
   "outputs": [
    {
     "name": "stdout",
     "output_type": "stream",
     "text": [
      "Number of components expaining 95% of variance is : 24\n"
     ]
    }
   ],
   "source": [
    "#lets check how many columns gives 95% of variance\n",
    "s = np.argmax(cum_score > 95)\n",
    "print(\"Number of components expaining 95% of variance is :\", s)"
   ]
  },
  {
   "cell_type": "code",
   "execution_count": 328,
   "id": "714f0258",
   "metadata": {},
   "outputs": [],
   "source": [
    "#now we have seen that how much data will be lost based number of columns"
   ]
  },
  {
   "cell_type": "code",
   "execution_count": 329,
   "id": "570463d1",
   "metadata": {},
   "outputs": [
    {
     "data": {
      "image/png": "[encoded data removed]",
      "text/plain": [
       "<Figure size 432x288 with 1 Axes>"
      ]
     },
     "metadata": {
      "needs_background": "light"
     },
     "output_type": "display_data"
    }
   ],
   "source": [
    "#lets plot the graph for graphical understanding\n",
    "plt.ylabel('Cumulative Explained Ratio')\n",
    "plt.xlabel('Principle Components')\n",
    "\n",
    "plt.axvline(x = s, color = 'k', linestyle = '--')\n",
    "plt.axhline(y = 95, color = 'k', linestyle = '--')\n",
    "\n",
    "plt.plot(cum_score)\n",
    "plt.show()"
   ]
  },
  {
   "cell_type": "markdown",
   "id": "eb6b3163",
   "metadata": {},
   "source": [
    "#### From the above plot we can see that for 24 columns 95% of data will be retrived"
   ]
  },
  {
   "cell_type": "code",
   "execution_count": 330,
   "id": "c9911ebc",
   "metadata": {},
   "outputs": [],
   "source": [
    "#lets perform the PCA with 24 columns\n",
    "Final_pca = PCA(n_components= 24)\n",
    "\n",
    "pca_x = pd.DataFrame(Final_pca.fit_transform(scaled_X))"
   ]
  },
  {
   "cell_type": "code",
   "execution_count": 331,
   "id": "4f8a2988",
   "metadata": {},
   "outputs": [
    {
     "data": {
      "text/html": [
       "<div>\n",
       "<style scoped>\n",
       "    .dataframe tbody tr th:only-of-type {\n",
       "        vertical-align: middle;\n",
       "    }\n",
       "\n",
       "    .dataframe tbody tr th {\n",
       "        vertical-align: top;\n",
       "    }\n",
       "\n",
       "    .dataframe thead th {\n",
       "        text-align: right;\n",
       "    }\n",
       "</style>\n",
       "<table border=\"1\" class=\"dataframe\">\n",
       "  <thead>\n",
       "    <tr style=\"text-align: right;\">\n",
       "      <th></th>\n",
       "      <th>0</th>\n",
       "      <th>1</th>\n",
       "      <th>2</th>\n",
       "      <th>3</th>\n",
       "      <th>4</th>\n",
       "      <th>5</th>\n",
       "      <th>6</th>\n",
       "      <th>7</th>\n",
       "      <th>8</th>\n",
       "      <th>9</th>\n",
       "      <th>...</th>\n",
       "      <th>14</th>\n",
       "      <th>15</th>\n",
       "      <th>16</th>\n",
       "      <th>17</th>\n",
       "      <th>18</th>\n",
       "      <th>19</th>\n",
       "      <th>20</th>\n",
       "      <th>21</th>\n",
       "      <th>22</th>\n",
       "      <th>23</th>\n",
       "    </tr>\n",
       "  </thead>\n",
       "  <tbody>\n",
       "    <tr>\n",
       "      <th>0</th>\n",
       "      <td>-2.192699</td>\n",
       "      <td>1.542127</td>\n",
       "      <td>0.727769</td>\n",
       "      <td>-2.496979</td>\n",
       "      <td>1.338686</td>\n",
       "      <td>0.723316</td>\n",
       "      <td>-1.474492</td>\n",
       "      <td>1.270844</td>\n",
       "      <td>1.010455</td>\n",
       "      <td>-0.540409</td>\n",
       "      <td>...</td>\n",
       "      <td>-1.459449</td>\n",
       "      <td>0.874077</td>\n",
       "      <td>-0.534552</td>\n",
       "      <td>2.073329</td>\n",
       "      <td>0.236418</td>\n",
       "      <td>-0.394547</td>\n",
       "      <td>0.677808</td>\n",
       "      <td>-0.383034</td>\n",
       "      <td>0.387858</td>\n",
       "      <td>-0.829691</td>\n",
       "    </tr>\n",
       "    <tr>\n",
       "      <th>1</th>\n",
       "      <td>1.710344</td>\n",
       "      <td>3.532091</td>\n",
       "      <td>2.497619</td>\n",
       "      <td>0.051616</td>\n",
       "      <td>-0.892095</td>\n",
       "      <td>1.341630</td>\n",
       "      <td>-2.487105</td>\n",
       "      <td>0.317311</td>\n",
       "      <td>0.209989</td>\n",
       "      <td>0.186169</td>\n",
       "      <td>...</td>\n",
       "      <td>-0.441832</td>\n",
       "      <td>1.043617</td>\n",
       "      <td>-1.098489</td>\n",
       "      <td>1.620898</td>\n",
       "      <td>0.259781</td>\n",
       "      <td>-1.686612</td>\n",
       "      <td>0.475731</td>\n",
       "      <td>-0.162152</td>\n",
       "      <td>1.071892</td>\n",
       "      <td>0.004325</td>\n",
       "    </tr>\n",
       "    <tr>\n",
       "      <th>2</th>\n",
       "      <td>-2.039885</td>\n",
       "      <td>1.491920</td>\n",
       "      <td>0.340745</td>\n",
       "      <td>-2.557698</td>\n",
       "      <td>2.730830</td>\n",
       "      <td>0.629881</td>\n",
       "      <td>-0.537674</td>\n",
       "      <td>-0.304348</td>\n",
       "      <td>1.498850</td>\n",
       "      <td>-0.993167</td>\n",
       "      <td>...</td>\n",
       "      <td>-1.114263</td>\n",
       "      <td>0.981062</td>\n",
       "      <td>-0.127441</td>\n",
       "      <td>0.415369</td>\n",
       "      <td>-0.112957</td>\n",
       "      <td>-0.411257</td>\n",
       "      <td>0.925576</td>\n",
       "      <td>-0.954000</td>\n",
       "      <td>0.960289</td>\n",
       "      <td>-0.061264</td>\n",
       "    </tr>\n",
       "    <tr>\n",
       "      <th>3</th>\n",
       "      <td>0.400537</td>\n",
       "      <td>4.516666</td>\n",
       "      <td>0.438774</td>\n",
       "      <td>-1.035521</td>\n",
       "      <td>-2.035293</td>\n",
       "      <td>2.675528</td>\n",
       "      <td>0.844856</td>\n",
       "      <td>-0.338830</td>\n",
       "      <td>-0.897986</td>\n",
       "      <td>-1.108597</td>\n",
       "      <td>...</td>\n",
       "      <td>-0.587428</td>\n",
       "      <td>-0.072093</td>\n",
       "      <td>0.636558</td>\n",
       "      <td>1.706523</td>\n",
       "      <td>0.179930</td>\n",
       "      <td>-0.149573</td>\n",
       "      <td>0.486078</td>\n",
       "      <td>-1.196597</td>\n",
       "      <td>0.511880</td>\n",
       "      <td>-0.417969</td>\n",
       "    </tr>\n",
       "    <tr>\n",
       "      <th>4</th>\n",
       "      <td>0.194496</td>\n",
       "      <td>3.846113</td>\n",
       "      <td>0.413998</td>\n",
       "      <td>-1.932449</td>\n",
       "      <td>-2.405350</td>\n",
       "      <td>3.145442</td>\n",
       "      <td>0.849181</td>\n",
       "      <td>0.090864</td>\n",
       "      <td>-0.448487</td>\n",
       "      <td>-1.290305</td>\n",
       "      <td>...</td>\n",
       "      <td>-0.591733</td>\n",
       "      <td>1.338267</td>\n",
       "      <td>-0.074845</td>\n",
       "      <td>0.840499</td>\n",
       "      <td>0.280825</td>\n",
       "      <td>-0.095631</td>\n",
       "      <td>0.678041</td>\n",
       "      <td>-1.033412</td>\n",
       "      <td>-0.672433</td>\n",
       "      <td>-0.038003</td>\n",
       "    </tr>\n",
       "  </tbody>\n",
       "</table>\n",
       "<p>5 rows × 24 columns</p>\n",
       "</div>"
      ],
      "text/plain": [
       "         0         1         2         3         4         5         6   \\\n",
       "0 -2.192699  1.542127  0.727769 -2.496979  1.338686  0.723316 -1.474492   \n",
       "1  1.710344  3.532091  2.497619  0.051616 -0.892095  1.341630 -2.487105   \n",
       "2 -2.039885  1.491920  0.340745 -2.557698  2.730830  0.629881 -0.537674   \n",
       "3  0.400537  4.516666  0.438774 -1.035521 -2.035293  2.675528  0.844856   \n",
       "4  0.194496  3.846113  0.413998 -1.932449 -2.405350  3.145442  0.849181   \n",
       "\n",
       "         7         8         9   ...        14        15        16        17  \\\n",
       "0  1.270844  1.010455 -0.540409  ... -1.459449  0.874077 -0.534552  2.073329   \n",
       "1  0.317311  0.209989  0.186169  ... -0.441832  1.043617 -1.098489  1.620898   \n",
       "2 -0.304348  1.498850 -0.993167  ... -1.114263  0.981062 -0.127441  0.415369   \n",
       "3 -0.338830 -0.897986 -1.108597  ... -0.587428 -0.072093  0.636558  1.706523   \n",
       "4  0.090864 -0.448487 -1.290305  ... -0.591733  1.338267 -0.074845  0.840499   \n",
       "\n",
       "         18        19        20        21        22        23  \n",
       "0  0.236418 -0.394547  0.677808 -0.383034  0.387858 -0.829691  \n",
       "1  0.259781 -1.686612  0.475731 -0.162152  1.071892  0.004325  \n",
       "2 -0.112957 -0.411257  0.925576 -0.954000  0.960289 -0.061264  \n",
       "3  0.179930 -0.149573  0.486078 -1.196597  0.511880 -0.417969  \n",
       "4  0.280825 -0.095631  0.678041 -1.033412 -0.672433 -0.038003  \n",
       "\n",
       "[5 rows x 24 columns]"
      ]
     },
     "execution_count": 331,
     "metadata": {},
     "output_type": "execute_result"
    }
   ],
   "source": [
    "#lets create a datafram\n",
    "pca_x.head()"
   ]
  },
  {
   "cell_type": "code",
   "execution_count": 332,
   "id": "5f139302",
   "metadata": {},
   "outputs": [
    {
     "name": "stdout",
     "output_type": "stream",
     "text": [
      "variance is : 0.9438621600976537\n"
     ]
    }
   ],
   "source": [
    "print(\"variance is : {}\".format(np.sum(Final_pca.explained_variance_ratio_)))"
   ]
  },
  {
   "cell_type": "code",
   "execution_count": 333,
   "id": "bab580d9",
   "metadata": {},
   "outputs": [
    {
     "data": {
      "text/plain": [
       "(2736, 24)"
      ]
     },
     "execution_count": 333,
     "metadata": {},
     "output_type": "execute_result"
    }
   ],
   "source": [
    "pca_x.shape"
   ]
  },
  {
   "cell_type": "markdown",
   "id": "7d380c7a",
   "metadata": {},
   "source": [
    "## Best random state"
   ]
  },
  {
   "cell_type": "code",
   "execution_count": 334,
   "id": "ab81b282",
   "metadata": {},
   "outputs": [
    {
     "name": "stdout",
     "output_type": "stream",
     "text": [
      "Best r2 score is 0.7001818627353105 on random state 66\n"
     ]
    }
   ],
   "source": [
    "max_r2score = 0\n",
    "rand_state = 0\n",
    "for i in range(1,200):\n",
    "    x_train,x_test,y_train,y_test = train_test_split(pca_x,Y,test_size=.22,random_state= i )\n",
    "    lr = LinearRegression()\n",
    "    lr.fit(x_train,y_train)\n",
    "    pred = lr.predict(x_test)\n",
    "    r2 = r2_score(y_test,pred)\n",
    "    if r2 > max_r2score:\n",
    "        max_r2score = r2\n",
    "        rand_state = i\n",
    "print('Best r2 score is {} on random state {}'.format(max_r2score,rand_state)) "
   ]
  },
  {
   "cell_type": "code",
   "execution_count": 335,
   "id": "6a3016df",
   "metadata": {},
   "outputs": [
    {
     "name": "stdout",
     "output_type": "stream",
     "text": [
      "We got our best randoms sate as : 66\n"
     ]
    }
   ],
   "source": [
    "print('We got our best randoms sate as :',rand_state)"
   ]
  },
  {
   "cell_type": "code",
   "execution_count": 336,
   "id": "5a4a5986",
   "metadata": {},
   "outputs": [],
   "source": [
    "#Lets split for train and test data\n",
    "x_train,x_test,y_train,y_test = train_test_split(pca_x,Y,test_size=.22,random_state= rand_state )"
   ]
  },
  {
   "cell_type": "code",
   "execution_count": 337,
   "id": "f0d77082",
   "metadata": {},
   "outputs": [
    {
     "name": "stdout",
     "output_type": "stream",
     "text": [
      "r2_score of linear refression is : 0.7001818627353105\n",
      "Error :\n",
      "mean absolute error : 1670.636530491145\n",
      "mean squared error :  4381786.980240205\n",
      "root mean squared error : 2093.271836202887\n"
     ]
    }
   ],
   "source": [
    "lrg = LinearRegression()\n",
    "lrg.fit(x_train,y_train)\n",
    "pr =lrg.predict(x_test)\n",
    "print(\"r2_score of linear refression is :\", r2_score(y_test,pr))\n",
    "print('Error :')\n",
    "print('mean absolute error :',mean_absolute_error(y_test,pred))\n",
    "print('mean squared error : ', mean_squared_error(y_test,pred))\n",
    "print('root mean squared error :',np.sqrt(mean_squared_error(y_test,pred)))"
   ]
  },
  {
   "cell_type": "markdown",
   "id": "e9508b8e",
   "metadata": {},
   "source": [
    "## Model selection :"
   ]
  },
  {
   "cell_type": "code",
   "execution_count": 338,
   "id": "2fe92aba",
   "metadata": {},
   "outputs": [],
   "source": [
    "#lets Choose r2 score of below four Models\n",
    "dtc = DecisionTreeRegressor()\n",
    "knn = KNeighborsRegressor(n_neighbors=5)\n",
    "rf = RandomForestRegressor()\n",
    "ada = AdaBoostRegressor()"
   ]
  },
  {
   "cell_type": "code",
   "execution_count": 339,
   "id": "65beefd7",
   "metadata": {},
   "outputs": [
    {
     "name": "stdout",
     "output_type": "stream",
     "text": [
      "\n",
      "\n",
      "DecisionTreeRegressor()\n",
      "Scores :\n",
      "r2 score: 0.5334399555510634\n",
      "Cross Val score : -2.742486354477646\n",
      "Error :\n",
      "mean absolute error : 485.2392026578073\n",
      "mean squared error :  1221777.900332226\n",
      "root mean squared error : 1105.3406263827571\n",
      "Difference :\n",
      "Diffrence between cross val score and r2 score is : 3.28\n",
      "\n",
      "\n",
      "KNeighborsRegressor()\n",
      "Scores :\n",
      "r2 score: 0.6614383136547161\n",
      "Cross Val score : -1.9985665498876681\n",
      "Error :\n",
      "mean absolute error : 555.2803986710963\n",
      "mean squared error :  886589.3922923588\n",
      "root mean squared error : 941.5887596463537\n",
      "Difference :\n",
      "Diffrence between cross val score and r2 score is : 2.66\n",
      "\n",
      "\n",
      "RandomForestRegressor()\n",
      "Scores :\n",
      "r2 score: 0.7702077468917813\n",
      "Cross Val score : -1.2168980578270705\n",
      "Error :\n",
      "mean absolute error : 442.6193258582503\n",
      "mean squared error :  601755.5507711259\n",
      "root mean squared error : 775.7290446870776\n",
      "Difference :\n",
      "Diffrence between cross val score and r2 score is : 1.99\n",
      "\n",
      "\n",
      "AdaBoostRegressor()\n",
      "Scores :\n",
      "r2 score: 0.36531936226646056\n",
      "Cross Val score : -7.336850527536043\n",
      "Error :\n",
      "mean absolute error : 1110.39027920876\n",
      "mean squared error :  1662034.257278692\n",
      "root mean squared error : 1289.1990758911875\n",
      "Difference :\n",
      "Diffrence between cross val score and r2 score is : 7.70\n"
     ]
    }
   ],
   "source": [
    "#checking each model with Cross val score\n",
    "model_list = [dtc,knn,rf,ada]\n",
    "least_difference = []\n",
    "for m in model_list:\n",
    "    m.fit(x_train,y_train)\n",
    "    pred = m.predict(x_test)\n",
    "    cvs = cross_val_score(m,pca_x,Y,cv =5)\n",
    "    print('\\n')\n",
    "    print(m)\n",
    "    print('Scores :')\n",
    "    print('r2 score:',r2_score(y_test,pred))\n",
    "    print('Cross Val score :',cvs.mean())\n",
    "    print('Error :')\n",
    "    print('mean absolute error :',mean_absolute_error(y_test,pred))\n",
    "    print('mean squared error : ', mean_squared_error(y_test,pred))\n",
    "    print('root mean squared error :',np.sqrt(mean_squared_error(y_test,pred)))\n",
    "    print('Difference :')\n",
    "    difference = np.abs(r2_score(y_test,pred) - cvs.mean())\n",
    "    print('Diffrence between cross val score and r2 score is : {0:.2f}'.format(difference))\n",
    "    least_difference.append((m,'Diffrence between cross val score and r2 score error is : {0:.2f}'.format(difference)))"
   ]
  },
  {
   "cell_type": "markdown",
   "id": "90f24178",
   "metadata": {},
   "source": [
    "## Linear Regression giving the best Score of 70%"
   ]
  },
  {
   "cell_type": "markdown",
   "id": "86b3d72c",
   "metadata": {},
   "source": [
    "## Hyperparameter Tuning:"
   ]
  },
  {
   "cell_type": "code",
   "execution_count": 340,
   "id": "e66ebed4",
   "metadata": {},
   "outputs": [
    {
     "name": "stdout",
     "output_type": "stream",
     "text": [
      "0.5506385764768732\n",
      "{'copy_X': True, 'fit_intercept': True, 'normalize': True, 'positive': False}\n"
     ]
    }
   ],
   "source": [
    "#lets use parameters of linear regression\n",
    "parameters = {'fit_intercept' : [True,False],'normalize':[True,False],'copy_X':[True,False],'positive':[True,False]}\n",
    "\n",
    "gsvrf = GridSearchCV(lrg, parameters, cv=5,scoring=\"r2\")\n",
    "gsvrf.fit(x_train,y_train)\n",
    "print(gsvrf.best_score_)\n",
    "print(gsvrf.best_params_)"
   ]
  },
  {
   "cell_type": "markdown",
   "id": "f93c4e6f",
   "metadata": {},
   "source": [
    "## Creating a Final Model as Linear Regressor"
   ]
  },
  {
   "cell_type": "code",
   "execution_count": 341,
   "id": "77b42a20",
   "metadata": {},
   "outputs": [
    {
     "name": "stdout",
     "output_type": "stream",
     "text": [
      "r2_score of linear refression is : 0.7001818627353105\n",
      "Error :\n",
      "mean absolute error : 1110.39027920876\n",
      "mean squared error :  1662034.257278692\n",
      "root mean squared error : 1289.1990758911875\n"
     ]
    }
   ],
   "source": [
    "lrg = LinearRegression(fit_intercept= True,normalize= True,copy_X=True,positive= False)\n",
    "lrg.fit(x_train,y_train)\n",
    "pr =lrg.predict(x_test)\n",
    "print(\"r2_score of linear refression is :\", r2_score(y_test,pr))\n",
    "print('Error :')\n",
    "print('mean absolute error :',mean_absolute_error(y_test,pred))\n",
    "print('mean squared error : ', mean_squared_error(y_test,pred))\n",
    "print('root mean squared error :',np.sqrt(mean_squared_error(y_test,pred)))"
   ]
  },
  {
   "cell_type": "markdown",
   "id": "2bb17376",
   "metadata": {},
   "source": [
    "## Saving the model:"
   ]
  },
  {
   "cell_type": "code",
   "execution_count": 342,
   "id": "3e1e626f",
   "metadata": {},
   "outputs": [
    {
     "data": {
      "text/plain": [
       "['Flight_Price_Prediction.obj']"
      ]
     },
     "execution_count": 342,
     "metadata": {},
     "output_type": "execute_result"
    }
   ],
   "source": [
    "#serialization using joblib\n",
    "import joblib\n",
    "joblib.dump(lrg,'Flight_Price_Prediction.obj')"
   ]
  },
  {
   "cell_type": "code",
   "execution_count": 343,
   "id": "dcf60cfc",
   "metadata": {},
   "outputs": [],
   "source": [
    "Flight_Price = joblib.load('Flight_Price_Prediction.obj')"
   ]
  },
  {
   "cell_type": "code",
   "execution_count": 344,
   "id": "d0261d38",
   "metadata": {},
   "outputs": [],
   "source": [
    "s_pred = Flight_Price.predict(x_test)"
   ]
  },
  {
   "cell_type": "code",
   "execution_count": 345,
   "id": "3cf8285a",
   "metadata": {},
   "outputs": [
    {
     "data": {
      "text/plain": [
       "0.7001818627353105"
      ]
     },
     "execution_count": 345,
     "metadata": {},
     "output_type": "execute_result"
    }
   ],
   "source": [
    "r2_score(y_test,s_pred)"
   ]
  },
  {
   "cell_type": "markdown",
   "id": "9f48efa7",
   "metadata": {},
   "source": [
    "our r2_score is 70.18% percent"
   ]
  },
  {
   "cell_type": "code",
   "execution_count": 346,
   "id": "4411c57f",
   "metadata": {},
   "outputs": [
    {
     "data": {
      "image/png": "[encoded data removed]",
      "text/plain": [
       "<Figure size 432x288 with 1 Axes>"
      ]
     },
     "metadata": {
      "needs_background": "light"
     },
     "output_type": "display_data"
    }
   ],
   "source": [
    "#lets plot y_test vs predicted \n",
    "\n",
    "plt.figure(figsize=(6,4))\n",
    "plt.scatter(x = y_test,y = s_pred,color = 'r')\n",
    "plt.plot(y_test,y_test,color = 'b')\n",
    "plt.xlabel('Actual charges')\n",
    "plt.ylabel('Predicted charges')\n",
    "plt.title('Random forest Regressor')\n",
    "plt.show()"
   ]
  },
  {
   "cell_type": "markdown",
   "id": "3e908e53",
   "metadata": {},
   "source": [
    "we can see that values are very close to the line"
   ]
  },
  {
   "cell_type": "markdown",
   "id": "d3e265d5",
   "metadata": {},
   "source": [
    "## Conclusion"
   ]
  },
  {
   "cell_type": "code",
   "execution_count": 347,
   "id": "991b2d1c",
   "metadata": {},
   "outputs": [
    {
     "data": {
      "text/html": [
       "<div>\n",
       "<style scoped>\n",
       "    .dataframe tbody tr th:only-of-type {\n",
       "        vertical-align: middle;\n",
       "    }\n",
       "\n",
       "    .dataframe tbody tr th {\n",
       "        vertical-align: top;\n",
       "    }\n",
       "\n",
       "    .dataframe thead th {\n",
       "        text-align: right;\n",
       "    }\n",
       "</style>\n",
       "<table border=\"1\" class=\"dataframe\">\n",
       "  <thead>\n",
       "    <tr style=\"text-align: right;\">\n",
       "      <th></th>\n",
       "      <th>0</th>\n",
       "      <th>1</th>\n",
       "      <th>2</th>\n",
       "      <th>3</th>\n",
       "      <th>4</th>\n",
       "      <th>5</th>\n",
       "      <th>6</th>\n",
       "      <th>7</th>\n",
       "      <th>8</th>\n",
       "      <th>9</th>\n",
       "      <th>...</th>\n",
       "      <th>592</th>\n",
       "      <th>593</th>\n",
       "      <th>594</th>\n",
       "      <th>595</th>\n",
       "      <th>596</th>\n",
       "      <th>597</th>\n",
       "      <th>598</th>\n",
       "      <th>599</th>\n",
       "      <th>600</th>\n",
       "      <th>601</th>\n",
       "    </tr>\n",
       "  </thead>\n",
       "  <tbody>\n",
       "    <tr>\n",
       "      <th>Predicted</th>\n",
       "      <td>6462.494258</td>\n",
       "      <td>6529.829707</td>\n",
       "      <td>6159.208977</td>\n",
       "      <td>7773.644068</td>\n",
       "      <td>5550.990333</td>\n",
       "      <td>9715.286529</td>\n",
       "      <td>6782.154031</td>\n",
       "      <td>9161.34193</td>\n",
       "      <td>8382.196395</td>\n",
       "      <td>5953.245674</td>\n",
       "      <td>...</td>\n",
       "      <td>5480.222974</td>\n",
       "      <td>5292.745223</td>\n",
       "      <td>8080.594537</td>\n",
       "      <td>7781.979202</td>\n",
       "      <td>6708.141465</td>\n",
       "      <td>9220.62811</td>\n",
       "      <td>6341.6919</td>\n",
       "      <td>10195.635693</td>\n",
       "      <td>8258.361104</td>\n",
       "      <td>6845.516572</td>\n",
       "    </tr>\n",
       "    <tr>\n",
       "      <th>Actual</th>\n",
       "      <td>5955.000000</td>\n",
       "      <td>6165.000000</td>\n",
       "      <td>5954.000000</td>\n",
       "      <td>9514.000000</td>\n",
       "      <td>5954.000000</td>\n",
       "      <td>8794.000000</td>\n",
       "      <td>5955.000000</td>\n",
       "      <td>8794.00000</td>\n",
       "      <td>7741.000000</td>\n",
       "      <td>5954.000000</td>\n",
       "      <td>...</td>\n",
       "      <td>5955.000000</td>\n",
       "      <td>5954.000000</td>\n",
       "      <td>9513.000000</td>\n",
       "      <td>7530.000000</td>\n",
       "      <td>5955.000000</td>\n",
       "      <td>9933.00000</td>\n",
       "      <td>5954.0000</td>\n",
       "      <td>9109.000000</td>\n",
       "      <td>7412.000000</td>\n",
       "      <td>7425.000000</td>\n",
       "    </tr>\n",
       "  </tbody>\n",
       "</table>\n",
       "<p>2 rows × 602 columns</p>\n",
       "</div>"
      ],
      "text/plain": [
       "                   0            1            2            3            4    \\\n",
       "Predicted  6462.494258  6529.829707  6159.208977  7773.644068  5550.990333   \n",
       "Actual     5955.000000  6165.000000  5954.000000  9514.000000  5954.000000   \n",
       "\n",
       "                   5            6           7            8            9    \\\n",
       "Predicted  9715.286529  6782.154031  9161.34193  8382.196395  5953.245674   \n",
       "Actual     8794.000000  5955.000000  8794.00000  7741.000000  5954.000000   \n",
       "\n",
       "           ...          592          593          594          595  \\\n",
       "Predicted  ...  5480.222974  5292.745223  8080.594537  7781.979202   \n",
       "Actual     ...  5955.000000  5954.000000  9513.000000  7530.000000   \n",
       "\n",
       "                   596         597        598           599          600  \\\n",
       "Predicted  6708.141465  9220.62811  6341.6919  10195.635693  8258.361104   \n",
       "Actual     5955.000000  9933.00000  5954.0000   9109.000000  7412.000000   \n",
       "\n",
       "                   601  \n",
       "Predicted  6845.516572  \n",
       "Actual     7425.000000  \n",
       "\n",
       "[2 rows x 602 columns]"
      ]
     },
     "execution_count": 347,
     "metadata": {},
     "output_type": "execute_result"
    }
   ],
   "source": [
    "#lets make a dataframe of actual answers vs predicted answers\n",
    "conclusion = pd.DataFrame((Flight_Price.predict(x_test)[:],y_test[:]),index= ['Predicted','Actual'])\n",
    "conclusion"
   ]
  },
  {
   "cell_type": "markdown",
   "id": "6ffdddeb",
   "metadata": {},
   "source": [
    "70% of Our answers are correct, and the model is also not overfitted"
   ]
  },
  {
   "cell_type": "code",
   "execution_count": null,
   "id": "e1c444ba",
   "metadata": {},
   "outputs": [],
   "source": []
  }
 ],
 "metadata": {
  "kernelspec": {
   "display_name": "Python 3",
   "language": "python",
   "name": "python3"
  },
  "language_info": {
   "codemirror_mode": {
    "name": "ipython",
    "version": 3
   },
   "file_extension": ".py",
   "mimetype": "text/x-python",
   "name": "python",
   "nbconvert_exporter": "python",
   "pygments_lexer": "ipython3",
   "version": "3.8.8"
  }
 },
 "nbformat": 4,
 "nbformat_minor": 5
}
