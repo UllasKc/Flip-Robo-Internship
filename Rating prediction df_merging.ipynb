{
 "cells": [
  {
   "cell_type": "code",
   "execution_count": 87,
   "id": "827559ac",
   "metadata": {},
   "outputs": [],
   "source": [
    "import pandas as pd"
   ]
  },
  {
   "cell_type": "code",
   "execution_count": 88,
   "id": "43225896",
   "metadata": {},
   "outputs": [],
   "source": [
    "phone_df_1 = pd.read_csv(\"Phone_df1.csv\")"
   ]
  },
  {
   "cell_type": "code",
   "execution_count": 89,
   "id": "cb403ae5",
   "metadata": {},
   "outputs": [
    {
     "data": {
      "text/plain": [
       "(1000, 5)"
      ]
     },
     "execution_count": 89,
     "metadata": {},
     "output_type": "execute_result"
    }
   ],
   "source": [
    "phone_df_1.shape"
   ]
  },
  {
   "cell_type": "code",
   "execution_count": 90,
   "id": "0c9b80c8",
   "metadata": {},
   "outputs": [],
   "source": [
    "phone_df_2 = pd.read_csv(\"Phone_df2.csv\")"
   ]
  },
  {
   "cell_type": "code",
   "execution_count": 91,
   "id": "15e558db",
   "metadata": {},
   "outputs": [
    {
     "data": {
      "text/plain": [
       "(1000, 5)"
      ]
     },
     "execution_count": 91,
     "metadata": {},
     "output_type": "execute_result"
    }
   ],
   "source": [
    "phone_df_2.shape"
   ]
  },
  {
   "cell_type": "code",
   "execution_count": 92,
   "id": "dc3fa5cf",
   "metadata": {},
   "outputs": [],
   "source": [
    "phone_df_3 = pd.read_csv(\"Phone_df3.csv\")"
   ]
  },
  {
   "cell_type": "code",
   "execution_count": 93,
   "id": "a9b93c03",
   "metadata": {},
   "outputs": [
    {
     "data": {
      "text/plain": [
       "(1000, 5)"
      ]
     },
     "execution_count": 93,
     "metadata": {},
     "output_type": "execute_result"
    }
   ],
   "source": [
    "phone_df_3.shape"
   ]
  },
  {
   "cell_type": "code",
   "execution_count": 94,
   "id": "a2f050f3",
   "metadata": {},
   "outputs": [],
   "source": [
    "tv_df_1 = pd.read_csv(\"TV_df1.csv\")"
   ]
  },
  {
   "cell_type": "code",
   "execution_count": 95,
   "id": "58ac81c2",
   "metadata": {},
   "outputs": [
    {
     "data": {
      "text/plain": [
       "(1000, 5)"
      ]
     },
     "execution_count": 95,
     "metadata": {},
     "output_type": "execute_result"
    }
   ],
   "source": [
    "tv_df_1.shape"
   ]
  },
  {
   "cell_type": "code",
   "execution_count": 96,
   "id": "5e3fd438",
   "metadata": {},
   "outputs": [],
   "source": [
    "tv_df_2 = pd.read_csv(\"TV_df2.csv\")"
   ]
  },
  {
   "cell_type": "code",
   "execution_count": 97,
   "id": "62be0c75",
   "metadata": {},
   "outputs": [
    {
     "data": {
      "text/plain": [
       "(500, 5)"
      ]
     },
     "execution_count": 97,
     "metadata": {},
     "output_type": "execute_result"
    }
   ],
   "source": [
    "tv_df_2.shape"
   ]
  },
  {
   "cell_type": "code",
   "execution_count": 98,
   "id": "18e348d8",
   "metadata": {},
   "outputs": [],
   "source": [
    "tv_df_3 = pd.read_csv(\"TV_df3.csv\")"
   ]
  },
  {
   "cell_type": "code",
   "execution_count": 99,
   "id": "6f2bbd62",
   "metadata": {},
   "outputs": [
    {
     "data": {
      "text/plain": [
       "(950, 5)"
      ]
     },
     "execution_count": 99,
     "metadata": {},
     "output_type": "execute_result"
    }
   ],
   "source": [
    "tv_df_3.shape"
   ]
  },
  {
   "cell_type": "code",
   "execution_count": 100,
   "id": "ba1494ae",
   "metadata": {},
   "outputs": [],
   "source": [
    "camera_df_1 = pd.read_csv(\"Camera_df1.csv\")"
   ]
  },
  {
   "cell_type": "code",
   "execution_count": 101,
   "id": "e2602c74",
   "metadata": {},
   "outputs": [
    {
     "data": {
      "text/plain": [
       "(450, 5)"
      ]
     },
     "execution_count": 101,
     "metadata": {},
     "output_type": "execute_result"
    }
   ],
   "source": [
    "camera_df_1.shape"
   ]
  },
  {
   "cell_type": "code",
   "execution_count": 102,
   "id": "0f309dc9",
   "metadata": {},
   "outputs": [],
   "source": [
    "watch_df_1 = pd.read_csv(\"watch_df1.csv\")"
   ]
  },
  {
   "cell_type": "code",
   "execution_count": 103,
   "id": "0ffc33de",
   "metadata": {},
   "outputs": [
    {
     "data": {
      "text/plain": [
       "(800, 5)"
      ]
     },
     "execution_count": 103,
     "metadata": {},
     "output_type": "execute_result"
    }
   ],
   "source": [
    "watch_df_1.shape"
   ]
  },
  {
   "cell_type": "code",
   "execution_count": 104,
   "id": "16ef2040",
   "metadata": {},
   "outputs": [],
   "source": [
    "printer_df_1 = pd.read_csv(\"printer_df1.csv\")"
   ]
  },
  {
   "cell_type": "code",
   "execution_count": 105,
   "id": "56cd5fd3",
   "metadata": {},
   "outputs": [
    {
     "data": {
      "text/plain": [
       "(300, 5)"
      ]
     },
     "execution_count": 105,
     "metadata": {},
     "output_type": "execute_result"
    }
   ],
   "source": [
    "printer_df_1.shape"
   ]
  },
  {
   "cell_type": "code",
   "execution_count": 106,
   "id": "787dd450",
   "metadata": {},
   "outputs": [],
   "source": [
    "router_df_1 = pd.read_csv(\"router_df1.csv\")"
   ]
  },
  {
   "cell_type": "code",
   "execution_count": 107,
   "id": "28b68a6a",
   "metadata": {},
   "outputs": [
    {
     "data": {
      "text/plain": [
       "(800, 5)"
      ]
     },
     "execution_count": 107,
     "metadata": {},
     "output_type": "execute_result"
    }
   ],
   "source": [
    "router_df_1.shape"
   ]
  },
  {
   "cell_type": "code",
   "execution_count": 108,
   "id": "73e4b16a",
   "metadata": {},
   "outputs": [],
   "source": [
    "router_df_2 = pd.read_csv(\"router_df2.csv\")"
   ]
  },
  {
   "cell_type": "code",
   "execution_count": 109,
   "id": "96d2c8ec",
   "metadata": {},
   "outputs": [
    {
     "data": {
      "text/plain": [
       "(756, 5)"
      ]
     },
     "execution_count": 109,
     "metadata": {},
     "output_type": "execute_result"
    }
   ],
   "source": [
    "router_df_2.shape"
   ]
  },
  {
   "cell_type": "code",
   "execution_count": 110,
   "id": "74b31857",
   "metadata": {},
   "outputs": [],
   "source": [
    "df_earphones_1 = pd.read_csv(\"df_earphones1.csv\")"
   ]
  },
  {
   "cell_type": "code",
   "execution_count": 111,
   "id": "1522b296",
   "metadata": {},
   "outputs": [
    {
     "data": {
      "text/plain": [
       "(1000, 5)"
      ]
     },
     "execution_count": 111,
     "metadata": {},
     "output_type": "execute_result"
    }
   ],
   "source": [
    "df_earphones_1.shape"
   ]
  },
  {
   "cell_type": "code",
   "execution_count": 112,
   "id": "13d8cfdb",
   "metadata": {},
   "outputs": [],
   "source": [
    "df_smartband_1 = pd.read_csv(\"df_smartband.csv\")"
   ]
  },
  {
   "cell_type": "code",
   "execution_count": 113,
   "id": "dcfe9c97",
   "metadata": {},
   "outputs": [
    {
     "data": {
      "text/plain": [
       "(795, 5)"
      ]
     },
     "execution_count": 113,
     "metadata": {},
     "output_type": "execute_result"
    }
   ],
   "source": [
    "df_smartband_1.shape"
   ]
  },
  {
   "cell_type": "code",
   "execution_count": 114,
   "id": "2a9aa77c",
   "metadata": {},
   "outputs": [],
   "source": [
    "phone_df_4 = pd.read_csv(\"df_phone_4.csv\")"
   ]
  },
  {
   "cell_type": "code",
   "execution_count": 115,
   "id": "80883947",
   "metadata": {},
   "outputs": [
    {
     "data": {
      "text/plain": [
       "(800, 5)"
      ]
     },
     "execution_count": 115,
     "metadata": {},
     "output_type": "execute_result"
    }
   ],
   "source": [
    "phone_df_4.shape"
   ]
  },
  {
   "cell_type": "code",
   "execution_count": 116,
   "id": "689126ff",
   "metadata": {},
   "outputs": [],
   "source": [
    "phone_df_5 = pd.read_csv(\"df_phone_5.csv\")"
   ]
  },
  {
   "cell_type": "code",
   "execution_count": 117,
   "id": "aae089f2",
   "metadata": {},
   "outputs": [
    {
     "data": {
      "text/plain": [
       "(800, 5)"
      ]
     },
     "execution_count": 117,
     "metadata": {},
     "output_type": "execute_result"
    }
   ],
   "source": [
    "phone_df_5.shape"
   ]
  },
  {
   "cell_type": "code",
   "execution_count": 118,
   "id": "11c39011",
   "metadata": {},
   "outputs": [],
   "source": [
    "home_teatre_1 = pd.read_csv(\"df_Home_teatre.csv\")"
   ]
  },
  {
   "cell_type": "code",
   "execution_count": 119,
   "id": "2f7a2331",
   "metadata": {},
   "outputs": [
    {
     "data": {
      "text/plain": [
       "(800, 5)"
      ]
     },
     "execution_count": 119,
     "metadata": {},
     "output_type": "execute_result"
    }
   ],
   "source": [
    "home_teatre_1.shape"
   ]
  },
  {
   "cell_type": "code",
   "execution_count": 120,
   "id": "78603ae8",
   "metadata": {},
   "outputs": [],
   "source": [
    "Air_pods_1 = pd.read_csv(\"df_Air_Pods.csv\")"
   ]
  },
  {
   "cell_type": "code",
   "execution_count": 121,
   "id": "4345db79",
   "metadata": {},
   "outputs": [
    {
     "data": {
      "text/plain": [
       "(800, 5)"
      ]
     },
     "execution_count": 121,
     "metadata": {},
     "output_type": "execute_result"
    }
   ],
   "source": [
    "Air_pods_1.shape"
   ]
  },
  {
   "cell_type": "code",
   "execution_count": 122,
   "id": "d09ad4ed",
   "metadata": {},
   "outputs": [],
   "source": [
    "watch_df_2 = pd.read_csv(\"df_watch2.csv\")"
   ]
  },
  {
   "cell_type": "code",
   "execution_count": 123,
   "id": "f77e7225",
   "metadata": {},
   "outputs": [
    {
     "data": {
      "text/plain": [
       "(800, 5)"
      ]
     },
     "execution_count": 123,
     "metadata": {},
     "output_type": "execute_result"
    }
   ],
   "source": [
    "watch_df_2.shape"
   ]
  },
  {
   "cell_type": "code",
   "execution_count": 124,
   "id": "e863c6a4",
   "metadata": {},
   "outputs": [],
   "source": [
    "phone_df_6 = pd.read_csv(\"df_phone_11.csv\")"
   ]
  },
  {
   "cell_type": "code",
   "execution_count": 125,
   "id": "70fe1b52",
   "metadata": {},
   "outputs": [
    {
     "data": {
      "text/plain": [
       "(800, 5)"
      ]
     },
     "execution_count": 125,
     "metadata": {},
     "output_type": "execute_result"
    }
   ],
   "source": [
    "phone_df_6.shape"
   ]
  },
  {
   "cell_type": "code",
   "execution_count": 126,
   "id": "c911e3a1",
   "metadata": {},
   "outputs": [],
   "source": [
    "phone_df_7 = pd.read_csv(\"df_phone_12.csv\")"
   ]
  },
  {
   "cell_type": "code",
   "execution_count": 127,
   "id": "8f94a6bc",
   "metadata": {},
   "outputs": [
    {
     "data": {
      "text/plain": [
       "(695, 5)"
      ]
     },
     "execution_count": 127,
     "metadata": {},
     "output_type": "execute_result"
    }
   ],
   "source": [
    "phone_df_7.shape"
   ]
  },
  {
   "cell_type": "code",
   "execution_count": 128,
   "id": "ae2f2ffa",
   "metadata": {},
   "outputs": [],
   "source": [
    "printer_df_2 = pd.read_csv(\"df_printer2.csv\")"
   ]
  },
  {
   "cell_type": "code",
   "execution_count": 129,
   "id": "1b54e017",
   "metadata": {},
   "outputs": [
    {
     "data": {
      "text/plain": [
       "(800, 5)"
      ]
     },
     "execution_count": 129,
     "metadata": {},
     "output_type": "execute_result"
    }
   ],
   "source": [
    "printer_df_2.shape"
   ]
  },
  {
   "cell_type": "code",
   "execution_count": 130,
   "id": "a93404b0",
   "metadata": {},
   "outputs": [],
   "source": [
    "tv_df_4 = pd.read_csv(\"df_TV_4.csv\")"
   ]
  },
  {
   "cell_type": "code",
   "execution_count": 131,
   "id": "31292050",
   "metadata": {},
   "outputs": [
    {
     "data": {
      "text/plain": [
       "(720, 5)"
      ]
     },
     "execution_count": 131,
     "metadata": {},
     "output_type": "execute_result"
    }
   ],
   "source": [
    "tv_df_4.shape"
   ]
  },
  {
   "cell_type": "code",
   "execution_count": 132,
   "id": "5994cf35",
   "metadata": {},
   "outputs": [],
   "source": [
    "tv_df_5 = pd.read_csv(\"df_TV_5.csv\")"
   ]
  },
  {
   "cell_type": "code",
   "execution_count": 133,
   "id": "3a6cc264",
   "metadata": {},
   "outputs": [
    {
     "data": {
      "text/plain": [
       "(570, 5)"
      ]
     },
     "execution_count": 133,
     "metadata": {},
     "output_type": "execute_result"
    }
   ],
   "source": [
    "tv_df_5.shape"
   ]
  },
  {
   "cell_type": "code",
   "execution_count": 134,
   "id": "0dd1a5ce",
   "metadata": {},
   "outputs": [],
   "source": [
    "headphone_df_1 = pd.read_csv(\"df_headphones1.csv\")"
   ]
  },
  {
   "cell_type": "code",
   "execution_count": 135,
   "id": "7c6937ea",
   "metadata": {},
   "outputs": [
    {
     "data": {
      "text/plain": [
       "(997, 5)"
      ]
     },
     "execution_count": 135,
     "metadata": {},
     "output_type": "execute_result"
    }
   ],
   "source": [
    "headphone_df_1.shape"
   ]
  },
  {
   "cell_type": "code",
   "execution_count": 143,
   "id": "3bc33a30",
   "metadata": {},
   "outputs": [],
   "source": [
    "phone_df_8 = pd.read_csv(\"df_phone_r.csv\")"
   ]
  },
  {
   "cell_type": "code",
   "execution_count": 150,
   "id": "a5c17c16",
   "metadata": {},
   "outputs": [
    {
     "data": {
      "text/plain": [
       "(928, 5)"
      ]
     },
     "execution_count": 150,
     "metadata": {},
     "output_type": "execute_result"
    }
   ],
   "source": [
    "phone_df_8.shape"
   ]
  },
  {
   "cell_type": "code",
   "execution_count": 151,
   "id": "952cdd04",
   "metadata": {},
   "outputs": [],
   "source": [
    "phone_df_n1 = pd.read_csv(\"df_phone_n1.csv\")"
   ]
  },
  {
   "cell_type": "code",
   "execution_count": 152,
   "id": "fadffa5f",
   "metadata": {},
   "outputs": [
    {
     "data": {
      "text/plain": [
       "(103, 5)"
      ]
     },
     "execution_count": 152,
     "metadata": {},
     "output_type": "execute_result"
    }
   ],
   "source": [
    "phone_df_n1.shape"
   ]
  },
  {
   "cell_type": "code",
   "execution_count": 153,
   "id": "12683e32",
   "metadata": {},
   "outputs": [],
   "source": [
    "phone_df_n2 = pd.read_csv(\"df_phone_n2.csv\")"
   ]
  },
  {
   "cell_type": "code",
   "execution_count": 154,
   "id": "afc069f2",
   "metadata": {},
   "outputs": [
    {
     "data": {
      "text/plain": [
       "(82, 5)"
      ]
     },
     "execution_count": 154,
     "metadata": {},
     "output_type": "execute_result"
    }
   ],
   "source": [
    "phone_df_n2.shape"
   ]
  },
  {
   "cell_type": "code",
   "execution_count": 155,
   "id": "25177dc6",
   "metadata": {},
   "outputs": [],
   "source": [
    "phone_df_n3 = pd.read_csv(\"df_phone_n3.csv\")"
   ]
  },
  {
   "cell_type": "code",
   "execution_count": 156,
   "id": "aaba10d4",
   "metadata": {},
   "outputs": [
    {
     "data": {
      "text/plain": [
       "(93, 5)"
      ]
     },
     "execution_count": 156,
     "metadata": {},
     "output_type": "execute_result"
    }
   ],
   "source": [
    "phone_df_n3.shape"
   ]
  },
  {
   "cell_type": "code",
   "execution_count": 157,
   "id": "8a962ffb",
   "metadata": {},
   "outputs": [],
   "source": [
    "phone_df_n4 = pd.read_csv(\"df_phone_n4.csv\")"
   ]
  },
  {
   "cell_type": "code",
   "execution_count": 158,
   "id": "54e2a45e",
   "metadata": {},
   "outputs": [
    {
     "data": {
      "text/plain": [
       "(400, 5)"
      ]
     },
     "execution_count": 158,
     "metadata": {},
     "output_type": "execute_result"
    }
   ],
   "source": [
    "phone_df_n4.shape"
   ]
  },
  {
   "cell_type": "code",
   "execution_count": 188,
   "id": "3770e367",
   "metadata": {},
   "outputs": [],
   "source": [
    "phone_df_n5 = pd.read_csv(\"df_phone_n5.csv\")"
   ]
  },
  {
   "cell_type": "code",
   "execution_count": 189,
   "id": "fbd469db",
   "metadata": {},
   "outputs": [
    {
     "data": {
      "text/plain": [
       "(149, 5)"
      ]
     },
     "execution_count": 189,
     "metadata": {},
     "output_type": "execute_result"
    }
   ],
   "source": [
    "phone_df_n5.shape"
   ]
  },
  {
   "cell_type": "markdown",
   "id": "661cc339",
   "metadata": {},
   "source": [
    "## Merging all DataFrames"
   ]
  },
  {
   "cell_type": "code",
   "execution_count": 190,
   "id": "4dc8e798",
   "metadata": {},
   "outputs": [],
   "source": [
    "df_list = [phone_df_1,phone_df_2,phone_df_3,phone_df_4,phone_df_5,phone_df_6,phone_df_7,phone_df_8,phone_df_n1,phone_df_n2,phone_df_n4,phone_df_n5,tv_df_1,tv_df_2,tv_df_3,tv_df_4,tv_df_5,router_df_1,router_df_2,camera_df_1,watch_df_1,watch_df_2,printer_df_1,printer_df_2,Air_pods_1,home_teatre_1,df_smartband_1,df_earphones_1,headphone_df_1]"
   ]
  },
  {
   "cell_type": "code",
   "execution_count": 191,
   "id": "80fd0acb",
   "metadata": {},
   "outputs": [
    {
     "data": {
      "text/plain": [
       "29"
      ]
     },
     "execution_count": 191,
     "metadata": {},
     "output_type": "execute_result"
    }
   ],
   "source": [
    "#i scraped 25 diffrent data frames for diffrent product\n",
    "len(df_list)"
   ]
  },
  {
   "cell_type": "code",
   "execution_count": 194,
   "id": "13f39838",
   "metadata": {},
   "outputs": [],
   "source": [
    "df_final_ratins_f = pd.concat(df_list,axis=0,ignore_index= True)"
   ]
  },
  {
   "cell_type": "code",
   "execution_count": 195,
   "id": "364786b7",
   "metadata": {},
   "outputs": [
    {
     "data": {
      "text/plain": [
       "(20595, 5)"
      ]
     },
     "execution_count": 195,
     "metadata": {},
     "output_type": "execute_result"
    }
   ],
   "source": [
    "df_final_ratins_f .shape"
   ]
  },
  {
   "cell_type": "code",
   "execution_count": 196,
   "id": "c1551828",
   "metadata": {},
   "outputs": [
    {
     "data": {
      "text/plain": [
       "2    4168\n",
       "1    4167\n",
       "4    4100\n",
       "5    4100\n",
       "3    4060\n",
       "Name: Ratings, dtype: int64"
      ]
     },
     "execution_count": 196,
     "metadata": {},
     "output_type": "execute_result"
    }
   ],
   "source": [
    "df_final_ratins_f .Ratings.value_counts()"
   ]
  },
  {
   "cell_type": "code",
   "execution_count": 197,
   "id": "bf4dc93b",
   "metadata": {},
   "outputs": [],
   "source": [
    "df_final_ratins_f.to_csv(\"df_final_ratins_f.csv\")"
   ]
  },
  {
   "cell_type": "markdown",
   "id": "13f47b3a",
   "metadata": {},
   "source": [
    "## now our final dataframe is ready"
   ]
  },
  {
   "cell_type": "code",
   "execution_count": null,
   "id": "fc0f9f0a",
   "metadata": {},
   "outputs": [],
   "source": []
  }
 ],
 "metadata": {
  "kernelspec": {
   "display_name": "Python 3",
   "language": "python",
   "name": "python3"
  },
  "language_info": {
   "codemirror_mode": {
    "name": "ipython",
    "version": 3
   },
   "file_extension": ".py",
   "mimetype": "text/x-python",
   "name": "python",
   "nbconvert_exporter": "python",
   "pygments_lexer": "ipython3",
   "version": "3.8.8"
  }
 },
 "nbformat": 4,
 "nbformat_minor": 5
}
