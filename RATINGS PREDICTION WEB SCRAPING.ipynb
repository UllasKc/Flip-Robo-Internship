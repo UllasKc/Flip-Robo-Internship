{
 "cells": [
  {
   "cell_type": "markdown",
   "id": "00f16522",
   "metadata": {},
   "source": [
    "# RATINGS PREDICTION"
   ]
  },
  {
   "cell_type": "markdown",
   "id": "6d9f3b5b",
   "metadata": {},
   "source": [
    "We have a client who has a website where people write different reviews for technical products.\n",
    "Now they are adding a new feature to their website i.e. The reviewer will have to add stars(rating)\n",
    "as well with the review. The rating is out 5 stars and it only has 5 options available 1 star, 2 stars,\n",
    "3 stars, 4 stars, 5 stars. Now they want to predict ratings for the reviews which were written in the\n",
    "past and they don’t have a rating. So, we have to build an application which can predict the rating\n",
    "by seeing the review."
   ]
  },
  {
   "cell_type": "markdown",
   "id": "026facda",
   "metadata": {},
   "source": [
    "## Data Collection Phase"
   ]
  },
  {
   "cell_type": "raw",
   "id": "ca0d2af0",
   "metadata": {},
   "source": [
    "You have to scrape at least 20000 rows of data. You can scrape more data as well, it’s up to you.\n",
    "more the data better the model\n",
    "In this section you need to scrape the reviews of different laptops, Phones, Headphones, smart\n",
    "watches, Professional Cameras, Printers, Monitors, Home theater, Router from different ecommerce websites.\n",
    "Basically, we need these columns1) reviews of the product.\n",
    "2) rating of the product.\n",
    "You can fetch other data as well, if you think data can be useful or can help in the project. It\n",
    "completely depends on your imagination or assumption.\n",
    "Hint:\n",
    "• Try to fetch data from different websites. If data is from different websites, it will help our\n",
    "model to remove the effect of over fitting.\n",
    "• Try to fetch an equal number of reviews for each rating, for example if you are fetching\n",
    "10000 reviews then all ratings 1,2,3,4,5 should be 2000. It will balance our data set.\n",
    "• Convert all the ratings to their round number, as there are only 5 options for rating i.e.,\n",
    "1,2,3,4,5. If a rating is 4.5 convert it 5.\n"
   ]
  },
  {
   "cell_type": "markdown",
   "id": "4b717e93",
   "metadata": {},
   "source": [
    "## Web Scraping"
   ]
  },
  {
   "cell_type": "code",
   "execution_count": 3,
   "id": "55e94a68",
   "metadata": {},
   "outputs": [],
   "source": [
    "#lets start the data collection from websites"
   ]
  },
  {
   "cell_type": "code",
   "execution_count": 5,
   "id": "1c968d7c",
   "metadata": {},
   "outputs": [],
   "source": [
    "#!pip install selenium"
   ]
  },
  {
   "cell_type": "markdown",
   "id": "6ae58b64",
   "metadata": {},
   "source": [
    "### There are 10 different electronic products "
   ]
  },
  {
   "cell_type": "code",
   "execution_count": 261,
   "id": "35b447c5",
   "metadata": {},
   "outputs": [
    {
     "data": {
      "text/plain": [
       "10"
      ]
     },
     "execution_count": 261,
     "metadata": {},
     "output_type": "execute_result"
    }
   ],
   "source": [
    "#list of electronic products to scrape ratings\n",
    "products =  ['laptops', 'Phones', 'Headphones', 'smart watches', 'Professional Cameras',\n",
    "             'Printers', 'Monitors', 'Home theater', 'Router','TV']\n",
    "len(products)"
   ]
  },
  {
   "cell_type": "code",
   "execution_count": null,
   "id": "0bca27b9",
   "metadata": {},
   "outputs": [],
   "source": [
    "#S0 lets scrape 2000 from rows of data from each product where every ratings will be 400 each\n",
    "\n",
    "#400 reviews for each rating 1,2,3,4,5 will be scraped  to balance the dataset\n"
   ]
  },
  {
   "cell_type": "code",
   "execution_count": null,
   "id": "2fb40da8",
   "metadata": {},
   "outputs": [],
   "source": []
  },
  {
   "cell_type": "code",
   "execution_count": null,
   "id": "02b4aca6",
   "metadata": {},
   "outputs": [],
   "source": []
  },
  {
   "cell_type": "code",
   "execution_count": 21,
   "id": "4679866d",
   "metadata": {},
   "outputs": [],
   "source": [
    "#lets import all the required libraries\n",
    "import selenium\n",
    "import pandas as pd\n",
    "from selenium import webdriver\n",
    "from selenium.webdriver.common.keys import Keys\n",
    "import time\n",
    "from selenium.common.exceptions import NoSuchElementException\n",
    "from selenium.webdriver.support.ui import WebDriverWait\n",
    "from selenium.webdriver.support import expected_conditions as EC\n",
    "from selenium.webdriver.common.by import By\n",
    "import re\n",
    "pd.set_option('display.max_row',None)"
   ]
  },
  {
   "cell_type": "code",
   "execution_count": 284,
   "id": "1bc6b4c3",
   "metadata": {},
   "outputs": [],
   "source": [
    "driver = webdriver.Chrome('chromedriver.exe')\n",
    "driver.get(\"https://www.flipkart.com/\")\n",
    "driver.maximize_window()\n",
    "\n",
    "#we can skip the login option by closing the popup\n",
    "#because i am getting login option everytime\n",
    "#if you are not getting login popup, please comment out the below three lines\n",
    "delay = 15\n",
    "WebDriverWait(driver,delay).until(EC.presence_of_element_located((By.CLASS_NAME,'_1-pxlW')))\n",
    "\n",
    "skip_login = driver.find_element_by_xpath(\"//button[@class='_2KpZ6l _2doB4z']\")\n",
    "skip_login.click()\n",
    "\n",
    "#Sending input\n",
    "WebDriverWait(driver,delay).until(EC.presence_of_element_located((By.CLASS_NAME,'_3OO5Xc')))\n",
    "Product_search = driver.find_element_by_xpath(\"//div[@class ='_3OO5Xc']/input\")\n",
    "Product_search.clear()\n",
    "Product_search.send_keys(\"Phones\")\n",
    "\n",
    "#finding the search button with xpath\n",
    "time.sleep(1)\n",
    "search =driver.find_element_by_xpath(\"//button[@class = 'L0Z3Pu']\") \n",
    "search.click()  #clicking the button\n",
    "\n",
    "product_links = []\n",
    "WebDriverWait(driver,delay).until(EC.presence_of_element_located((By.CLASS_NAME,'_1fQZEK')))\n",
    "product_links = driver.find_elements_by_xpath(\"//a[@class = '_1fQZEK']\")"
   ]
  },
  {
   "cell_type": "code",
   "execution_count": 290,
   "id": "722eb7d8",
   "metadata": {},
   "outputs": [],
   "source": [
    "Rating_list = []\n",
    "summary_list = []\n",
    "review_list = []\n",
    "product_list = []\n",
    "\n",
    "\n",
    "driver = webdriver.Chrome('chromedriver.exe')\n",
    "url = \"https://www.flipkart.com/mi-4a-pro-80-cm-32-inch-hd-ready-led-smart-android-tv/p/itmfdwh5jyqhmvzg?pid=TVSG22C4DXQRVSTT&lid=LSTTVSG22C4DXQRVSTTJZD2M0&marketplace=FLIPKART&q=tv+smart+tv&store=ckf%2Fczl&srno=s_1_2&otracker=AS_QueryStore_OrganicAutoSuggest_1_2_na_na_na&otracker1=AS_QueryStore_OrganicAutoSuggest_1_2_na_na_na&fm=SEARCH&iid=40c401e7-ce0e-42aa-85ec-e862e4b1744b.TVSG22C4DXQRVSTT.SEARCH&ppt=sp&ppn=sp&ssid=cdo09meusw0000001627385504853&qH=9f4f9f00d8892ecd\"\n",
    "driver.get(url)\n",
    "WebDriverWait(driver,delay).until(EC.presence_of_element_located((By.CLASS_NAME,'_3HKIdy')))\n",
    "All_reviews = driver.find_element_by_xpath(\"//div[@class='_3UAT2v _16PBlm']/span\")\n",
    "All_reviews.click()\n",
    "\n",
    "#loop will continue if 1000 ratings are not fetched\n",
    "while len(Rating_list) < 1000:\n",
    "\n",
    "\n",
    "    try:\n",
    "        delay = 6\n",
    "        WebDriverWait(driver,delay).until(EC.presence_of_element_located((By.CLASS_NAME,'_1LKTO3'))) #timer\n",
    "\n",
    "        review_cell = driver.find_elements_by_xpath(\"//div[@class='col _2wzgFH K0kLPL']\")\n",
    "        for i in review_cell:\n",
    "            rating = i.find_element_by_xpath(\"div[1]/div\")\n",
    "            rating = int(float(rating.text))\n",
    "            if Rating_list.count(rating) < 200:  #200 reviews after each ratings to make data set balanced\n",
    "                Rating_list.append(rating)\n",
    "                summary = i.find_element_by_xpath(\"div[1]/p\")   #picking data from particular cell\n",
    "                summary_list.append(summary.text)\n",
    "                full_review = i.find_element_by_xpath(\"div[2]/div\")\n",
    "                review_list.append(full_review.text)\n",
    "                #product_list.append('Mobile')\n",
    "\n",
    "    except:\n",
    "        driver.back()\n",
    "\n",
    "    Next_button = driver.find_elements_by_xpath(\"//a[@class ='_1LKTO3']\")   \n",
    "\n",
    "    for i in Next_button:\n",
    "        if i.text == 'NEXT' or i.text == 'Next':\n",
    "            driver.get(i.get_attribute('href'))  #clicking net button"
   ]
  },
  {
   "cell_type": "code",
   "execution_count": 291,
   "id": "2684aae8",
   "metadata": {},
   "outputs": [],
   "source": [
    "#scraped 1000 ratings of phone\n",
    "df_phone_3 = pd.DataFrame({'Ratings':Rating_list,'Summary':summary_list,'Review':review_list,'Product':'Mobile'})"
   ]
  },
  {
   "cell_type": "code",
   "execution_count": 292,
   "id": "125fa07d",
   "metadata": {},
   "outputs": [
    {
     "data": {
      "text/html": [
       "<div>\n",
       "<style scoped>\n",
       "    .dataframe tbody tr th:only-of-type {\n",
       "        vertical-align: middle;\n",
       "    }\n",
       "\n",
       "    .dataframe tbody tr th {\n",
       "        vertical-align: top;\n",
       "    }\n",
       "\n",
       "    .dataframe thead th {\n",
       "        text-align: right;\n",
       "    }\n",
       "</style>\n",
       "<table border=\"1\" class=\"dataframe\">\n",
       "  <thead>\n",
       "    <tr style=\"text-align: right;\">\n",
       "      <th></th>\n",
       "      <th>Ratings</th>\n",
       "      <th>Summary</th>\n",
       "      <th>Review</th>\n",
       "      <th>Product</th>\n",
       "    </tr>\n",
       "  </thead>\n",
       "  <tbody>\n",
       "    <tr>\n",
       "      <th>0</th>\n",
       "      <td>5</td>\n",
       "      <td>Just wow!</td>\n",
       "      <td>Thankyou Redmi,\\n\\nFeeling Lucky to buy this p...</td>\n",
       "      <td>Mobile</td>\n",
       "    </tr>\n",
       "    <tr>\n",
       "      <th>1</th>\n",
       "      <td>4</td>\n",
       "      <td>Worth the money</td>\n",
       "      <td>Good mobile ...I loved it and Thank you flipka...</td>\n",
       "      <td>Mobile</td>\n",
       "    </tr>\n",
       "    <tr>\n",
       "      <th>2</th>\n",
       "      <td>5</td>\n",
       "      <td>Perfect product!</td>\n",
       "      <td>It is an good phone ever i see, but it have on...</td>\n",
       "      <td>Mobile</td>\n",
       "    </tr>\n",
       "    <tr>\n",
       "      <th>3</th>\n",
       "      <td>5</td>\n",
       "      <td>Brilliant</td>\n",
       "      <td>Nice very super product and nice performance\\n...</td>\n",
       "      <td>Mobile</td>\n",
       "    </tr>\n",
       "    <tr>\n",
       "      <th>4</th>\n",
       "      <td>3</td>\n",
       "      <td>Nice</td>\n",
       "      <td>Writing this review after 4 months of purchase...</td>\n",
       "      <td>Mobile</td>\n",
       "    </tr>\n",
       "  </tbody>\n",
       "</table>\n",
       "</div>"
      ],
      "text/plain": [
       "   Ratings           Summary  \\\n",
       "0        5         Just wow!   \n",
       "1        4   Worth the money   \n",
       "2        5  Perfect product!   \n",
       "3        5         Brilliant   \n",
       "4        3              Nice   \n",
       "\n",
       "                                              Review Product  \n",
       "0  Thankyou Redmi,\\n\\nFeeling Lucky to buy this p...  Mobile  \n",
       "1  Good mobile ...I loved it and Thank you flipka...  Mobile  \n",
       "2  It is an good phone ever i see, but it have on...  Mobile  \n",
       "3  Nice very super product and nice performance\\n...  Mobile  \n",
       "4  Writing this review after 4 months of purchase...  Mobile  "
      ]
     },
     "execution_count": 292,
     "metadata": {},
     "output_type": "execute_result"
    }
   ],
   "source": [
    "df_phone_3.head()"
   ]
  },
  {
   "cell_type": "code",
   "execution_count": 293,
   "id": "936fcc82",
   "metadata": {},
   "outputs": [
    {
     "data": {
      "text/plain": [
       "1    200\n",
       "2    200\n",
       "3    200\n",
       "4    200\n",
       "5    200\n",
       "Name: Ratings, dtype: int64"
      ]
     },
     "execution_count": 293,
     "metadata": {},
     "output_type": "execute_result"
    }
   ],
   "source": [
    "#we can see each of the ratings has 200 reviews \n",
    "df_phone_3['Ratings'].value_counts()"
   ]
  },
  {
   "cell_type": "code",
   "execution_count": 294,
   "id": "7680b8b1",
   "metadata": {},
   "outputs": [],
   "source": [
    "#like wise we need to scrape 20,000 reviews"
   ]
  },
  {
   "cell_type": "code",
   "execution_count": 295,
   "id": "fdd4988a",
   "metadata": {},
   "outputs": [],
   "source": [
    "df_phone_3.to_csv(\"Phone_df3.csv\")"
   ]
  },
  {
   "cell_type": "code",
   "execution_count": 296,
   "id": "a96fe830",
   "metadata": {},
   "outputs": [],
   "source": [
    "Rating_list = []\n",
    "summary_list = []\n",
    "review_list = []\n",
    "product_list = []\n",
    "\n",
    "\n",
    "driver = webdriver.Chrome('chromedriver.exe')\n",
    "url = \"https://www.flipkart.com/mi-4a-pro-80-cm-32-inch-hd-ready-led-smart-android-tv/p/itmfdwh5jyqhmvzg?pid=TVSG22C4DXQRVSTT&lid=LSTTVSG22C4DXQRVSTTJZD2M0&marketplace=FLIPKART&q=tv+smart+tv&store=ckf%2Fczl&srno=s_1_2&otracker=AS_QueryStore_OrganicAutoSuggest_1_2_na_na_na&otracker1=AS_QueryStore_OrganicAutoSuggest_1_2_na_na_na&fm=SEARCH&iid=40c401e7-ce0e-42aa-85ec-e862e4b1744b.TVSG22C4DXQRVSTT.SEARCH&ppt=sp&ppn=sp&ssid=cdo09meusw0000001627385504853&qH=9f4f9f00d8892ecd\"\n",
    "driver.get(url)\n",
    "WebDriverWait(driver,delay).until(EC.presence_of_element_located((By.CLASS_NAME,'_3HKIdy')))\n",
    "All_reviews = driver.find_element_by_xpath(\"//div[@class='_3UAT2v _16PBlm']/span\")\n",
    "All_reviews.click()\n",
    "\n",
    "while len(Rating_list) < 1000:\n",
    "\n",
    "\n",
    "    try:\n",
    "        delay = 6\n",
    "        WebDriverWait(driver,delay).until(EC.presence_of_element_located((By.CLASS_NAME,'_1LKTO3')))\n",
    "\n",
    "        review_cell = driver.find_elements_by_xpath(\"//div[@class='col _2wzgFH K0kLPL']\")\n",
    "        for i in review_cell:\n",
    "            rating = i.find_element_by_xpath(\"div[1]/div\")\n",
    "            rating = int(float(rating.text))\n",
    "            if Rating_list.count(rating) < 200:\n",
    "                Rating_list.append(rating)\n",
    "                summary = i.find_element_by_xpath(\"div[1]/p\")\n",
    "                summary_list.append(summary.text)\n",
    "                full_review = i.find_element_by_xpath(\"div[2]/div\")\n",
    "                review_list.append(full_review.text)\n",
    "                #product_list.append('Mobile')\n",
    "\n",
    "    except:\n",
    "        driver.back()\n",
    "\n",
    "    Next_button = driver.find_elements_by_xpath(\"//a[@class ='_1LKTO3']\")   \n",
    "\n",
    "    for i in Next_button:\n",
    "        if i.text == 'NEXT' or i.text == 'Next':\n",
    "            driver.get(i.get_attribute('href'))"
   ]
  },
  {
   "cell_type": "code",
   "execution_count": 297,
   "id": "cb9cc8db",
   "metadata": {},
   "outputs": [],
   "source": [
    "#scraped 1000 ratings of smart TV\n",
    "df_TV_1 = pd.DataFrame({'Ratings':Rating_list,'Summary':summary_list,'Review':review_list,'Product':'Smart TV'})"
   ]
  },
  {
   "cell_type": "code",
   "execution_count": 298,
   "id": "3ed0da9d",
   "metadata": {},
   "outputs": [
    {
     "data": {
      "text/html": [
       "<div>\n",
       "<style scoped>\n",
       "    .dataframe tbody tr th:only-of-type {\n",
       "        vertical-align: middle;\n",
       "    }\n",
       "\n",
       "    .dataframe tbody tr th {\n",
       "        vertical-align: top;\n",
       "    }\n",
       "\n",
       "    .dataframe thead th {\n",
       "        text-align: right;\n",
       "    }\n",
       "</style>\n",
       "<table border=\"1\" class=\"dataframe\">\n",
       "  <thead>\n",
       "    <tr style=\"text-align: right;\">\n",
       "      <th></th>\n",
       "      <th>Ratings</th>\n",
       "      <th>Summary</th>\n",
       "      <th>Review</th>\n",
       "      <th>Product</th>\n",
       "    </tr>\n",
       "  </thead>\n",
       "  <tbody>\n",
       "    <tr>\n",
       "      <th>0</th>\n",
       "      <td>5</td>\n",
       "      <td>Terrific purchase</td>\n",
       "      <td>This is a detailed review after 7 days. Please...</td>\n",
       "      <td>Smart TV</td>\n",
       "    </tr>\n",
       "    <tr>\n",
       "      <th>1</th>\n",
       "      <td>4</td>\n",
       "      <td>Very Good</td>\n",
       "      <td>I m posting review after checking all it's fun...</td>\n",
       "      <td>Smart TV</td>\n",
       "    </tr>\n",
       "    <tr>\n",
       "      <th>2</th>\n",
       "      <td>5</td>\n",
       "      <td>Worth every penny</td>\n",
       "      <td>Best TV range........ money on valuation the g...</td>\n",
       "      <td>Smart TV</td>\n",
       "    </tr>\n",
       "    <tr>\n",
       "      <th>3</th>\n",
       "      <td>4</td>\n",
       "      <td>Good quality product</td>\n",
       "      <td>TV good smart and in SD box little bit of pict...</td>\n",
       "      <td>Smart TV</td>\n",
       "    </tr>\n",
       "    <tr>\n",
       "      <th>4</th>\n",
       "      <td>4</td>\n",
       "      <td>Delightful</td>\n",
       "      <td>This Mi TV is superb and value for money .\\nwa...</td>\n",
       "      <td>Smart TV</td>\n",
       "    </tr>\n",
       "  </tbody>\n",
       "</table>\n",
       "</div>"
      ],
      "text/plain": [
       "   Ratings               Summary  \\\n",
       "0        5     Terrific purchase   \n",
       "1        4             Very Good   \n",
       "2        5     Worth every penny   \n",
       "3        4  Good quality product   \n",
       "4        4            Delightful   \n",
       "\n",
       "                                              Review   Product  \n",
       "0  This is a detailed review after 7 days. Please...  Smart TV  \n",
       "1  I m posting review after checking all it's fun...  Smart TV  \n",
       "2  Best TV range........ money on valuation the g...  Smart TV  \n",
       "3  TV good smart and in SD box little bit of pict...  Smart TV  \n",
       "4  This Mi TV is superb and value for money .\\nwa...  Smart TV  "
      ]
     },
     "execution_count": 298,
     "metadata": {},
     "output_type": "execute_result"
    }
   ],
   "source": [
    "df_TV_1.head()"
   ]
  },
  {
   "cell_type": "code",
   "execution_count": 299,
   "id": "5efdd650",
   "metadata": {},
   "outputs": [
    {
     "data": {
      "text/plain": [
       "1    200\n",
       "2    200\n",
       "3    200\n",
       "4    200\n",
       "5    200\n",
       "Name: Ratings, dtype: int64"
      ]
     },
     "execution_count": 299,
     "metadata": {},
     "output_type": "execute_result"
    }
   ],
   "source": [
    "#we can see each of the ratings has 200 reviews \n",
    "df_TV_1['Ratings'].value_counts()"
   ]
  },
  {
   "cell_type": "code",
   "execution_count": 300,
   "id": "cc4b1012",
   "metadata": {},
   "outputs": [],
   "source": [
    "df_TV_1.to_csv(\"TV_df1.csv\")"
   ]
  },
  {
   "cell_type": "code",
   "execution_count": 302,
   "id": "dd01656b",
   "metadata": {},
   "outputs": [],
   "source": [
    "Rating_list = []\n",
    "summary_list = []\n",
    "review_list = []\n",
    "product_list = []\n",
    "\n",
    "\n",
    "driver = webdriver.Chrome('chromedriver.exe')\n",
    "url = \"https://www.flipkart.com/realme-80-cm-32-inch-hd-ready-led-smart-android-tv/p/itm56d1cf16da75b?pid=TVSFRTJQTZVKTF6Y&lid=LSTTVSFRTJQTZVKTF6YTYQNP6&marketplace=FLIPKART&q=tv&store=ckf%2Fczl&srno=s_1_3&otracker=search&otracker1=search&fm=SEARCH&iid=03628be3-9ab3-4eed-bd33-09cbbb87961f.TVSFRTJQTZVKTF6Y.SEARCH&ppt=hp&ppn=homepage&ssid=5gr34ixa5s0000001627387749530&qH=c9a1fdac6e082dd8\"\n",
    "driver.get(url)\n",
    "WebDriverWait(driver,delay).until(EC.presence_of_element_located((By.CLASS_NAME,'_3HKIdy')))\n",
    "All_reviews = driver.find_element_by_xpath(\"//div[@class='_3UAT2v _16PBlm']/span\")\n",
    "All_reviews.click()\n",
    "\n",
    "while len(Rating_list) < 500:\n",
    "\n",
    "\n",
    "    try:\n",
    "        delay = 6\n",
    "        WebDriverWait(driver,delay).until(EC.presence_of_element_located((By.CLASS_NAME,'_1LKTO3')))\n",
    "\n",
    "        review_cell = driver.find_elements_by_xpath(\"//div[@class='col _2wzgFH K0kLPL']\")\n",
    "        for i in review_cell:\n",
    "            rating = i.find_element_by_xpath(\"div[1]/div\")\n",
    "            rating = int(float(rating.text))\n",
    "            if Rating_list.count(rating) < 100:\n",
    "                Rating_list.append(rating)\n",
    "                summary = i.find_element_by_xpath(\"div[1]/p\")\n",
    "                summary_list.append(summary.text)\n",
    "                full_review = i.find_element_by_xpath(\"div[2]/div\")\n",
    "                review_list.append(full_review.text)\n",
    "                #product_list.append('Mobile')\n",
    "\n",
    "    except:\n",
    "        driver.back()\n",
    "\n",
    "    Next_button = driver.find_elements_by_xpath(\"//a[@class ='_1LKTO3']\")   \n",
    "\n",
    "    for i in Next_button:\n",
    "        if i.text == 'NEXT' or i.text == 'Next':\n",
    "            driver.get(i.get_attribute('href'))"
   ]
  },
  {
   "cell_type": "code",
   "execution_count": 303,
   "id": "5d26a220",
   "metadata": {},
   "outputs": [],
   "source": [
    "#scraped 1000 ratings of smart TV\n",
    "df_TV_2 = pd.DataFrame({'Ratings':Rating_list,'Summary':summary_list,'Review':review_list,'Product':'Smart TV'})"
   ]
  },
  {
   "cell_type": "code",
   "execution_count": 304,
   "id": "7406dada",
   "metadata": {},
   "outputs": [
    {
     "data": {
      "text/html": [
       "<div>\n",
       "<style scoped>\n",
       "    .dataframe tbody tr th:only-of-type {\n",
       "        vertical-align: middle;\n",
       "    }\n",
       "\n",
       "    .dataframe tbody tr th {\n",
       "        vertical-align: top;\n",
       "    }\n",
       "\n",
       "    .dataframe thead th {\n",
       "        text-align: right;\n",
       "    }\n",
       "</style>\n",
       "<table border=\"1\" class=\"dataframe\">\n",
       "  <thead>\n",
       "    <tr style=\"text-align: right;\">\n",
       "      <th></th>\n",
       "      <th>Ratings</th>\n",
       "      <th>Summary</th>\n",
       "      <th>Review</th>\n",
       "      <th>Product</th>\n",
       "    </tr>\n",
       "  </thead>\n",
       "  <tbody>\n",
       "    <tr>\n",
       "      <th>0</th>\n",
       "      <td>5</td>\n",
       "      <td>Awesome</td>\n",
       "      <td>After 1 Year of TV Usage, Awesome TV... Superb...</td>\n",
       "      <td>Smart TV</td>\n",
       "    </tr>\n",
       "    <tr>\n",
       "      <th>1</th>\n",
       "      <td>5</td>\n",
       "      <td>Great product</td>\n",
       "      <td>Ertugrul Fans❤️💓\\nThis is most iconic Tv Is aw...</td>\n",
       "      <td>Smart TV</td>\n",
       "    </tr>\n",
       "    <tr>\n",
       "      <th>2</th>\n",
       "      <td>5</td>\n",
       "      <td>Excellent</td>\n",
       "      <td>As promised by realme,\\nBetter picture, better...</td>\n",
       "      <td>Smart TV</td>\n",
       "    </tr>\n",
       "    <tr>\n",
       "      <th>3</th>\n",
       "      <td>5</td>\n",
       "      <td>Simply awesome</td>\n",
       "      <td>Very Good Products 😊\\nVery Good Audio ❤️\\nVery...</td>\n",
       "      <td>Smart TV</td>\n",
       "    </tr>\n",
       "    <tr>\n",
       "      <th>4</th>\n",
       "      <td>4</td>\n",
       "      <td>Wonderful</td>\n",
       "      <td>Nice tv in the segment.... Good to see full HD...</td>\n",
       "      <td>Smart TV</td>\n",
       "    </tr>\n",
       "  </tbody>\n",
       "</table>\n",
       "</div>"
      ],
      "text/plain": [
       "   Ratings         Summary                                             Review  \\\n",
       "0        5         Awesome  After 1 Year of TV Usage, Awesome TV... Superb...   \n",
       "1        5   Great product  Ertugrul Fans❤️💓\\nThis is most iconic Tv Is aw...   \n",
       "2        5       Excellent  As promised by realme,\\nBetter picture, better...   \n",
       "3        5  Simply awesome  Very Good Products 😊\\nVery Good Audio ❤️\\nVery...   \n",
       "4        4       Wonderful  Nice tv in the segment.... Good to see full HD...   \n",
       "\n",
       "    Product  \n",
       "0  Smart TV  \n",
       "1  Smart TV  \n",
       "2  Smart TV  \n",
       "3  Smart TV  \n",
       "4  Smart TV  "
      ]
     },
     "execution_count": 304,
     "metadata": {},
     "output_type": "execute_result"
    }
   ],
   "source": [
    "df_TV_2.head()"
   ]
  },
  {
   "cell_type": "code",
   "execution_count": 305,
   "id": "db56f23a",
   "metadata": {},
   "outputs": [
    {
     "data": {
      "text/plain": [
       "1    100\n",
       "2    100\n",
       "3    100\n",
       "4    100\n",
       "5    100\n",
       "Name: Ratings, dtype: int64"
      ]
     },
     "execution_count": 305,
     "metadata": {},
     "output_type": "execute_result"
    }
   ],
   "source": [
    "#we can see each of the ratings has 200 reviews \n",
    "df_TV_2['Ratings'].value_counts()"
   ]
  },
  {
   "cell_type": "code",
   "execution_count": 306,
   "id": "32f55d1b",
   "metadata": {},
   "outputs": [],
   "source": [
    "df_TV_2.to_csv(\"TV_df2.csv\")"
   ]
  },
  {
   "cell_type": "code",
   "execution_count": null,
   "id": "ca6cc809",
   "metadata": {},
   "outputs": [],
   "source": [
    "Rating_list = []\n",
    "summary_list = []\n",
    "review_list = []\n",
    "product_list = []\n",
    "\n",
    "\n",
    "driver = webdriver.Chrome('chromedriver.exe')\n",
    "url = \"https://www.flipkart.com/mi-4x-108-cm-43-inch-ultra-hd-4k-led-smart-android-tv/p/itmab87244d2fead?pid=TVSGFH5PQRTFRTVG&lid=LSTTVSGFH5PQRTFRTVGITUOXL&marketplace=FLIPKART&q=TV&store=ckf%2Fczl&srno=s_1_5&otracker=search&otracker1=search&fm=SEARCH&iid=00fdc92f-6dd3-4ede-8b54-ab6e9296dbae.TVSGFH5PQRTFRTVG.SEARCH&ppt=dynamic&ppn=dynamic&ssid=wq1w4y68dc0000001627389539065&qH=271ddf829afeece4\"\n",
    "driver.get(url)\n",
    "WebDriverWait(driver,delay).until(EC.presence_of_element_located((By.CLASS_NAME,'_3HKIdy')))\n",
    "All_reviews = driver.find_element_by_xpath(\"//div[@class='_3UAT2v _16PBlm']/span\")\n",
    "All_reviews.click()\n",
    "\n",
    "while len(Rating_list) < 1000:\n",
    "\n",
    "\n",
    "    try:\n",
    "        delay = 6\n",
    "        WebDriverWait(driver,delay).until(EC.presence_of_element_located((By.CLASS_NAME,'_1LKTO3')))\n",
    "\n",
    "        review_cell = driver.find_elements_by_xpath(\"//div[@class='col _2wzgFH K0kLPL']\")\n",
    "        for i in review_cell:\n",
    "            rating = i.find_element_by_xpath(\"div[1]/div\")\n",
    "            rating = int(float(rating.text))\n",
    "            if Rating_list.count(rating) < 200:\n",
    "                Rating_list.append(rating)\n",
    "                summary = i.find_element_by_xpath(\"div[1]/p\")\n",
    "                summary_list.append(summary.text)\n",
    "                full_review = i.find_element_by_xpath(\"div[2]/div\")\n",
    "                review_list.append(full_review.text)\n",
    "                #product_list.append('Mobile')\n",
    "\n",
    "    except:\n",
    "        driver.back()\n",
    "\n",
    "    Next_button = driver.find_elements_by_xpath(\"//a[@class ='_1LKTO3']\")   \n",
    "\n",
    "    for i in Next_button:\n",
    "        if i.text == 'NEXT' or i.text == 'Next':\n",
    "            driver.get(i.get_attribute('href'))"
   ]
  },
  {
   "cell_type": "code",
   "execution_count": 311,
   "id": "767ba19c",
   "metadata": {},
   "outputs": [],
   "source": [
    "#scraped 950 ratings of smart TV\n",
    "df_TV_3 = pd.DataFrame({'Ratings':Rating_list,'Summary':summary_list,'Review':review_list,'Product':'Smart TV'})"
   ]
  },
  {
   "cell_type": "code",
   "execution_count": 313,
   "id": "9f5c6c2e",
   "metadata": {},
   "outputs": [
    {
     "data": {
      "text/plain": [
       "1    200\n",
       "3    200\n",
       "4    200\n",
       "5    200\n",
       "2    150\n",
       "Name: Ratings, dtype: int64"
      ]
     },
     "execution_count": 313,
     "metadata": {},
     "output_type": "execute_result"
    }
   ],
   "source": [
    "#we can see each of the ratings has 200 reviews and 2 ratings 150 becaur/use it was the end of the page \n",
    "df_TV_3['Ratings'].value_counts()"
   ]
  },
  {
   "cell_type": "code",
   "execution_count": 315,
   "id": "502561b6",
   "metadata": {},
   "outputs": [],
   "source": [
    "df_TV_3.to_csv(\"TV_df3.csv\")"
   ]
  },
  {
   "cell_type": "code",
   "execution_count": null,
   "id": "4830aa31",
   "metadata": {},
   "outputs": [],
   "source": [
    "Rating_list = []\n",
    "summary_list = []\n",
    "review_list = []\n",
    "product_list = []\n",
    "\n",
    "\n",
    "driver = webdriver.Chrome('chromedriver.exe')\n",
    "url = \"https://www.flipkart.com/canon-eos-3000d-dslr-camera-1-body-18-55-mm-lens/p/itm6f665fea97bc2?pid=CAMF3DHJURPEMNRN&lid=LSTCAMF3DHJURPEMNRNYD4BKP&marketplace=FLIPKART&q=camera&store=jek%2Fp31%2Ftrv&srno=s_1_1&otracker=AS_QueryStore_OrganicAutoSuggest_1_6_na_na_ps&otracker1=AS_QueryStore_OrganicAutoSuggest_1_6_na_na_ps&fm=SEARCH&iid=bdc47b97-63b1-4362-a698-80a0a9c76e69.CAMF3DHJURPEMNRN.SEARCH&ppt=sp&ppn=sp&ssid=e0vdw3kxr40000001627392556401&qH=dd6d2dcc679d12b9\"\n",
    "driver.get(url)\n",
    "WebDriverWait(driver,delay).until(EC.presence_of_element_located((By.CLASS_NAME,'_3HKIdy')))\n",
    "All_reviews = driver.find_element_by_xpath(\"//div[@class='_3UAT2v _16PBlm']/span\")\n",
    "All_reviews.click()\n",
    "\n",
    "while len(Rating_list) < 500:\n",
    "\n",
    "\n",
    "    try:\n",
    "        delay = 6\n",
    "        WebDriverWait(driver,delay).until(EC.presence_of_element_located((By.CLASS_NAME,'_1LKTO3')))\n",
    "\n",
    "        review_cell = driver.find_elements_by_xpath(\"//div[@class='col _2wzgFH K0kLPL']\")\n",
    "        for i in review_cell:\n",
    "            rating = i.find_element_by_xpath(\"div[1]/div\")\n",
    "            rating = int(float(rating.text))\n",
    "            if Rating_list.count(rating) < 100:\n",
    "                Rating_list.append(rating)\n",
    "                summary = i.find_element_by_xpath(\"div[1]/p\")\n",
    "                summary_list.append(summary.text)\n",
    "                full_review = i.find_element_by_xpath(\"div[2]/div\")\n",
    "                review_list.append(full_review.text)\n",
    "                #product_list.append('Mobile')\n",
    "\n",
    "    except:\n",
    "        driver.back()\n",
    "\n",
    "    Next_button = driver.find_elements_by_xpath(\"//a[@class ='_1LKTO3']\")   \n",
    "\n",
    "    for i in Next_button:\n",
    "        if i.text == 'NEXT' or i.text == 'Next':\n",
    "            driver.get(i.get_attribute('href'))"
   ]
  },
  {
   "cell_type": "code",
   "execution_count": 317,
   "id": "2fb75b00",
   "metadata": {},
   "outputs": [],
   "source": [
    "#scraped 450 ratings of smart TV\n",
    "df_camera_1 = pd.DataFrame({'Ratings':Rating_list,'Summary':summary_list,'Review':review_list,'Product':'Camera'})"
   ]
  },
  {
   "cell_type": "code",
   "execution_count": 320,
   "id": "ccbc3b9b",
   "metadata": {},
   "outputs": [
    {
     "data": {
      "text/html": [
       "<div>\n",
       "<style scoped>\n",
       "    .dataframe tbody tr th:only-of-type {\n",
       "        vertical-align: middle;\n",
       "    }\n",
       "\n",
       "    .dataframe tbody tr th {\n",
       "        vertical-align: top;\n",
       "    }\n",
       "\n",
       "    .dataframe thead th {\n",
       "        text-align: right;\n",
       "    }\n",
       "</style>\n",
       "<table border=\"1\" class=\"dataframe\">\n",
       "  <thead>\n",
       "    <tr style=\"text-align: right;\">\n",
       "      <th></th>\n",
       "      <th>Ratings</th>\n",
       "      <th>Summary</th>\n",
       "      <th>Review</th>\n",
       "      <th>Product</th>\n",
       "    </tr>\n",
       "  </thead>\n",
       "  <tbody>\n",
       "    <tr>\n",
       "      <th>0</th>\n",
       "      <td>5</td>\n",
       "      <td>Excellent</td>\n",
       "      <td>product really great . I am totally sctified t...</td>\n",
       "      <td>Camera</td>\n",
       "    </tr>\n",
       "    <tr>\n",
       "      <th>1</th>\n",
       "      <td>3</td>\n",
       "      <td>Does the job</td>\n",
       "      <td>Satisfied with the product.. Its a really good...</td>\n",
       "      <td>Camera</td>\n",
       "    </tr>\n",
       "    <tr>\n",
       "      <th>2</th>\n",
       "      <td>5</td>\n",
       "      <td>Just wow!</td>\n",
       "      <td>Worth more than the amount. Best DSLR for a go...</td>\n",
       "      <td>Camera</td>\n",
       "    </tr>\n",
       "    <tr>\n",
       "      <th>3</th>\n",
       "      <td>4</td>\n",
       "      <td>Worth the money</td>\n",
       "      <td>The camera simply awesome..and it is a best bu...</td>\n",
       "      <td>Camera</td>\n",
       "    </tr>\n",
       "    <tr>\n",
       "      <th>4</th>\n",
       "      <td>5</td>\n",
       "      <td>Best in the market!</td>\n",
       "      <td>product is very good and build quality also , ...</td>\n",
       "      <td>Camera</td>\n",
       "    </tr>\n",
       "  </tbody>\n",
       "</table>\n",
       "</div>"
      ],
      "text/plain": [
       "   Ratings              Summary  \\\n",
       "0        5            Excellent   \n",
       "1        3         Does the job   \n",
       "2        5            Just wow!   \n",
       "3        4      Worth the money   \n",
       "4        5  Best in the market!   \n",
       "\n",
       "                                              Review Product  \n",
       "0  product really great . I am totally sctified t...  Camera  \n",
       "1  Satisfied with the product.. Its a really good...  Camera  \n",
       "2  Worth more than the amount. Best DSLR for a go...  Camera  \n",
       "3  The camera simply awesome..and it is a best bu...  Camera  \n",
       "4  product is very good and build quality also , ...  Camera  "
      ]
     },
     "execution_count": 320,
     "metadata": {},
     "output_type": "execute_result"
    }
   ],
   "source": [
    "df_camera_1.head()"
   ]
  },
  {
   "cell_type": "code",
   "execution_count": 321,
   "id": "20a1f466",
   "metadata": {},
   "outputs": [
    {
     "data": {
      "text/plain": [
       "1    100\n",
       "3    100\n",
       "4    100\n",
       "5    100\n",
       "2     50\n",
       "Name: Ratings, dtype: int64"
      ]
     },
     "execution_count": 321,
     "metadata": {},
     "output_type": "execute_result"
    }
   ],
   "source": [
    "\n",
    "#we have 100 values for all ratings, 50 for 2\n",
    "df_camera_1['Ratings'].value_counts()"
   ]
  },
  {
   "cell_type": "code",
   "execution_count": 324,
   "id": "e51514d7",
   "metadata": {},
   "outputs": [],
   "source": [
    "df_camera_1.to_csv(\"Camera_df1.csv\")"
   ]
  },
  {
   "cell_type": "code",
   "execution_count": 325,
   "id": "42b284c5",
   "metadata": {},
   "outputs": [],
   "source": [
    "Rating_list = []\n",
    "summary_list = []\n",
    "review_list = []\n",
    "product_list = []\n",
    "\n",
    "\n",
    "driver = webdriver.Chrome('chromedriver.exe')\n",
    "url = \"https://www.flipkart.com/boat-storm-smartwatch/p/itm215a48c547168?pid=SMWG3EC4TYBGPW8F&lid=LSTSMWG3EC4TYBGPW8FCP8JOE&marketplace=FLIPKART&q=smart+watch&store=ajy%2Fbuh&srno=s_1_3&otracker=search&otracker1=search&fm=SEARCH&iid=b0784176-3355-46c2-ad78-68c4fb5638b7.SMWG3EC4TYBGPW8F.SEARCH&ppt=sp&ppn=sp&ssid=6f1s72chio0000001627393611867&qH=acc05e33fb140cc4\"\n",
    "driver.get(url)\n",
    "WebDriverWait(driver,delay).until(EC.presence_of_element_located((By.CLASS_NAME,'_3HKIdy')))\n",
    "All_reviews = driver.find_element_by_xpath(\"//div[@class='_3UAT2v _16PBlm']/span\")\n",
    "All_reviews.click()\n",
    "\n",
    "while len(Rating_list) < 800:\n",
    "\n",
    "\n",
    "    try:\n",
    "        delay = 6\n",
    "        WebDriverWait(driver,delay).until(EC.presence_of_element_located((By.CLASS_NAME,'_1LKTO3')))\n",
    "\n",
    "        review_cell = driver.find_elements_by_xpath(\"//div[@class='col _2wzgFH K0kLPL']\")\n",
    "        for i in review_cell:\n",
    "            rating = i.find_element_by_xpath(\"div[1]/div\")\n",
    "            rating = int(float(rating.text))\n",
    "            if Rating_list.count(rating) < 160:\n",
    "                Rating_list.append(rating)\n",
    "                summary = i.find_element_by_xpath(\"div[1]/p\")\n",
    "                summary_list.append(summary.text)\n",
    "                full_review = i.find_element_by_xpath(\"div[2]/div\")\n",
    "                review_list.append(full_review.text)\n",
    "                #product_list.append('Mobile')\n",
    "\n",
    "    except:\n",
    "        driver.back()\n",
    "\n",
    "    Next_button = driver.find_elements_by_xpath(\"//a[@class ='_1LKTO3']\")   \n",
    "\n",
    "    for i in Next_button:\n",
    "        if i.text == 'NEXT' or i.text == 'Next':\n",
    "            driver.get(i.get_attribute('href'))"
   ]
  },
  {
   "cell_type": "code",
   "execution_count": 326,
   "id": "fbc1179f",
   "metadata": {},
   "outputs": [],
   "source": [
    "#scraped 800 ratings of smart watch. 160 for each ratings\n",
    "df_watch1 = pd.DataFrame({'Ratings':Rating_list,'Summary':summary_list,'Review':review_list,'Product':'Smart Watch'})"
   ]
  },
  {
   "cell_type": "code",
   "execution_count": 331,
   "id": "b9a33888",
   "metadata": {},
   "outputs": [
    {
     "data": {
      "text/html": [
       "<div>\n",
       "<style scoped>\n",
       "    .dataframe tbody tr th:only-of-type {\n",
       "        vertical-align: middle;\n",
       "    }\n",
       "\n",
       "    .dataframe tbody tr th {\n",
       "        vertical-align: top;\n",
       "    }\n",
       "\n",
       "    .dataframe thead th {\n",
       "        text-align: right;\n",
       "    }\n",
       "</style>\n",
       "<table border=\"1\" class=\"dataframe\">\n",
       "  <thead>\n",
       "    <tr style=\"text-align: right;\">\n",
       "      <th></th>\n",
       "      <th>Ratings</th>\n",
       "      <th>Summary</th>\n",
       "      <th>Review</th>\n",
       "      <th>Product</th>\n",
       "    </tr>\n",
       "  </thead>\n",
       "  <tbody>\n",
       "    <tr>\n",
       "      <th>0</th>\n",
       "      <td>4</td>\n",
       "      <td>Good choice</td>\n",
       "      <td>Writing this review after 2 weeks.\\nPROS:-less...</td>\n",
       "      <td>Smart Watch</td>\n",
       "    </tr>\n",
       "    <tr>\n",
       "      <th>1</th>\n",
       "      <td>5</td>\n",
       "      <td>Worth every penny</td>\n",
       "      <td>Wooww🖤Grt watch\\nawesome 💌💌\\n🖤I loved it super...</td>\n",
       "      <td>Smart Watch</td>\n",
       "    </tr>\n",
       "    <tr>\n",
       "      <th>2</th>\n",
       "      <td>5</td>\n",
       "      <td>Mind-blowing purchase</td>\n",
       "      <td>Watch is amazing. Looks so good &amp; battery is g...</td>\n",
       "      <td>Smart Watch</td>\n",
       "    </tr>\n",
       "    <tr>\n",
       "      <th>3</th>\n",
       "      <td>4</td>\n",
       "      <td>Nice product</td>\n",
       "      <td>Ya its a cool watch and I liked the built qual...</td>\n",
       "      <td>Smart Watch</td>\n",
       "    </tr>\n",
       "    <tr>\n",
       "      <th>4</th>\n",
       "      <td>4</td>\n",
       "      <td>Delightful</td>\n",
       "      <td>Boat smart watch nice and decent product in th...</td>\n",
       "      <td>Smart Watch</td>\n",
       "    </tr>\n",
       "  </tbody>\n",
       "</table>\n",
       "</div>"
      ],
      "text/plain": [
       "   Ratings                Summary  \\\n",
       "0        4            Good choice   \n",
       "1        5      Worth every penny   \n",
       "2        5  Mind-blowing purchase   \n",
       "3        4           Nice product   \n",
       "4        4             Delightful   \n",
       "\n",
       "                                              Review      Product  \n",
       "0  Writing this review after 2 weeks.\\nPROS:-less...  Smart Watch  \n",
       "1  Wooww🖤Grt watch\\nawesome 💌💌\\n🖤I loved it super...  Smart Watch  \n",
       "2  Watch is amazing. Looks so good & battery is g...  Smart Watch  \n",
       "3  Ya its a cool watch and I liked the built qual...  Smart Watch  \n",
       "4  Boat smart watch nice and decent product in th...  Smart Watch  "
      ]
     },
     "execution_count": 331,
     "metadata": {},
     "output_type": "execute_result"
    }
   ],
   "source": [
    "df_watch1.head()"
   ]
  },
  {
   "cell_type": "code",
   "execution_count": 332,
   "id": "dfb3bf08",
   "metadata": {},
   "outputs": [
    {
     "data": {
      "text/plain": [
       "1    160\n",
       "2    160\n",
       "3    160\n",
       "4    160\n",
       "5    160\n",
       "Name: Ratings, dtype: int64"
      ]
     },
     "execution_count": 332,
     "metadata": {},
     "output_type": "execute_result"
    }
   ],
   "source": [
    "#we have 160 values for all ratings\n",
    "df_watch1['Ratings'].value_counts()"
   ]
  },
  {
   "cell_type": "code",
   "execution_count": 333,
   "id": "43c31e56",
   "metadata": {},
   "outputs": [],
   "source": [
    "df_watch1.to_csv(\"watch_df1.csv\")"
   ]
  },
  {
   "cell_type": "code",
   "execution_count": 354,
   "id": "c3984331",
   "metadata": {},
   "outputs": [],
   "source": [
    "Rating_list = []\n",
    "summary_list = []\n",
    "review_list = []\n",
    "product_list = []\n",
    "\n",
    "\n",
    "driver = webdriver.Chrome('chromedriver.exe')\n",
    "url = \"https://www.flipkart.com/epson-l3110-multi-function-color-printer/p/itmfb28z2g9ygubg?pid=PRNFB28YS326QDZF&lid=LSTPRNFB28YS326QDZF5KC7M2&marketplace=FLIPKART&q=Printer&store=6bo&srno=s_1_5&otracker=search&otracker1=search&fm=SEARCH&iid=3301de51-1ed7-4a58-abc3-59dbbef10823.PRNFB28YS326QDZF.SEARCH&ppt=sp&ppn=sp&ssid=6lg0luf9hc0000001627400913473&qH=37fe93164a9c7b76\"\n",
    "driver.get(url)\n",
    "WebDriverWait(driver,delay).until(EC.presence_of_element_located((By.CLASS_NAME,'_3HKIdy')))\n",
    "All_reviews = driver.find_element_by_xpath(\"//div[@class='_3UAT2v _16PBlm']/span\")\n",
    "All_reviews.click()\n",
    "\n",
    "while len(Rating_list) < 300:\n",
    "\n",
    "\n",
    "    try:\n",
    "        delay = 6\n",
    "        WebDriverWait(driver,delay).until(EC.presence_of_element_located((By.CLASS_NAME,'_1LKTO3')))\n",
    "\n",
    "        review_cell = driver.find_elements_by_xpath(\"//div[@class='col _2wzgFH K0kLPL']\")\n",
    "        for i in review_cell:\n",
    "            rating = i.find_element_by_xpath(\"div[1]/div\")\n",
    "            rating = int(float(rating.text))\n",
    "            if Rating_list.count(rating) < 60:\n",
    "                Rating_list.append(rating)\n",
    "                summary = i.find_element_by_xpath(\"div[1]/p\")\n",
    "                summary_list.append(summary.text)\n",
    "                full_review = i.find_element_by_xpath(\"div[2]/div\")\n",
    "                review_list.append(full_review.text)\n",
    "                #product_list.append('Mobile')\n",
    "\n",
    "    except:\n",
    "        driver.back()\n",
    "\n",
    "    Next_button = driver.find_elements_by_xpath(\"//a[@class ='_1LKTO3']\")   \n",
    "\n",
    "    for i in Next_button:\n",
    "        if i.text == 'NEXT' or i.text == 'Next':\n",
    "            driver.get(i.get_attribute('href'))"
   ]
  },
  {
   "cell_type": "code",
   "execution_count": 355,
   "id": "fd618e97",
   "metadata": {},
   "outputs": [],
   "source": [
    "#scraped 300 ratings of smart watch. 60 for each ratings\n",
    "df_printer1 = pd.DataFrame({'Ratings':Rating_list,'Summary':summary_list,'Review':review_list,'Product':'Printer'})"
   ]
  },
  {
   "cell_type": "code",
   "execution_count": 356,
   "id": "29443d32",
   "metadata": {},
   "outputs": [
    {
     "data": {
      "text/html": [
       "<div>\n",
       "<style scoped>\n",
       "    .dataframe tbody tr th:only-of-type {\n",
       "        vertical-align: middle;\n",
       "    }\n",
       "\n",
       "    .dataframe tbody tr th {\n",
       "        vertical-align: top;\n",
       "    }\n",
       "\n",
       "    .dataframe thead th {\n",
       "        text-align: right;\n",
       "    }\n",
       "</style>\n",
       "<table border=\"1\" class=\"dataframe\">\n",
       "  <thead>\n",
       "    <tr style=\"text-align: right;\">\n",
       "      <th></th>\n",
       "      <th>Ratings</th>\n",
       "      <th>Summary</th>\n",
       "      <th>Review</th>\n",
       "      <th>Product</th>\n",
       "    </tr>\n",
       "  </thead>\n",
       "  <tbody>\n",
       "    <tr>\n",
       "      <th>0</th>\n",
       "      <td>5</td>\n",
       "      <td>Must buy!</td>\n",
       "      <td>Great printer. The color reproduction on the p...</td>\n",
       "      <td>Printer</td>\n",
       "    </tr>\n",
       "    <tr>\n",
       "      <th>1</th>\n",
       "      <td>4</td>\n",
       "      <td>Wonderful</td>\n",
       "      <td>good priinter at the price\\nbut as i expect in...</td>\n",
       "      <td>Printer</td>\n",
       "    </tr>\n",
       "    <tr>\n",
       "      <th>2</th>\n",
       "      <td>1</td>\n",
       "      <td>Very poor</td>\n",
       "      <td>Not a very user friendly printer..Canon in thi...</td>\n",
       "      <td>Printer</td>\n",
       "    </tr>\n",
       "    <tr>\n",
       "      <th>3</th>\n",
       "      <td>5</td>\n",
       "      <td>Brilliant</td>\n",
       "      <td>It is very good Products and its printing qual...</td>\n",
       "      <td>Printer</td>\n",
       "    </tr>\n",
       "    <tr>\n",
       "      <th>4</th>\n",
       "      <td>4</td>\n",
       "      <td>Nice product</td>\n",
       "      <td>printer works very well.. great quality... per...</td>\n",
       "      <td>Printer</td>\n",
       "    </tr>\n",
       "  </tbody>\n",
       "</table>\n",
       "</div>"
      ],
      "text/plain": [
       "   Ratings       Summary                                             Review  \\\n",
       "0        5     Must buy!  Great printer. The color reproduction on the p...   \n",
       "1        4     Wonderful  good priinter at the price\\nbut as i expect in...   \n",
       "2        1     Very poor  Not a very user friendly printer..Canon in thi...   \n",
       "3        5     Brilliant  It is very good Products and its printing qual...   \n",
       "4        4  Nice product  printer works very well.. great quality... per...   \n",
       "\n",
       "   Product  \n",
       "0  Printer  \n",
       "1  Printer  \n",
       "2  Printer  \n",
       "3  Printer  \n",
       "4  Printer  "
      ]
     },
     "execution_count": 356,
     "metadata": {},
     "output_type": "execute_result"
    }
   ],
   "source": [
    "df_printer1.head()"
   ]
  },
  {
   "cell_type": "code",
   "execution_count": 357,
   "id": "431610a7",
   "metadata": {},
   "outputs": [
    {
     "data": {
      "text/plain": [
       "1    60\n",
       "2    60\n",
       "3    60\n",
       "4    60\n",
       "5    60\n",
       "Name: Ratings, dtype: int64"
      ]
     },
     "execution_count": 357,
     "metadata": {},
     "output_type": "execute_result"
    }
   ],
   "source": [
    "#we have 60 values for all ratings\n",
    "df_printer1['Ratings'].value_counts()"
   ]
  },
  {
   "cell_type": "code",
   "execution_count": 358,
   "id": "93a69f73",
   "metadata": {},
   "outputs": [],
   "source": [
    "df_printer1.to_csv(\"printer_df1.csv\")"
   ]
  },
  {
   "cell_type": "code",
   "execution_count": 359,
   "id": "56fa5564",
   "metadata": {},
   "outputs": [],
   "source": [
    "Rating_list = []\n",
    "summary_list = []\n",
    "review_list = []\n",
    "product_list = []\n",
    "\n",
    "\n",
    "driver = webdriver.Chrome('chromedriver.exe')\n",
    "url = \"https://www.flipkart.com/d-link-dir-819-750-mbps-router/p/itmff2hynmhzhtqa?pid=RTRFF2HYYUYHCGGK&lid=LSTRTRFF2HYYUYHCGGKB3BKOG&marketplace=FLIPKART&q=Router&store=6bo%2F2a2&spotlightTagId=BestsellerId_6bo%2F2a2&srno=s_1_1&otracker=search&otracker1=search&fm=SEARCH&iid=e8f3e01b-c8d4-4076-b2c7-5f514e0ec8f7.RTRFF2HYYUYHCGGK.SEARCH&ppt=sp&ppn=sp&ssid=7tbj81dyyo0000001627401663866&qH=9cd72ef099fa539e\"\n",
    "driver.get(url)\n",
    "WebDriverWait(driver,delay).until(EC.presence_of_element_located((By.CLASS_NAME,'_3HKIdy')))\n",
    "All_reviews = driver.find_element_by_xpath(\"//div[@class='_3UAT2v _16PBlm']/span\")\n",
    "All_reviews.click()\n",
    "\n",
    "while len(Rating_list) < 800:\n",
    "\n",
    "\n",
    "    try:\n",
    "        delay = 6\n",
    "        WebDriverWait(driver,delay).until(EC.presence_of_element_located((By.CLASS_NAME,'_1LKTO3')))\n",
    "\n",
    "        review_cell = driver.find_elements_by_xpath(\"//div[@class='col _2wzgFH K0kLPL']\")\n",
    "        for i in review_cell:\n",
    "            rating = i.find_element_by_xpath(\"div[1]/div\")\n",
    "            rating = int(float(rating.text))\n",
    "            if Rating_list.count(rating) < 160:\n",
    "                Rating_list.append(rating)\n",
    "                summary = i.find_element_by_xpath(\"div[1]/p\")\n",
    "                summary_list.append(summary.text)\n",
    "                full_review = i.find_element_by_xpath(\"div[2]/div\")\n",
    "                review_list.append(full_review.text)\n",
    "                #product_list.append('Mobile')\n",
    "\n",
    "    except:\n",
    "        driver.back()\n",
    "\n",
    "    Next_button = driver.find_elements_by_xpath(\"//a[@class ='_1LKTO3']\")   \n",
    "\n",
    "    for i in Next_button:\n",
    "        if i.text == 'NEXT' or i.text == 'Next':\n",
    "            driver.get(i.get_attribute('href'))"
   ]
  },
  {
   "cell_type": "code",
   "execution_count": 360,
   "id": "30b0ff8a",
   "metadata": {},
   "outputs": [],
   "source": [
    "#scraped 800 ratings of smart watch. 160 for each ratings\n",
    "df_router1 = pd.DataFrame({'Ratings':Rating_list,'Summary':summary_list,'Review':review_list,'Product':'Router'})"
   ]
  },
  {
   "cell_type": "code",
   "execution_count": 361,
   "id": "7a5d4e04",
   "metadata": {},
   "outputs": [
    {
     "data": {
      "text/html": [
       "<div>\n",
       "<style scoped>\n",
       "    .dataframe tbody tr th:only-of-type {\n",
       "        vertical-align: middle;\n",
       "    }\n",
       "\n",
       "    .dataframe tbody tr th {\n",
       "        vertical-align: top;\n",
       "    }\n",
       "\n",
       "    .dataframe thead th {\n",
       "        text-align: right;\n",
       "    }\n",
       "</style>\n",
       "<table border=\"1\" class=\"dataframe\">\n",
       "  <thead>\n",
       "    <tr style=\"text-align: right;\">\n",
       "      <th></th>\n",
       "      <th>Ratings</th>\n",
       "      <th>Summary</th>\n",
       "      <th>Review</th>\n",
       "      <th>Product</th>\n",
       "    </tr>\n",
       "  </thead>\n",
       "  <tbody>\n",
       "    <tr>\n",
       "      <th>0</th>\n",
       "      <td>5</td>\n",
       "      <td>Wonderful</td>\n",
       "      <td>Best home router in this price point. signal r...</td>\n",
       "      <td>Router</td>\n",
       "    </tr>\n",
       "    <tr>\n",
       "      <th>1</th>\n",
       "      <td>4</td>\n",
       "      <td>Good choice</td>\n",
       "      <td>Honest review\\n1. Flipkart service great as al...</td>\n",
       "      <td>Router</td>\n",
       "    </tr>\n",
       "    <tr>\n",
       "      <th>2</th>\n",
       "      <td>5</td>\n",
       "      <td>Brilliant</td>\n",
       "      <td>Using continuously from 45 days, no network dr...</td>\n",
       "      <td>Router</td>\n",
       "    </tr>\n",
       "    <tr>\n",
       "      <th>3</th>\n",
       "      <td>1</td>\n",
       "      <td>Utterly Disappointed</td>\n",
       "      <td>I don't know what people are liking about this...</td>\n",
       "      <td>Router</td>\n",
       "    </tr>\n",
       "    <tr>\n",
       "      <th>4</th>\n",
       "      <td>1</td>\n",
       "      <td>Very poor</td>\n",
       "      <td>Hi Everyone,\\n\\nSo let's talk about D-Link 819...</td>\n",
       "      <td>Router</td>\n",
       "    </tr>\n",
       "  </tbody>\n",
       "</table>\n",
       "</div>"
      ],
      "text/plain": [
       "   Ratings               Summary  \\\n",
       "0        5             Wonderful   \n",
       "1        4           Good choice   \n",
       "2        5             Brilliant   \n",
       "3        1  Utterly Disappointed   \n",
       "4        1             Very poor   \n",
       "\n",
       "                                              Review Product  \n",
       "0  Best home router in this price point. signal r...  Router  \n",
       "1  Honest review\\n1. Flipkart service great as al...  Router  \n",
       "2  Using continuously from 45 days, no network dr...  Router  \n",
       "3  I don't know what people are liking about this...  Router  \n",
       "4  Hi Everyone,\\n\\nSo let's talk about D-Link 819...  Router  "
      ]
     },
     "execution_count": 361,
     "metadata": {},
     "output_type": "execute_result"
    }
   ],
   "source": [
    "df_router1.head()"
   ]
  },
  {
   "cell_type": "code",
   "execution_count": 362,
   "id": "80c4f87a",
   "metadata": {},
   "outputs": [
    {
     "data": {
      "text/plain": [
       "1    160\n",
       "2    160\n",
       "3    160\n",
       "4    160\n",
       "5    160\n",
       "Name: Ratings, dtype: int64"
      ]
     },
     "execution_count": 362,
     "metadata": {},
     "output_type": "execute_result"
    }
   ],
   "source": [
    "#we have 160 values for all ratings\n",
    "df_router1['Ratings'].value_counts()"
   ]
  },
  {
   "cell_type": "code",
   "execution_count": 363,
   "id": "1b16c906",
   "metadata": {},
   "outputs": [],
   "source": [
    "df_router1.to_csv(\"router_df1.csv\")"
   ]
  },
  {
   "cell_type": "code",
   "execution_count": null,
   "id": "fb4c5837",
   "metadata": {},
   "outputs": [],
   "source": [
    "Rating_list = []\n",
    "summary_list = []\n",
    "review_list = []\n",
    "product_list = []\n",
    "\n",
    "\n",
    "driver = webdriver.Chrome('chromedriver.exe')\n",
    "url = \"https://www.flipkart.com/d-link-dir-615-wireless-n-300-router/p/itme3xwg9x9jgsyh?pid=RTRE3XW76EHCJUGH&lid=LSTRTRE3XW76EHCJUGHL3JOYL&marketplace=FLIPKART&q=router&store=6bo%2F2a2&spotlightTagId=BestvalueId_6bo%2F2a2&srno=s_1_1&otracker=search&otracker1=search&fm=SEARCH&iid=142dc5d1-02b2-4e7d-a427-29cf29cc7615.RTRE3XW76EHCJUGH.SEARCH&ppt=sp&ppn=sp&ssid=vlbs3v2bgw0000001627402963454&qH=f3395cd54cf857dd\"\n",
    "driver.get(url)\n",
    "WebDriverWait(driver,delay).until(EC.presence_of_element_located((By.CLASS_NAME,'_3HKIdy')))\n",
    "All_reviews = driver.find_element_by_xpath(\"//div[@class='_3UAT2v _16PBlm']/span\")\n",
    "All_reviews.click()\n",
    "\n",
    "while len(Rating_list) < 800:\n",
    "\n",
    "\n",
    "    try:\n",
    "        delay = 6\n",
    "        WebDriverWait(driver,delay).until(EC.presence_of_element_located((By.CLASS_NAME,'_1LKTO3')))\n",
    "\n",
    "        review_cell = driver.find_elements_by_xpath(\"//div[@class='col _2wzgFH K0kLPL']\")\n",
    "        for i in review_cell:\n",
    "            rating = i.find_element_by_xpath(\"div[1]/div\")\n",
    "            rating = int(float(rating.text))\n",
    "            if Rating_list.count(rating) < 160:\n",
    "                Rating_list.append(rating)\n",
    "                summary = i.find_element_by_xpath(\"div[1]/p\")\n",
    "                summary_list.append(summary.text)\n",
    "                full_review = i.find_element_by_xpath(\"div[2]/div\")\n",
    "                review_list.append(full_review.text)\n",
    "                #product_list.append('Mobile')\n",
    "\n",
    "    except:\n",
    "        driver.back()\n",
    "\n",
    "    Next_button = driver.find_elements_by_xpath(\"//a[@class ='_1LKTO3']\")   \n",
    "\n",
    "    for i in Next_button:\n",
    "        if i.text == 'NEXT' or i.text == 'Next':\n",
    "            driver.get(i.get_attribute('href'))"
   ]
  },
  {
   "cell_type": "code",
   "execution_count": 365,
   "id": "7d35f55d",
   "metadata": {},
   "outputs": [],
   "source": [
    "#scraped 800 ratings of smart watch. 160 for each ratings\n",
    "df_router2 = pd.DataFrame({'Ratings':Rating_list,'Summary':summary_list,'Review':review_list,'Product':'Router'})"
   ]
  },
  {
   "cell_type": "code",
   "execution_count": 366,
   "id": "fe3df479",
   "metadata": {},
   "outputs": [
    {
     "data": {
      "text/html": [
       "<div>\n",
       "<style scoped>\n",
       "    .dataframe tbody tr th:only-of-type {\n",
       "        vertical-align: middle;\n",
       "    }\n",
       "\n",
       "    .dataframe tbody tr th {\n",
       "        vertical-align: top;\n",
       "    }\n",
       "\n",
       "    .dataframe thead th {\n",
       "        text-align: right;\n",
       "    }\n",
       "</style>\n",
       "<table border=\"1\" class=\"dataframe\">\n",
       "  <thead>\n",
       "    <tr style=\"text-align: right;\">\n",
       "      <th></th>\n",
       "      <th>Ratings</th>\n",
       "      <th>Summary</th>\n",
       "      <th>Review</th>\n",
       "      <th>Product</th>\n",
       "    </tr>\n",
       "  </thead>\n",
       "  <tbody>\n",
       "    <tr>\n",
       "      <th>0</th>\n",
       "      <td>5</td>\n",
       "      <td>Works best with PPPoE type cable internet RJ45</td>\n",
       "      <td>I have bought this product in a hurry since I ...</td>\n",
       "      <td>Router</td>\n",
       "    </tr>\n",
       "    <tr>\n",
       "      <th>1</th>\n",
       "      <td>5</td>\n",
       "      <td>Perfect product!</td>\n",
       "      <td>Good product delivered on time A real gem for ...</td>\n",
       "      <td>Router</td>\n",
       "    </tr>\n",
       "    <tr>\n",
       "      <th>2</th>\n",
       "      <td>5</td>\n",
       "      <td>Brilliant device with a decent price if you ar...</td>\n",
       "      <td>Hi..\\nI ordered the product and got it deliver...</td>\n",
       "      <td>Router</td>\n",
       "    </tr>\n",
       "    <tr>\n",
       "      <th>3</th>\n",
       "      <td>4</td>\n",
       "      <td>Works very well as a repeater</td>\n",
       "      <td>My existing ADSL N router (D-Link DSL-2750U) w...</td>\n",
       "      <td>Router</td>\n",
       "    </tr>\n",
       "    <tr>\n",
       "      <th>4</th>\n",
       "      <td>5</td>\n",
       "      <td>Classy product</td>\n",
       "      <td>Close your eyes and just go for it. Amazing pr...</td>\n",
       "      <td>Router</td>\n",
       "    </tr>\n",
       "  </tbody>\n",
       "</table>\n",
       "</div>"
      ],
      "text/plain": [
       "   Ratings                                            Summary  \\\n",
       "0        5     Works best with PPPoE type cable internet RJ45   \n",
       "1        5                                   Perfect product!   \n",
       "2        5  Brilliant device with a decent price if you ar...   \n",
       "3        4                      Works very well as a repeater   \n",
       "4        5                                     Classy product   \n",
       "\n",
       "                                              Review Product  \n",
       "0  I have bought this product in a hurry since I ...  Router  \n",
       "1  Good product delivered on time A real gem for ...  Router  \n",
       "2  Hi..\\nI ordered the product and got it deliver...  Router  \n",
       "3  My existing ADSL N router (D-Link DSL-2750U) w...  Router  \n",
       "4  Close your eyes and just go for it. Amazing pr...  Router  "
      ]
     },
     "execution_count": 366,
     "metadata": {},
     "output_type": "execute_result"
    }
   ],
   "source": [
    "df_router2.head()"
   ]
  },
  {
   "cell_type": "code",
   "execution_count": 367,
   "id": "cd697738",
   "metadata": {},
   "outputs": [
    {
     "data": {
      "text/plain": [
       "1    160\n",
       "3    160\n",
       "4    160\n",
       "5    160\n",
       "2    116\n",
       "Name: Ratings, dtype: int64"
      ]
     },
     "execution_count": 367,
     "metadata": {},
     "output_type": "execute_result"
    }
   ],
   "source": [
    "#we have 160 values for all ratings and 116 fro 2 ratings\n",
    "df_router2['Ratings'].value_counts()"
   ]
  },
  {
   "cell_type": "code",
   "execution_count": 368,
   "id": "3d3cec5d",
   "metadata": {},
   "outputs": [],
   "source": [
    "df_router2.to_csv(\"router_df2.csv\")"
   ]
  },
  {
   "cell_type": "code",
   "execution_count": 369,
   "id": "d3e60bbb",
   "metadata": {},
   "outputs": [],
   "source": [
    "Rating_list = []\n",
    "summary_list = []\n",
    "review_list = []\n",
    "product_list = []\n",
    "\n",
    "\n",
    "driver = webdriver.Chrome('chromedriver.exe')\n",
    "url = \"https://www.flipkart.com/boat-rockerz-235v2-asap-charging-version-5-0-bluetooth-headset/p/itmffacf2db2cc8f?pid=ACCFZGAQJGYCYDCM&lid=LSTACCFZGAQJGYCYDCMMCMPP5&marketplace=FLIPKART&q=earphones&store=0pm%2Ffcn&srno=s_1_1&otracker=search&otracker1=search&fm=SEARCH&iid=aa120cde-79cf-4314-826d-920ab92c0bb0.ACCFZGAQJGYCYDCM.SEARCH&ppt=sp&ppn=sp&ssid=apqcv2ww9c0000001627404004844&qH=54597ea1f2fc7f2e\"\n",
    "driver.get(url)\n",
    "WebDriverWait(driver,delay).until(EC.presence_of_element_located((By.CLASS_NAME,'_3HKIdy')))\n",
    "All_reviews = driver.find_element_by_xpath(\"//div[@class='_3UAT2v _16PBlm']/span\")\n",
    "All_reviews.click()\n",
    "\n",
    "while len(Rating_list) < 1000:\n",
    "\n",
    "\n",
    "    try:\n",
    "        delay = 6\n",
    "        WebDriverWait(driver,delay).until(EC.presence_of_element_located((By.CLASS_NAME,'_1LKTO3')))\n",
    "\n",
    "        review_cell = driver.find_elements_by_xpath(\"//div[@class='col _2wzgFH K0kLPL']\")\n",
    "        for i in review_cell:\n",
    "            rating = i.find_element_by_xpath(\"div[1]/div\")\n",
    "            rating = int(float(rating.text))\n",
    "            if Rating_list.count(rating) < 200:\n",
    "                Rating_list.append(rating)\n",
    "                summary = i.find_element_by_xpath(\"div[1]/p\")\n",
    "                summary_list.append(summary.text)\n",
    "                full_review = i.find_element_by_xpath(\"div[2]/div\")\n",
    "                review_list.append(full_review.text)\n",
    "                #product_list.append('Mobile')\n",
    "\n",
    "    except:\n",
    "        driver.back()\n",
    "\n",
    "    Next_button = driver.find_elements_by_xpath(\"//a[@class ='_1LKTO3']\")   \n",
    "\n",
    "    for i in Next_button:\n",
    "        if i.text == 'NEXT' or i.text == 'Next':\n",
    "            driver.get(i.get_attribute('href'))"
   ]
  },
  {
   "cell_type": "code",
   "execution_count": 370,
   "id": "94bb7767",
   "metadata": {},
   "outputs": [],
   "source": [
    "#scraped 1000 ratings of smart watch. 200 for each ratings\n",
    "df_earphones1 = pd.DataFrame({'Ratings':Rating_list,'Summary':summary_list,'Review':review_list,'Product':'Bluetooth Earphone'})"
   ]
  },
  {
   "cell_type": "code",
   "execution_count": 371,
   "id": "f0e95063",
   "metadata": {},
   "outputs": [
    {
     "data": {
      "text/html": [
       "<div>\n",
       "<style scoped>\n",
       "    .dataframe tbody tr th:only-of-type {\n",
       "        vertical-align: middle;\n",
       "    }\n",
       "\n",
       "    .dataframe tbody tr th {\n",
       "        vertical-align: top;\n",
       "    }\n",
       "\n",
       "    .dataframe thead th {\n",
       "        text-align: right;\n",
       "    }\n",
       "</style>\n",
       "<table border=\"1\" class=\"dataframe\">\n",
       "  <thead>\n",
       "    <tr style=\"text-align: right;\">\n",
       "      <th></th>\n",
       "      <th>Ratings</th>\n",
       "      <th>Summary</th>\n",
       "      <th>Review</th>\n",
       "      <th>Product</th>\n",
       "    </tr>\n",
       "  </thead>\n",
       "  <tbody>\n",
       "    <tr>\n",
       "      <th>0</th>\n",
       "      <td>5</td>\n",
       "      <td>Terrific purchase</td>\n",
       "      <td>Very Good Product.\\nSound is very Clear and ba...</td>\n",
       "      <td>Bluetooth Earphone</td>\n",
       "    </tr>\n",
       "    <tr>\n",
       "      <th>1</th>\n",
       "      <td>5</td>\n",
       "      <td>Terrific purchase</td>\n",
       "      <td>Super sound and good looking I like that prize</td>\n",
       "      <td>Bluetooth Earphone</td>\n",
       "    </tr>\n",
       "    <tr>\n",
       "      <th>2</th>\n",
       "      <td>5</td>\n",
       "      <td>Super!</td>\n",
       "      <td>Nice headphone, bass was very good and sound i...</td>\n",
       "      <td>Bluetooth Earphone</td>\n",
       "    </tr>\n",
       "    <tr>\n",
       "      <th>3</th>\n",
       "      <td>5</td>\n",
       "      <td>Terrific</td>\n",
       "      <td>Wawo wawooo wawooooo..😍😍 I am so happy with th...</td>\n",
       "      <td>Bluetooth Earphone</td>\n",
       "    </tr>\n",
       "    <tr>\n",
       "      <th>4</th>\n",
       "      <td>5</td>\n",
       "      <td>Super!</td>\n",
       "      <td>Very much satisfied with the device at this pr...</td>\n",
       "      <td>Bluetooth Earphone</td>\n",
       "    </tr>\n",
       "  </tbody>\n",
       "</table>\n",
       "</div>"
      ],
      "text/plain": [
       "   Ratings            Summary  \\\n",
       "0        5  Terrific purchase   \n",
       "1        5  Terrific purchase   \n",
       "2        5             Super!   \n",
       "3        5           Terrific   \n",
       "4        5             Super!   \n",
       "\n",
       "                                              Review             Product  \n",
       "0  Very Good Product.\\nSound is very Clear and ba...  Bluetooth Earphone  \n",
       "1     Super sound and good looking I like that prize  Bluetooth Earphone  \n",
       "2  Nice headphone, bass was very good and sound i...  Bluetooth Earphone  \n",
       "3  Wawo wawooo wawooooo..😍😍 I am so happy with th...  Bluetooth Earphone  \n",
       "4  Very much satisfied with the device at this pr...  Bluetooth Earphone  "
      ]
     },
     "execution_count": 371,
     "metadata": {},
     "output_type": "execute_result"
    }
   ],
   "source": [
    "df_earphones1.head()"
   ]
  },
  {
   "cell_type": "code",
   "execution_count": 372,
   "id": "b113d3fb",
   "metadata": {},
   "outputs": [
    {
     "data": {
      "text/plain": [
       "1    200\n",
       "2    200\n",
       "3    200\n",
       "4    200\n",
       "5    200\n",
       "Name: Ratings, dtype: int64"
      ]
     },
     "execution_count": 372,
     "metadata": {},
     "output_type": "execute_result"
    }
   ],
   "source": [
    "#we have 200 values for all ratings\n",
    "df_earphones1['Ratings'].value_counts()"
   ]
  },
  {
   "cell_type": "code",
   "execution_count": 374,
   "id": "71e40400",
   "metadata": {},
   "outputs": [],
   "source": [
    "df_earphones1.to_csv(\"df_earphones1.csv\")"
   ]
  },
  {
   "cell_type": "code",
   "execution_count": null,
   "id": "cf71ba55",
   "metadata": {},
   "outputs": [],
   "source": [
    "Rating_list = []\n",
    "summary_list = []\n",
    "review_list = []\n",
    "product_list = []\n",
    "\n",
    "\n",
    "driver = webdriver.Chrome('chromedriver.exe')\n",
    "url = \"https://www.flipkart.com/mi-smart-band-4/p/itmff9f94c0d486e?pid=SBNFPNVT2FJEKKHV&lid=LSTSBNFPNVT2FJEKKHVYORHRM&marketplace=FLIPKART&q=smart+band&store=ajy%2Fq7p&spotlightTagId=BestvalueId_ajy%2Fq7p&srno=s_1_3&otracker=search&otracker1=search&fm=SEARCH&iid=d7b22b4f-dd4e-4483-b9eb-8207da3a8902.SBNFPNVT2FJEKKHV.SEARCH&ppt=sp&ppn=sp&ssid=o8eehqvzls0000001627405877892&qH=a24af8b983ff6c43\"\n",
    "driver.get(url)\n",
    "WebDriverWait(driver,delay).until(EC.presence_of_element_located((By.CLASS_NAME,'_3HKIdy')))\n",
    "All_reviews = driver.find_element_by_xpath(\"//div[@class='_3UAT2v _16PBlm']/span\")\n",
    "All_reviews.click()\n",
    "\n",
    "while len(Rating_list) < 800:\n",
    "\n",
    "\n",
    "    try:\n",
    "        delay = 6\n",
    "        WebDriverWait(driver,delay).until(EC.presence_of_element_located((By.CLASS_NAME,'_1LKTO3')))\n",
    "\n",
    "        review_cell = driver.find_elements_by_xpath(\"//div[@class='col _2wzgFH K0kLPL']\")\n",
    "        for i in review_cell:\n",
    "            rating = i.find_element_by_xpath(\"div[1]/div\")\n",
    "            rating = int(float(rating.text))\n",
    "            if Rating_list.count(rating) < 160:\n",
    "                Rating_list.append(rating)\n",
    "                summary = i.find_element_by_xpath(\"div[1]/p\")\n",
    "                summary_list.append(summary.text)\n",
    "                full_review = i.find_element_by_xpath(\"div[2]/div\")\n",
    "                review_list.append(full_review.text)\n",
    "                #product_list.append('Mobile')\n",
    "\n",
    "    except:\n",
    "        driver.back()\n",
    "\n",
    "    Next_button = driver.find_elements_by_xpath(\"//a[@class ='_1LKTO3']\")   \n",
    "\n",
    "    for i in Next_button:\n",
    "        if i.text == 'NEXT' or i.text == 'Next':\n",
    "            driver.get(i.get_attribute('href'))"
   ]
  },
  {
   "cell_type": "code",
   "execution_count": 377,
   "id": "8389ce83",
   "metadata": {},
   "outputs": [],
   "source": [
    "#scraped 800 ratings of smart watch. 160 for each ratings\n",
    "df_smartband = pd.DataFrame({'Ratings':Rating_list,'Summary':summary_list,'Review':review_list,'Product':'Smart Wrist Band'})"
   ]
  },
  {
   "cell_type": "code",
   "execution_count": 378,
   "id": "1c3e3f0e",
   "metadata": {},
   "outputs": [
    {
     "data": {
      "text/html": [
       "<div>\n",
       "<style scoped>\n",
       "    .dataframe tbody tr th:only-of-type {\n",
       "        vertical-align: middle;\n",
       "    }\n",
       "\n",
       "    .dataframe tbody tr th {\n",
       "        vertical-align: top;\n",
       "    }\n",
       "\n",
       "    .dataframe thead th {\n",
       "        text-align: right;\n",
       "    }\n",
       "</style>\n",
       "<table border=\"1\" class=\"dataframe\">\n",
       "  <thead>\n",
       "    <tr style=\"text-align: right;\">\n",
       "      <th></th>\n",
       "      <th>Ratings</th>\n",
       "      <th>Summary</th>\n",
       "      <th>Review</th>\n",
       "      <th>Product</th>\n",
       "    </tr>\n",
       "  </thead>\n",
       "  <tbody>\n",
       "    <tr>\n",
       "      <th>0</th>\n",
       "      <td>5</td>\n",
       "      <td>Mind-blowing purchase</td>\n",
       "      <td>Mi band 4 really satisfied; It’s Amoled colour...</td>\n",
       "      <td>Smart Wrist Band</td>\n",
       "    </tr>\n",
       "    <tr>\n",
       "      <th>1</th>\n",
       "      <td>5</td>\n",
       "      <td>Terrific purchase</td>\n",
       "      <td>Very nice band.I am very glad having this wond...</td>\n",
       "      <td>Smart Wrist Band</td>\n",
       "    </tr>\n",
       "    <tr>\n",
       "      <th>2</th>\n",
       "      <td>5</td>\n",
       "      <td>Terrific</td>\n",
       "      <td>It's been 20 days using this Mi band 4 and all...</td>\n",
       "      <td>Smart Wrist Band</td>\n",
       "    </tr>\n",
       "    <tr>\n",
       "      <th>3</th>\n",
       "      <td>5</td>\n",
       "      <td>Best in the market!</td>\n",
       "      <td>I am happy with this product... I am reviewing...</td>\n",
       "      <td>Smart Wrist Band</td>\n",
       "    </tr>\n",
       "    <tr>\n",
       "      <th>4</th>\n",
       "      <td>5</td>\n",
       "      <td>Terrific</td>\n",
       "      <td>10/10 The Mi band 4 is better than I imagined....</td>\n",
       "      <td>Smart Wrist Band</td>\n",
       "    </tr>\n",
       "  </tbody>\n",
       "</table>\n",
       "</div>"
      ],
      "text/plain": [
       "   Ratings                Summary  \\\n",
       "0        5  Mind-blowing purchase   \n",
       "1        5      Terrific purchase   \n",
       "2        5               Terrific   \n",
       "3        5    Best in the market!   \n",
       "4        5               Terrific   \n",
       "\n",
       "                                              Review           Product  \n",
       "0  Mi band 4 really satisfied; It’s Amoled colour...  Smart Wrist Band  \n",
       "1  Very nice band.I am very glad having this wond...  Smart Wrist Band  \n",
       "2  It's been 20 days using this Mi band 4 and all...  Smart Wrist Band  \n",
       "3  I am happy with this product... I am reviewing...  Smart Wrist Band  \n",
       "4  10/10 The Mi band 4 is better than I imagined....  Smart Wrist Band  "
      ]
     },
     "execution_count": 378,
     "metadata": {},
     "output_type": "execute_result"
    }
   ],
   "source": [
    "df_smartband.head()"
   ]
  },
  {
   "cell_type": "code",
   "execution_count": 379,
   "id": "14f5115e",
   "metadata": {},
   "outputs": [
    {
     "data": {
      "text/plain": [
       "1    160\n",
       "3    160\n",
       "4    160\n",
       "5    160\n",
       "2    155\n",
       "Name: Ratings, dtype: int64"
      ]
     },
     "execution_count": 379,
     "metadata": {},
     "output_type": "execute_result"
    }
   ],
   "source": [
    "#we have 160 values for all ratings, 155 fro two rating\n",
    "df_smartband['Ratings'].value_counts()"
   ]
  },
  {
   "cell_type": "code",
   "execution_count": 380,
   "id": "dd3226bd",
   "metadata": {},
   "outputs": [],
   "source": [
    "df_smartband.to_csv(\"df_smartband.csv\")"
   ]
  },
  {
   "cell_type": "code",
   "execution_count": 381,
   "id": "0083c1d4",
   "metadata": {},
   "outputs": [],
   "source": [
    "Rating_list = []\n",
    "summary_list = []\n",
    "review_list = []\n",
    "product_list = []\n",
    "\n",
    "\n",
    "driver = webdriver.Chrome('chromedriver.exe')\n",
    "url = \"https://www.flipkart.com/mi-a1-black-64-gb/p/itmexnsrtzhbbneg?pid=MOBEX9WXUSZVYHET&lid=LSTMOBEX9WXUSZVYHETFSTZ7W&marketplace=FLIPKART&q=mi+a1&store=tyy%2F4io&srno=s_1_1&otracker=search&otracker1=search&fm=SEARCH&iid=b54006c8-5b04-406b-a846-f88652bb3e8c.MOBEX9WXUSZVYHET.SEARCH&ppt=sp&ppn=sp&ssid=hdqqnp11ds0000001627408641727&qH=5d489113ec3351d9\"\n",
    "driver.get(url)\n",
    "WebDriverWait(driver,delay).until(EC.presence_of_element_located((By.CLASS_NAME,'_3HKIdy')))\n",
    "All_reviews = driver.find_element_by_xpath(\"//div[@class='_3UAT2v _16PBlm']/span\")\n",
    "All_reviews.click()\n",
    "\n",
    "while len(Rating_list) < 800:\n",
    "\n",
    "\n",
    "    try:\n",
    "        delay = 6\n",
    "        WebDriverWait(driver,delay).until(EC.presence_of_element_located((By.CLASS_NAME,'_1LKTO3')))\n",
    "\n",
    "        review_cell = driver.find_elements_by_xpath(\"//div[@class='col _2wzgFH K0kLPL']\")\n",
    "        for i in review_cell:\n",
    "            rating = i.find_element_by_xpath(\"div[1]/div\")\n",
    "            rating = int(float(rating.text))\n",
    "            if Rating_list.count(rating) < 160:\n",
    "                Rating_list.append(rating)\n",
    "                summary = i.find_element_by_xpath(\"div[1]/p\")\n",
    "                summary_list.append(summary.text)\n",
    "                full_review = i.find_element_by_xpath(\"div[2]/div\")\n",
    "                review_list.append(full_review.text)\n",
    "                #product_list.append('Mobile')\n",
    "\n",
    "    except:\n",
    "        driver.back()\n",
    "\n",
    "    Next_button = driver.find_elements_by_xpath(\"//a[@class ='_1LKTO3']\")   \n",
    "\n",
    "    for i in Next_button:\n",
    "        if i.text == 'NEXT' or i.text == 'Next':\n",
    "            driver.get(i.get_attribute('href'))"
   ]
  },
  {
   "cell_type": "code",
   "execution_count": 382,
   "id": "3af20058",
   "metadata": {},
   "outputs": [],
   "source": [
    "#scraped 800 ratings of phone\n",
    "df_phone_4 = pd.DataFrame({'Ratings':Rating_list,'Summary':summary_list,'Review':review_list,'Product':'Mobile'})"
   ]
  },
  {
   "cell_type": "code",
   "execution_count": 383,
   "id": "ea5655bd",
   "metadata": {},
   "outputs": [
    {
     "data": {
      "text/html": [
       "<div>\n",
       "<style scoped>\n",
       "    .dataframe tbody tr th:only-of-type {\n",
       "        vertical-align: middle;\n",
       "    }\n",
       "\n",
       "    .dataframe tbody tr th {\n",
       "        vertical-align: top;\n",
       "    }\n",
       "\n",
       "    .dataframe thead th {\n",
       "        text-align: right;\n",
       "    }\n",
       "</style>\n",
       "<table border=\"1\" class=\"dataframe\">\n",
       "  <thead>\n",
       "    <tr style=\"text-align: right;\">\n",
       "      <th></th>\n",
       "      <th>Ratings</th>\n",
       "      <th>Summary</th>\n",
       "      <th>Review</th>\n",
       "      <th>Product</th>\n",
       "    </tr>\n",
       "  </thead>\n",
       "  <tbody>\n",
       "    <tr>\n",
       "      <th>0</th>\n",
       "      <td>5</td>\n",
       "      <td>Awesome</td>\n",
       "      <td>After 2 years of usage i would like to say , N...</td>\n",
       "      <td>Mobile</td>\n",
       "    </tr>\n",
       "    <tr>\n",
       "      <th>1</th>\n",
       "      <td>5</td>\n",
       "      <td>Perfect product!</td>\n",
       "      <td>Writing this review after 7 days of intense us...</td>\n",
       "      <td>Mobile</td>\n",
       "    </tr>\n",
       "    <tr>\n",
       "      <th>2</th>\n",
       "      <td>4</td>\n",
       "      <td>Good choice</td>\n",
       "      <td>Hey all I'm writing this review After using 2m...</td>\n",
       "      <td>Mobile</td>\n",
       "    </tr>\n",
       "    <tr>\n",
       "      <th>3</th>\n",
       "      <td>3</td>\n",
       "      <td>Fair</td>\n",
       "      <td>I will devide my review into four parts\\n1. Pr...</td>\n",
       "      <td>Mobile</td>\n",
       "    </tr>\n",
       "    <tr>\n",
       "      <th>4</th>\n",
       "      <td>5</td>\n",
       "      <td>Super!</td>\n",
       "      <td>The Best! Well Finished... Great Fill... Nice ...</td>\n",
       "      <td>Mobile</td>\n",
       "    </tr>\n",
       "  </tbody>\n",
       "</table>\n",
       "</div>"
      ],
      "text/plain": [
       "   Ratings           Summary  \\\n",
       "0        5           Awesome   \n",
       "1        5  Perfect product!   \n",
       "2        4       Good choice   \n",
       "3        3              Fair   \n",
       "4        5            Super!   \n",
       "\n",
       "                                              Review Product  \n",
       "0  After 2 years of usage i would like to say , N...  Mobile  \n",
       "1  Writing this review after 7 days of intense us...  Mobile  \n",
       "2  Hey all I'm writing this review After using 2m...  Mobile  \n",
       "3  I will devide my review into four parts\\n1. Pr...  Mobile  \n",
       "4  The Best! Well Finished... Great Fill... Nice ...  Mobile  "
      ]
     },
     "execution_count": 383,
     "metadata": {},
     "output_type": "execute_result"
    }
   ],
   "source": [
    "df_phone_4.head()"
   ]
  },
  {
   "cell_type": "code",
   "execution_count": 384,
   "id": "0f1868cb",
   "metadata": {},
   "outputs": [
    {
     "data": {
      "text/plain": [
       "1    160\n",
       "2    160\n",
       "3    160\n",
       "4    160\n",
       "5    160\n",
       "Name: Ratings, dtype: int64"
      ]
     },
     "execution_count": 384,
     "metadata": {},
     "output_type": "execute_result"
    }
   ],
   "source": [
    "#we have 160 values for all ratings\n",
    "df_phone_4['Ratings'].value_counts()"
   ]
  },
  {
   "cell_type": "code",
   "execution_count": 385,
   "id": "3306ce48",
   "metadata": {},
   "outputs": [],
   "source": [
    "df_phone_4.to_csv(\"df_phone_4.csv\")"
   ]
  },
  {
   "cell_type": "code",
   "execution_count": 386,
   "id": "58fa0206",
   "metadata": {},
   "outputs": [],
   "source": [
    "Rating_list = []\n",
    "summary_list = []\n",
    "review_list = []\n",
    "product_list = []\n",
    "\n",
    "\n",
    "driver = webdriver.Chrome('chromedriver.exe')\n",
    "url = \"https://www.flipkart.com/samsung-guru-music-2/p/itmdz9am8xehucbx?pid=MOBDZ9AMJ472Y9MW&lid=LSTMOBDZ9AMJ472Y9MWA5MQUU&marketplace=FLIPKART&q=samsung+mobiles&store=tyy%2F4io&srno=s_1_10&otracker=AS_QueryStore_OrganicAutoSuggest_1_8_na_na_na&otracker1=AS_QueryStore_OrganicAutoSuggest_1_8_na_na_na&fm=SEARCH&iid=17e83c66-d430-42b9-84d7-e398a49934ec.MOBDZ9AMJ472Y9MW.SEARCH&ppt=dynamic&ppn=dynamic&ssid=d3uyztz7m80000001627410361400&qH=0258c7d48242959a\"\n",
    "driver.get(url)\n",
    "WebDriverWait(driver,delay).until(EC.presence_of_element_located((By.CLASS_NAME,'_3HKIdy')))\n",
    "All_reviews = driver.find_element_by_xpath(\"//div[@class='_3UAT2v _16PBlm']/span\")\n",
    "All_reviews.click()\n",
    "\n",
    "while len(Rating_list) < 800:\n",
    "\n",
    "\n",
    "    try:\n",
    "        delay = 6\n",
    "        WebDriverWait(driver,delay).until(EC.presence_of_element_located((By.CLASS_NAME,'_1LKTO3')))\n",
    "\n",
    "        review_cell = driver.find_elements_by_xpath(\"//div[@class='col _2wzgFH K0kLPL']\")\n",
    "        for i in review_cell:\n",
    "            rating = i.find_element_by_xpath(\"div[1]/div\")\n",
    "            rating = int(float(rating.text))\n",
    "            if Rating_list.count(rating) < 160:\n",
    "                Rating_list.append(rating)\n",
    "                summary = i.find_element_by_xpath(\"div[1]/p\")\n",
    "                summary_list.append(summary.text)\n",
    "                full_review = i.find_element_by_xpath(\"div[2]/div\")\n",
    "                review_list.append(full_review.text)\n",
    "                #product_list.append('Mobile')\n",
    "\n",
    "    except:\n",
    "        driver.back()\n",
    "\n",
    "    Next_button = driver.find_elements_by_xpath(\"//a[@class ='_1LKTO3']\")   \n",
    "\n",
    "    for i in Next_button:\n",
    "        if i.text == 'NEXT' or i.text == 'Next':\n",
    "            driver.get(i.get_attribute('href'))"
   ]
  },
  {
   "cell_type": "code",
   "execution_count": 387,
   "id": "298ade4f",
   "metadata": {},
   "outputs": [],
   "source": [
    "#scraped 800 ratings of phone\n",
    "df_phone_5 = pd.DataFrame({'Ratings':Rating_list,'Summary':summary_list,'Review':review_list,'Product':'Mobile'})"
   ]
  },
  {
   "cell_type": "code",
   "execution_count": 388,
   "id": "c1ee8d31",
   "metadata": {},
   "outputs": [
    {
     "data": {
      "text/html": [
       "<div>\n",
       "<style scoped>\n",
       "    .dataframe tbody tr th:only-of-type {\n",
       "        vertical-align: middle;\n",
       "    }\n",
       "\n",
       "    .dataframe tbody tr th {\n",
       "        vertical-align: top;\n",
       "    }\n",
       "\n",
       "    .dataframe thead th {\n",
       "        text-align: right;\n",
       "    }\n",
       "</style>\n",
       "<table border=\"1\" class=\"dataframe\">\n",
       "  <thead>\n",
       "    <tr style=\"text-align: right;\">\n",
       "      <th></th>\n",
       "      <th>Ratings</th>\n",
       "      <th>Summary</th>\n",
       "      <th>Review</th>\n",
       "      <th>Product</th>\n",
       "    </tr>\n",
       "  </thead>\n",
       "  <tbody>\n",
       "    <tr>\n",
       "      <th>0</th>\n",
       "      <td>5</td>\n",
       "      <td>Great product</td>\n",
       "      <td>This is a brilliant choice if you are looking ...</td>\n",
       "      <td>Mobile</td>\n",
       "    </tr>\n",
       "    <tr>\n",
       "      <th>1</th>\n",
       "      <td>4</td>\n",
       "      <td>Good choice</td>\n",
       "      <td>Light weight, very compact, stylish. keypad is...</td>\n",
       "      <td>Mobile</td>\n",
       "    </tr>\n",
       "    <tr>\n",
       "      <th>2</th>\n",
       "      <td>5</td>\n",
       "      <td>Classy product</td>\n",
       "      <td>Excellent basic phone, with dual SIM, 8 GB exp...</td>\n",
       "      <td>Mobile</td>\n",
       "    </tr>\n",
       "    <tr>\n",
       "      <th>3</th>\n",
       "      <td>5</td>\n",
       "      <td></td>\n",
       "      <td>I bought this phone for my mother and i found ...</td>\n",
       "      <td>Mobile</td>\n",
       "    </tr>\n",
       "    <tr>\n",
       "      <th>4</th>\n",
       "      <td>4</td>\n",
       "      <td>Really good basic GSM mobile phone.... :-)</td>\n",
       "      <td>On the whole it is a really good phone.\\nPros ...</td>\n",
       "      <td>Mobile</td>\n",
       "    </tr>\n",
       "  </tbody>\n",
       "</table>\n",
       "</div>"
      ],
      "text/plain": [
       "   Ratings                                     Summary  \\\n",
       "0        5                               Great product   \n",
       "1        4                                 Good choice   \n",
       "2        5                              Classy product   \n",
       "3        5                                               \n",
       "4        4  Really good basic GSM mobile phone.... :-)   \n",
       "\n",
       "                                              Review Product  \n",
       "0  This is a brilliant choice if you are looking ...  Mobile  \n",
       "1  Light weight, very compact, stylish. keypad is...  Mobile  \n",
       "2  Excellent basic phone, with dual SIM, 8 GB exp...  Mobile  \n",
       "3  I bought this phone for my mother and i found ...  Mobile  \n",
       "4  On the whole it is a really good phone.\\nPros ...  Mobile  "
      ]
     },
     "execution_count": 388,
     "metadata": {},
     "output_type": "execute_result"
    }
   ],
   "source": [
    "df_phone_5.head()"
   ]
  },
  {
   "cell_type": "code",
   "execution_count": 389,
   "id": "6154b0b3",
   "metadata": {},
   "outputs": [
    {
     "data": {
      "text/plain": [
       "1    160\n",
       "2    160\n",
       "3    160\n",
       "4    160\n",
       "5    160\n",
       "Name: Ratings, dtype: int64"
      ]
     },
     "execution_count": 389,
     "metadata": {},
     "output_type": "execute_result"
    }
   ],
   "source": [
    "#we have 160 values for all ratings\n",
    "df_phone_5['Ratings'].value_counts()"
   ]
  },
  {
   "cell_type": "code",
   "execution_count": 390,
   "id": "385fb515",
   "metadata": {},
   "outputs": [],
   "source": [
    "df_phone_5.to_csv(\"df_phone_5.csv\")"
   ]
  },
  {
   "cell_type": "code",
   "execution_count": 391,
   "id": "1277d18d",
   "metadata": {},
   "outputs": [],
   "source": [
    "Rating_list = []\n",
    "summary_list = []\n",
    "review_list = []\n",
    "product_list = []\n",
    "\n",
    "\n",
    "driver = webdriver.Chrome('chromedriver.exe')\n",
    "url = \"https://www.flipkart.com/zebronics-bt4440-rucf-60-watt-bluetooth-home-theatre/p/itm64f4909b3a65a?pid=ACCEA25DZGJUCYYH&lid=LSTACCEA25DZGJUCYYHGWTIFY&marketplace=FLIPKART&q=home+teater&store=0pm%2F0o7&srno=s_1_3&otracker=AS_Query_OrganicAutoSuggest_2_9_na_na_na&otracker1=AS_Query_OrganicAutoSuggest_2_9_na_na_na&fm=SEARCH&iid=82e5db29-f315-412c-b364-e3905f40494e.ACCEA25DZGJUCYYH.SEARCH&ppt=sp&ppn=sp&ssid=6gvotxxyz40000001627413018432&qH=788557a6a62e615d\"\n",
    "driver.get(url)\n",
    "WebDriverWait(driver,delay).until(EC.presence_of_element_located((By.CLASS_NAME,'_3HKIdy')))\n",
    "All_reviews = driver.find_element_by_xpath(\"//div[@class='_3UAT2v _16PBlm']/span\")\n",
    "All_reviews.click()\n",
    "\n",
    "while len(Rating_list) < 800:\n",
    "\n",
    "\n",
    "    try:\n",
    "        delay = 6\n",
    "        WebDriverWait(driver,delay).until(EC.presence_of_element_located((By.CLASS_NAME,'_1LKTO3')))\n",
    "\n",
    "        review_cell = driver.find_elements_by_xpath(\"//div[@class='col _2wzgFH K0kLPL']\")\n",
    "        for i in review_cell:\n",
    "            rating = i.find_element_by_xpath(\"div[1]/div\")\n",
    "            rating = int(float(rating.text))\n",
    "            if Rating_list.count(rating) < 160:\n",
    "                Rating_list.append(rating)\n",
    "                summary = i.find_element_by_xpath(\"div[1]/p\")\n",
    "                summary_list.append(summary.text)\n",
    "                full_review = i.find_element_by_xpath(\"div[2]/div\")\n",
    "                review_list.append(full_review.text)\n",
    "                #product_list.append('Mobile')\n",
    "\n",
    "    except:\n",
    "        driver.back()\n",
    "\n",
    "    Next_button = driver.find_elements_by_xpath(\"//a[@class ='_1LKTO3']\")   \n",
    "\n",
    "    for i in Next_button:\n",
    "        if i.text == 'NEXT' or i.text == 'Next':\n",
    "            driver.get(i.get_attribute('href'))"
   ]
  },
  {
   "cell_type": "code",
   "execution_count": 392,
   "id": "ff5c2ac4",
   "metadata": {},
   "outputs": [],
   "source": [
    "#scraped 800 ratings of phone\n",
    "df_Home_teatre = pd.DataFrame({'Ratings':Rating_list,'Summary':summary_list,'Review':review_list,'Product':'Home Teatre'})"
   ]
  },
  {
   "cell_type": "code",
   "execution_count": 393,
   "id": "990b4b1d",
   "metadata": {},
   "outputs": [
    {
     "data": {
      "text/html": [
       "<div>\n",
       "<style scoped>\n",
       "    .dataframe tbody tr th:only-of-type {\n",
       "        vertical-align: middle;\n",
       "    }\n",
       "\n",
       "    .dataframe tbody tr th {\n",
       "        vertical-align: top;\n",
       "    }\n",
       "\n",
       "    .dataframe thead th {\n",
       "        text-align: right;\n",
       "    }\n",
       "</style>\n",
       "<table border=\"1\" class=\"dataframe\">\n",
       "  <thead>\n",
       "    <tr style=\"text-align: right;\">\n",
       "      <th></th>\n",
       "      <th>Ratings</th>\n",
       "      <th>Summary</th>\n",
       "      <th>Review</th>\n",
       "      <th>Product</th>\n",
       "    </tr>\n",
       "  </thead>\n",
       "  <tbody>\n",
       "    <tr>\n",
       "      <th>0</th>\n",
       "      <td>5</td>\n",
       "      <td>Awesome</td>\n",
       "      <td>the best product in low price osm the sound qu...</td>\n",
       "      <td>Home Teatre</td>\n",
       "    </tr>\n",
       "    <tr>\n",
       "      <th>1</th>\n",
       "      <td>5</td>\n",
       "      <td>Mind-blowing purchase</td>\n",
       "      <td>excellent product it's wark super just go this...</td>\n",
       "      <td>Home Teatre</td>\n",
       "    </tr>\n",
       "    <tr>\n",
       "      <th>2</th>\n",
       "      <td>5</td>\n",
       "      <td>Perfect product!</td>\n",
       "      <td>Awesome clear sound,smooth bass.easy to use.ye...</td>\n",
       "      <td>Home Teatre</td>\n",
       "    </tr>\n",
       "    <tr>\n",
       "      <th>3</th>\n",
       "      <td>4</td>\n",
       "      <td>Delightful</td>\n",
       "      <td>These are the best and the most affordable hom...</td>\n",
       "      <td>Home Teatre</td>\n",
       "    </tr>\n",
       "    <tr>\n",
       "      <th>4</th>\n",
       "      <td>5</td>\n",
       "      <td>Shiny thing that catches your eyes</td>\n",
       "      <td>4.1 Speaker are amazing as always, its the Blu...</td>\n",
       "      <td>Home Teatre</td>\n",
       "    </tr>\n",
       "  </tbody>\n",
       "</table>\n",
       "</div>"
      ],
      "text/plain": [
       "   Ratings                             Summary  \\\n",
       "0        5                             Awesome   \n",
       "1        5               Mind-blowing purchase   \n",
       "2        5                    Perfect product!   \n",
       "3        4                          Delightful   \n",
       "4        5  Shiny thing that catches your eyes   \n",
       "\n",
       "                                              Review      Product  \n",
       "0  the best product in low price osm the sound qu...  Home Teatre  \n",
       "1  excellent product it's wark super just go this...  Home Teatre  \n",
       "2  Awesome clear sound,smooth bass.easy to use.ye...  Home Teatre  \n",
       "3  These are the best and the most affordable hom...  Home Teatre  \n",
       "4  4.1 Speaker are amazing as always, its the Blu...  Home Teatre  "
      ]
     },
     "execution_count": 393,
     "metadata": {},
     "output_type": "execute_result"
    }
   ],
   "source": [
    "df_Home_teatre.head()"
   ]
  },
  {
   "cell_type": "code",
   "execution_count": 394,
   "id": "b68889f6",
   "metadata": {},
   "outputs": [
    {
     "data": {
      "text/plain": [
       "1    160\n",
       "2    160\n",
       "3    160\n",
       "4    160\n",
       "5    160\n",
       "Name: Ratings, dtype: int64"
      ]
     },
     "execution_count": 394,
     "metadata": {},
     "output_type": "execute_result"
    }
   ],
   "source": [
    "#we have 160 values for all ratings\n",
    "df_Home_teatre['Ratings'].value_counts()"
   ]
  },
  {
   "cell_type": "code",
   "execution_count": 395,
   "id": "718dff57",
   "metadata": {},
   "outputs": [],
   "source": [
    "df_Home_teatre.to_csv(\"df_Home_teatre.csv\")"
   ]
  },
  {
   "cell_type": "code",
   "execution_count": 396,
   "id": "2f4585d2",
   "metadata": {},
   "outputs": [],
   "source": [
    "Rating_list = []\n",
    "summary_list = []\n",
    "review_list = []\n",
    "product_list = []\n",
    "\n",
    "\n",
    "driver = webdriver.Chrome('chromedriver.exe')\n",
    "url = \"https://www.flipkart.com/boat-airdopes-131-bluetooth-headset/p/itmce34ba16c3b60?pid=ACCG48F2SGVM72HN&lid=LSTACCG48F2SGVM72HNEFORIB&marketplace=FLIPKART&q=ear+phones&store=0pm%2Ffcn&srno=s_1_3&otracker=search&otracker1=search&fm=SEARCH&iid=cbd1327f-94d5-4e6c-86a6-4d52c9331591.ACCG48F2SGVM72HN.SEARCH&ppt=sp&ppn=sp&ssid=pbquc45eqo0000001627414711893&qH=cc10a3085fee635c\"\n",
    "driver.get(url)\n",
    "WebDriverWait(driver,delay).until(EC.presence_of_element_located((By.CLASS_NAME,'_3HKIdy')))\n",
    "All_reviews = driver.find_element_by_xpath(\"//div[@class='_3UAT2v _16PBlm']/span\")\n",
    "All_reviews.click()\n",
    "\n",
    "while len(Rating_list) < 800:\n",
    "\n",
    "\n",
    "    try:\n",
    "        delay = 6\n",
    "        WebDriverWait(driver,delay).until(EC.presence_of_element_located((By.CLASS_NAME,'_1LKTO3')))\n",
    "\n",
    "        review_cell = driver.find_elements_by_xpath(\"//div[@class='col _2wzgFH K0kLPL']\")\n",
    "        for i in review_cell:\n",
    "            rating = i.find_element_by_xpath(\"div[1]/div\")\n",
    "            rating = int(float(rating.text))\n",
    "            if Rating_list.count(rating) < 160:\n",
    "                Rating_list.append(rating)\n",
    "                summary = i.find_element_by_xpath(\"div[1]/p\")\n",
    "                summary_list.append(summary.text)\n",
    "                full_review = i.find_element_by_xpath(\"div[2]/div\")\n",
    "                review_list.append(full_review.text)\n",
    "                #product_list.append('Mobile')\n",
    "\n",
    "    except:\n",
    "        driver.back()\n",
    "\n",
    "    Next_button = driver.find_elements_by_xpath(\"//a[@class ='_1LKTO3']\")   \n",
    "\n",
    "    for i in Next_button:\n",
    "        if i.text == 'NEXT' or i.text == 'Next':\n",
    "            driver.get(i.get_attribute('href'))"
   ]
  },
  {
   "cell_type": "code",
   "execution_count": 397,
   "id": "bdf60079",
   "metadata": {},
   "outputs": [],
   "source": [
    "#scraped 800 ratings of Air pods\n",
    "df_Air_Pods = pd.DataFrame({'Ratings':Rating_list,'Summary':summary_list,'Review':review_list,'Product':'Air Pods'})"
   ]
  },
  {
   "cell_type": "code",
   "execution_count": 398,
   "id": "7d54321d",
   "metadata": {},
   "outputs": [
    {
     "data": {
      "text/html": [
       "<div>\n",
       "<style scoped>\n",
       "    .dataframe tbody tr th:only-of-type {\n",
       "        vertical-align: middle;\n",
       "    }\n",
       "\n",
       "    .dataframe tbody tr th {\n",
       "        vertical-align: top;\n",
       "    }\n",
       "\n",
       "    .dataframe thead th {\n",
       "        text-align: right;\n",
       "    }\n",
       "</style>\n",
       "<table border=\"1\" class=\"dataframe\">\n",
       "  <thead>\n",
       "    <tr style=\"text-align: right;\">\n",
       "      <th></th>\n",
       "      <th>Ratings</th>\n",
       "      <th>Summary</th>\n",
       "      <th>Review</th>\n",
       "      <th>Product</th>\n",
       "    </tr>\n",
       "  </thead>\n",
       "  <tbody>\n",
       "    <tr>\n",
       "      <th>0</th>\n",
       "      <td>5</td>\n",
       "      <td>Mind-blowing purchase</td>\n",
       "      <td>I hope you guys find this review helpful, well...</td>\n",
       "      <td>Air Pods</td>\n",
       "    </tr>\n",
       "    <tr>\n",
       "      <th>1</th>\n",
       "      <td>5</td>\n",
       "      <td>Brilliant</td>\n",
       "      <td>(1) Worth of the money 💰\\n(2) Nice design &amp; co...</td>\n",
       "      <td>Air Pods</td>\n",
       "    </tr>\n",
       "    <tr>\n",
       "      <th>2</th>\n",
       "      <td>5</td>\n",
       "      <td>Wonderful</td>\n",
       "      <td>Best product you can buy in this price range. ...</td>\n",
       "      <td>Air Pods</td>\n",
       "    </tr>\n",
       "    <tr>\n",
       "      <th>3</th>\n",
       "      <td>4</td>\n",
       "      <td>Nice product</td>\n",
       "      <td>Very good option at this price\\nPros: Build qu...</td>\n",
       "      <td>Air Pods</td>\n",
       "    </tr>\n",
       "    <tr>\n",
       "      <th>4</th>\n",
       "      <td>5</td>\n",
       "      <td>Highly recommended</td>\n",
       "      <td>Worth a single penny 👍👍, big thumbs up.\\n\\nI a...</td>\n",
       "      <td>Air Pods</td>\n",
       "    </tr>\n",
       "  </tbody>\n",
       "</table>\n",
       "</div>"
      ],
      "text/plain": [
       "   Ratings                Summary  \\\n",
       "0        5  Mind-blowing purchase   \n",
       "1        5              Brilliant   \n",
       "2        5              Wonderful   \n",
       "3        4           Nice product   \n",
       "4        5     Highly recommended   \n",
       "\n",
       "                                              Review   Product  \n",
       "0  I hope you guys find this review helpful, well...  Air Pods  \n",
       "1  (1) Worth of the money 💰\\n(2) Nice design & co...  Air Pods  \n",
       "2  Best product you can buy in this price range. ...  Air Pods  \n",
       "3  Very good option at this price\\nPros: Build qu...  Air Pods  \n",
       "4  Worth a single penny 👍👍, big thumbs up.\\n\\nI a...  Air Pods  "
      ]
     },
     "execution_count": 398,
     "metadata": {},
     "output_type": "execute_result"
    }
   ],
   "source": [
    "df_Air_Pods.head()"
   ]
  },
  {
   "cell_type": "code",
   "execution_count": 399,
   "id": "abb991fe",
   "metadata": {},
   "outputs": [
    {
     "data": {
      "text/plain": [
       "1    160\n",
       "2    160\n",
       "3    160\n",
       "4    160\n",
       "5    160\n",
       "Name: Ratings, dtype: int64"
      ]
     },
     "execution_count": 399,
     "metadata": {},
     "output_type": "execute_result"
    }
   ],
   "source": [
    "#we have 160 values for all ratings\n",
    "df_Air_Pods['Ratings'].value_counts()"
   ]
  },
  {
   "cell_type": "code",
   "execution_count": 400,
   "id": "053e4b42",
   "metadata": {},
   "outputs": [],
   "source": [
    "df_Air_Pods.to_csv(\"df_Air_Pods.csv\")"
   ]
  },
  {
   "cell_type": "code",
   "execution_count": 401,
   "id": "7dab91e6",
   "metadata": {},
   "outputs": [],
   "source": [
    "Rating_list = []\n",
    "summary_list = []\n",
    "review_list = []\n",
    "product_list = []\n",
    "\n",
    "\n",
    "driver = webdriver.Chrome('chromedriver.exe')\n",
    "url = \"https://www.flipkart.com/realme-fashion-watch/p/itm46dd62c0398fc?pid=SMWFSRYZSJJSVSCH&lid=LSTSMWFSRYZSJJSVSCH3IBDPM&marketplace=FLIPKART&q=smart+watch&store=ajy%2Fbuh&srno=s_1_14&otracker=search&otracker1=search&fm=SEARCH&iid=d98f776e-5c80-45cd-99b7-363f6aa8f9e0.SMWFSRYZSJJSVSCH.SEARCH&ppt=sp&ppn=sp&ssid=gn0a2dg8v40000001627417677928&qH=acc05e33fb140cc4\"\n",
    "driver.get(url)\n",
    "WebDriverWait(driver,delay).until(EC.presence_of_element_located((By.CLASS_NAME,'_3HKIdy')))\n",
    "All_reviews = driver.find_element_by_xpath(\"//div[@class='_3UAT2v _16PBlm']/span\")\n",
    "All_reviews.click()\n",
    "\n",
    "while len(Rating_list) < 800:\n",
    "\n",
    "\n",
    "    try:\n",
    "        delay = 6\n",
    "        WebDriverWait(driver,delay).until(EC.presence_of_element_located((By.CLASS_NAME,'_1LKTO3')))\n",
    "\n",
    "        review_cell = driver.find_elements_by_xpath(\"//div[@class='col _2wzgFH K0kLPL']\")\n",
    "        for i in review_cell:\n",
    "            rating = i.find_element_by_xpath(\"div[1]/div\")\n",
    "            rating = int(float(rating.text))\n",
    "            if Rating_list.count(rating) < 160:\n",
    "                Rating_list.append(rating)\n",
    "                summary = i.find_element_by_xpath(\"div[1]/p\")\n",
    "                summary_list.append(summary.text)\n",
    "                full_review = i.find_element_by_xpath(\"div[2]/div\")\n",
    "                review_list.append(full_review.text)\n",
    "                #product_list.append('Mobile')\n",
    "\n",
    "    except:\n",
    "        driver.back()\n",
    "\n",
    "    Next_button = driver.find_elements_by_xpath(\"//a[@class ='_1LKTO3']\")   \n",
    "\n",
    "    for i in Next_button:\n",
    "        if i.text == 'NEXT' or i.text == 'Next':\n",
    "            driver.get(i.get_attribute('href'))"
   ]
  },
  {
   "cell_type": "code",
   "execution_count": 402,
   "id": "b9aaa738",
   "metadata": {},
   "outputs": [],
   "source": [
    "#scraped 800 ratings of Air pods\n",
    "df_watch2 = pd.DataFrame({'Ratings':Rating_list,'Summary':summary_list,'Review':review_list,'Product':'Smart Watch'})"
   ]
  },
  {
   "cell_type": "code",
   "execution_count": 404,
   "id": "ebbcbf50",
   "metadata": {},
   "outputs": [
    {
     "data": {
      "text/html": [
       "<div>\n",
       "<style scoped>\n",
       "    .dataframe tbody tr th:only-of-type {\n",
       "        vertical-align: middle;\n",
       "    }\n",
       "\n",
       "    .dataframe tbody tr th {\n",
       "        vertical-align: top;\n",
       "    }\n",
       "\n",
       "    .dataframe thead th {\n",
       "        text-align: right;\n",
       "    }\n",
       "</style>\n",
       "<table border=\"1\" class=\"dataframe\">\n",
       "  <thead>\n",
       "    <tr style=\"text-align: right;\">\n",
       "      <th></th>\n",
       "      <th>Ratings</th>\n",
       "      <th>Summary</th>\n",
       "      <th>Review</th>\n",
       "      <th>Product</th>\n",
       "    </tr>\n",
       "  </thead>\n",
       "  <tbody>\n",
       "    <tr>\n",
       "      <th>0</th>\n",
       "      <td>4</td>\n",
       "      <td>Wonderful</td>\n",
       "      <td>Have a Doubt ??? Don't be confused ! Here is m...</td>\n",
       "      <td>Smart Watch</td>\n",
       "    </tr>\n",
       "    <tr>\n",
       "      <th>1</th>\n",
       "      <td>5</td>\n",
       "      <td>Super!</td>\n",
       "      <td>Awesome Smart watch in this price range.it com...</td>\n",
       "      <td>Smart Watch</td>\n",
       "    </tr>\n",
       "    <tr>\n",
       "      <th>2</th>\n",
       "      <td>5</td>\n",
       "      <td>Just wow!</td>\n",
       "      <td>VALUE FOR MONEY\\n\\n\\nA perfect smart watch at ...</td>\n",
       "      <td>Smart Watch</td>\n",
       "    </tr>\n",
       "    <tr>\n",
       "      <th>3</th>\n",
       "      <td>4</td>\n",
       "      <td>Really Nice</td>\n",
       "      <td>After 1 week of usage here are the Pros &amp; Cons...</td>\n",
       "      <td>Smart Watch</td>\n",
       "    </tr>\n",
       "    <tr>\n",
       "      <th>4</th>\n",
       "      <td>4</td>\n",
       "      <td>Value-for-money</td>\n",
       "      <td>Best in class:_\\nPros-\\n1. Good build quality ...</td>\n",
       "      <td>Smart Watch</td>\n",
       "    </tr>\n",
       "  </tbody>\n",
       "</table>\n",
       "</div>"
      ],
      "text/plain": [
       "   Ratings          Summary  \\\n",
       "0        4        Wonderful   \n",
       "1        5           Super!   \n",
       "2        5        Just wow!   \n",
       "3        4      Really Nice   \n",
       "4        4  Value-for-money   \n",
       "\n",
       "                                              Review      Product  \n",
       "0  Have a Doubt ??? Don't be confused ! Here is m...  Smart Watch  \n",
       "1  Awesome Smart watch in this price range.it com...  Smart Watch  \n",
       "2  VALUE FOR MONEY\\n\\n\\nA perfect smart watch at ...  Smart Watch  \n",
       "3  After 1 week of usage here are the Pros & Cons...  Smart Watch  \n",
       "4  Best in class:_\\nPros-\\n1. Good build quality ...  Smart Watch  "
      ]
     },
     "execution_count": 404,
     "metadata": {},
     "output_type": "execute_result"
    }
   ],
   "source": [
    "df_watch2.head()"
   ]
  },
  {
   "cell_type": "code",
   "execution_count": 406,
   "id": "63fe524b",
   "metadata": {},
   "outputs": [
    {
     "data": {
      "text/plain": [
       "1    160\n",
       "2    160\n",
       "3    160\n",
       "4    160\n",
       "5    160\n",
       "Name: Ratings, dtype: int64"
      ]
     },
     "execution_count": 406,
     "metadata": {},
     "output_type": "execute_result"
    }
   ],
   "source": [
    "#we have 160 values for all ratings\n",
    "df_watch2['Ratings'].value_counts()"
   ]
  },
  {
   "cell_type": "code",
   "execution_count": 407,
   "id": "e5449394",
   "metadata": {},
   "outputs": [],
   "source": [
    "df_watch2.to_csv(\"df_watch2.csv\")"
   ]
  },
  {
   "cell_type": "code",
   "execution_count": 408,
   "id": "431f9d71",
   "metadata": {},
   "outputs": [],
   "source": [
    "Rating_list = []\n",
    "summary_list = []\n",
    "review_list = []\n",
    "product_list = []\n",
    "\n",
    "\n",
    "driver = webdriver.Chrome('chromedriver.exe')\n",
    "url = \"https://www.flipkart.com/asus-zenfone-max-pro-m1-grey-64-gb/p/itmf79gxzkfg7tqk?pid=MOBF4UQ9KTEQKQZE&lid=LSTMOBF4UQ9KTEQKQZEZ97O9Q&marketplace=FLIPKART&q=asus+zenfone&store=tyy%2F4io&srno=s_1_19&otracker=search&otracker1=search&fm=SEARCH&iid=3a77a4ea-16c3-41f0-95d7-0de0dd4a4b7a.MOBF4UQ9KTEQKQZE.SEARCH&ppt=sp&ppn=sp&ssid=lpdq9460g00000001627417917919&qH=0cd06db34fd5061b\"\n",
    "driver.get(url)\n",
    "WebDriverWait(driver,delay).until(EC.presence_of_element_located((By.CLASS_NAME,'_3HKIdy')))\n",
    "All_reviews = driver.find_element_by_xpath(\"//div[@class='_3UAT2v _16PBlm']/span\")\n",
    "All_reviews.click()\n",
    "\n",
    "while len(Rating_list) < 800:\n",
    "\n",
    "\n",
    "    try:\n",
    "        delay = 6\n",
    "        WebDriverWait(driver,delay).until(EC.presence_of_element_located((By.CLASS_NAME,'_1LKTO3')))\n",
    "\n",
    "        review_cell = driver.find_elements_by_xpath(\"//div[@class='col _2wzgFH K0kLPL']\")\n",
    "        for i in review_cell:\n",
    "            rating = i.find_element_by_xpath(\"div[1]/div\")\n",
    "            rating = int(float(rating.text))\n",
    "            if Rating_list.count(rating) < 160:\n",
    "                Rating_list.append(rating)\n",
    "                summary = i.find_element_by_xpath(\"div[1]/p\")\n",
    "                summary_list.append(summary.text)\n",
    "                full_review = i.find_element_by_xpath(\"div[2]/div\")\n",
    "                review_list.append(full_review.text)\n",
    "                #product_list.append('Mobile')\n",
    "\n",
    "    except:\n",
    "        driver.back()\n",
    "\n",
    "    Next_button = driver.find_elements_by_xpath(\"//a[@class ='_1LKTO3']\")   \n",
    "\n",
    "    for i in Next_button:\n",
    "        if i.text == 'NEXT' or i.text == 'Next':\n",
    "            driver.get(i.get_attribute('href'))"
   ]
  },
  {
   "cell_type": "code",
   "execution_count": 409,
   "id": "6cc5e7c7",
   "metadata": {},
   "outputs": [],
   "source": [
    "#scraped 800 ratings of phone. 160 for each ratings\n",
    "df_phone_11 = pd.DataFrame({'Ratings':Rating_list,'Summary':summary_list,'Review':review_list,'Product':'Mobile'})"
   ]
  },
  {
   "cell_type": "code",
   "execution_count": 410,
   "id": "dce7e786",
   "metadata": {},
   "outputs": [
    {
     "data": {
      "text/html": [
       "<div>\n",
       "<style scoped>\n",
       "    .dataframe tbody tr th:only-of-type {\n",
       "        vertical-align: middle;\n",
       "    }\n",
       "\n",
       "    .dataframe tbody tr th {\n",
       "        vertical-align: top;\n",
       "    }\n",
       "\n",
       "    .dataframe thead th {\n",
       "        text-align: right;\n",
       "    }\n",
       "</style>\n",
       "<table border=\"1\" class=\"dataframe\">\n",
       "  <thead>\n",
       "    <tr style=\"text-align: right;\">\n",
       "      <th></th>\n",
       "      <th>Ratings</th>\n",
       "      <th>Summary</th>\n",
       "      <th>Review</th>\n",
       "      <th>Product</th>\n",
       "    </tr>\n",
       "  </thead>\n",
       "  <tbody>\n",
       "    <tr>\n",
       "      <th>0</th>\n",
       "      <td>5</td>\n",
       "      <td>Terrific</td>\n",
       "      <td>Firstly thanks to Flipkart for fastest deliver...</td>\n",
       "      <td>Mobile</td>\n",
       "    </tr>\n",
       "    <tr>\n",
       "      <th>1</th>\n",
       "      <td>5</td>\n",
       "      <td>Simply awesome</td>\n",
       "      <td>Value for each penny spend 👍\\n\\n1) Liked the n...</td>\n",
       "      <td>Mobile</td>\n",
       "    </tr>\n",
       "    <tr>\n",
       "      <th>2</th>\n",
       "      <td>5</td>\n",
       "      <td>Terrific</td>\n",
       "      <td>HONEST COMPARISON WITH REDMI NOTE 5 PRO:-\\nI h...</td>\n",
       "      <td>Mobile</td>\n",
       "    </tr>\n",
       "    <tr>\n",
       "      <th>3</th>\n",
       "      <td>5</td>\n",
       "      <td>Simply awesome</td>\n",
       "      <td>Hello, firstly I want to mention that my last ...</td>\n",
       "      <td>Mobile</td>\n",
       "    </tr>\n",
       "    <tr>\n",
       "      <th>4</th>\n",
       "      <td>5</td>\n",
       "      <td>Terrific purchase</td>\n",
       "      <td>The phone is too good. Getting these specifica...</td>\n",
       "      <td>Mobile</td>\n",
       "    </tr>\n",
       "  </tbody>\n",
       "</table>\n",
       "</div>"
      ],
      "text/plain": [
       "   Ratings            Summary  \\\n",
       "0        5           Terrific   \n",
       "1        5     Simply awesome   \n",
       "2        5           Terrific   \n",
       "3        5     Simply awesome   \n",
       "4        5  Terrific purchase   \n",
       "\n",
       "                                              Review Product  \n",
       "0  Firstly thanks to Flipkart for fastest deliver...  Mobile  \n",
       "1  Value for each penny spend 👍\\n\\n1) Liked the n...  Mobile  \n",
       "2  HONEST COMPARISON WITH REDMI NOTE 5 PRO:-\\nI h...  Mobile  \n",
       "3  Hello, firstly I want to mention that my last ...  Mobile  \n",
       "4  The phone is too good. Getting these specifica...  Mobile  "
      ]
     },
     "execution_count": 410,
     "metadata": {},
     "output_type": "execute_result"
    }
   ],
   "source": [
    "df_phone_11.head()"
   ]
  },
  {
   "cell_type": "code",
   "execution_count": 411,
   "id": "faa8d6de",
   "metadata": {},
   "outputs": [
    {
     "data": {
      "text/plain": [
       "1    160\n",
       "2    160\n",
       "3    160\n",
       "4    160\n",
       "5    160\n",
       "Name: Ratings, dtype: int64"
      ]
     },
     "execution_count": 411,
     "metadata": {},
     "output_type": "execute_result"
    }
   ],
   "source": [
    "#we have 160 values for all ratings\n",
    "df_phone_11['Ratings'].value_counts()"
   ]
  },
  {
   "cell_type": "code",
   "execution_count": 412,
   "id": "1ead3320",
   "metadata": {},
   "outputs": [],
   "source": [
    "df_phone_11.to_csv(\"df_phone_11.csv\")"
   ]
  },
  {
   "cell_type": "code",
   "execution_count": null,
   "id": "a36216bc",
   "metadata": {},
   "outputs": [],
   "source": [
    "Rating_list = []\n",
    "summary_list = []\n",
    "review_list = []\n",
    "product_list = []\n",
    "\n",
    "\n",
    "driver = webdriver.Chrome('chromedriver.exe')\n",
    "url = \"https://www.flipkart.com/apple-iphone-11-black-64-gb/p/itm4e5041ba101fd?pid=MOBFWQ6BXGJCEYNY&lid=LSTMOBFWQ6BXGJCEYNYZXSHRJ&marketplace=FLIPKART&q=iphone+11&store=tyy%2F4io&srno=s_1_1&otracker=AS_QueryStore_OrganicAutoSuggest_1_7_na_na_ps&otracker1=AS_QueryStore_OrganicAutoSuggest_1_7_na_na_ps&fm=SEARCH&iid=ea879a6d-50f1-4d75-85fa-94d18b054a9a.MOBFWQ6BXGJCEYNY.SEARCH&ppt=sp&ppn=sp&ssid=os1jwmwh3k0000001627418438695&qH=f6cdfdaa9f3c23f3\"\n",
    "driver.get(url)\n",
    "WebDriverWait(driver,delay).until(EC.presence_of_element_located((By.CLASS_NAME,'_3HKIdy')))\n",
    "All_reviews = driver.find_element_by_xpath(\"//div[@class='_3UAT2v _16PBlm']/span\")\n",
    "All_reviews.click()\n",
    "\n",
    "while len(Rating_list) < 800:\n",
    "\n",
    "\n",
    "    try:\n",
    "        delay = 6\n",
    "        WebDriverWait(driver,delay).until(EC.presence_of_element_located((By.CLASS_NAME,'_1LKTO3')))\n",
    "\n",
    "        review_cell = driver.find_elements_by_xpath(\"//div[@class='col _2wzgFH K0kLPL']\")\n",
    "        for i in review_cell:\n",
    "            rating = i.find_element_by_xpath(\"div[1]/div\")\n",
    "            rating = int(float(rating.text))\n",
    "            if Rating_list.count(rating) < 160:\n",
    "                Rating_list.append(rating)\n",
    "                summary = i.find_element_by_xpath(\"div[1]/p\")\n",
    "                summary_list.append(summary.text)\n",
    "                full_review = i.find_element_by_xpath(\"div[2]/div\")\n",
    "                review_list.append(full_review.text)\n",
    "                #product_list.append('Mobile')\n",
    "\n",
    "    except:\n",
    "        driver.back()\n",
    "\n",
    "    Next_button = driver.find_elements_by_xpath(\"//a[@class ='_1LKTO3']\")   \n",
    "\n",
    "    for i in Next_button:\n",
    "        if i.text == 'NEXT' or i.text == 'Next':\n",
    "            driver.get(i.get_attribute('href'))"
   ]
  },
  {
   "cell_type": "code",
   "execution_count": 414,
   "id": "e3f0bd8e",
   "metadata": {},
   "outputs": [],
   "source": [
    "#scraped 800 ratings of phone. 160 for each ratings\n",
    "df_phone_12 = pd.DataFrame({'Ratings':Rating_list,'Summary':summary_list,'Review':review_list,'Product':'Mobile'})"
   ]
  },
  {
   "cell_type": "code",
   "execution_count": 415,
   "id": "0b668954",
   "metadata": {},
   "outputs": [
    {
     "data": {
      "text/html": [
       "<div>\n",
       "<style scoped>\n",
       "    .dataframe tbody tr th:only-of-type {\n",
       "        vertical-align: middle;\n",
       "    }\n",
       "\n",
       "    .dataframe tbody tr th {\n",
       "        vertical-align: top;\n",
       "    }\n",
       "\n",
       "    .dataframe thead th {\n",
       "        text-align: right;\n",
       "    }\n",
       "</style>\n",
       "<table border=\"1\" class=\"dataframe\">\n",
       "  <thead>\n",
       "    <tr style=\"text-align: right;\">\n",
       "      <th></th>\n",
       "      <th>Ratings</th>\n",
       "      <th>Summary</th>\n",
       "      <th>Review</th>\n",
       "      <th>Product</th>\n",
       "    </tr>\n",
       "  </thead>\n",
       "  <tbody>\n",
       "    <tr>\n",
       "      <th>0</th>\n",
       "      <td>5</td>\n",
       "      <td>Simply awesome</td>\n",
       "      <td>Really satisfied with the Product I received.....</td>\n",
       "      <td>Mobile</td>\n",
       "    </tr>\n",
       "    <tr>\n",
       "      <th>1</th>\n",
       "      <td>5</td>\n",
       "      <td>Brilliant</td>\n",
       "      <td>The Best Phone for the Money\\n\\nThe iPhone 11 ...</td>\n",
       "      <td>Mobile</td>\n",
       "    </tr>\n",
       "    <tr>\n",
       "      <th>2</th>\n",
       "      <td>5</td>\n",
       "      <td>Fabulous!</td>\n",
       "      <td>This is my first iOS phone. I am very happy wi...</td>\n",
       "      <td>Mobile</td>\n",
       "    </tr>\n",
       "    <tr>\n",
       "      <th>3</th>\n",
       "      <td>5</td>\n",
       "      <td>Perfect product!</td>\n",
       "      <td>Amazing phone with great cameras and better ba...</td>\n",
       "      <td>Mobile</td>\n",
       "    </tr>\n",
       "    <tr>\n",
       "      <th>4</th>\n",
       "      <td>5</td>\n",
       "      <td>Worth every penny</td>\n",
       "      <td>Previously I was using one plus 3t it was a gr...</td>\n",
       "      <td>Mobile</td>\n",
       "    </tr>\n",
       "  </tbody>\n",
       "</table>\n",
       "</div>"
      ],
      "text/plain": [
       "   Ratings            Summary  \\\n",
       "0        5     Simply awesome   \n",
       "1        5          Brilliant   \n",
       "2        5          Fabulous!   \n",
       "3        5   Perfect product!   \n",
       "4        5  Worth every penny   \n",
       "\n",
       "                                              Review Product  \n",
       "0  Really satisfied with the Product I received.....  Mobile  \n",
       "1  The Best Phone for the Money\\n\\nThe iPhone 11 ...  Mobile  \n",
       "2  This is my first iOS phone. I am very happy wi...  Mobile  \n",
       "3  Amazing phone with great cameras and better ba...  Mobile  \n",
       "4  Previously I was using one plus 3t it was a gr...  Mobile  "
      ]
     },
     "execution_count": 415,
     "metadata": {},
     "output_type": "execute_result"
    }
   ],
   "source": [
    "df_phone_12.head()"
   ]
  },
  {
   "cell_type": "code",
   "execution_count": 416,
   "id": "30a6864d",
   "metadata": {},
   "outputs": [
    {
     "data": {
      "text/plain": [
       "1    160\n",
       "3    160\n",
       "4    160\n",
       "5    160\n",
       "2     55\n",
       "Name: Ratings, dtype: int64"
      ]
     },
     "execution_count": 416,
     "metadata": {},
     "output_type": "execute_result"
    }
   ],
   "source": [
    "#we have 160 values for all ratings\n",
    "df_phone_12['Ratings'].value_counts()"
   ]
  },
  {
   "cell_type": "code",
   "execution_count": 417,
   "id": "3f1ca6b2",
   "metadata": {},
   "outputs": [],
   "source": [
    "df_phone_12.to_csv(\"df_phone_12.csv\")"
   ]
  },
  {
   "cell_type": "code",
   "execution_count": 418,
   "id": "0ca242b6",
   "metadata": {},
   "outputs": [],
   "source": [
    "Rating_list = []\n",
    "summary_list = []\n",
    "review_list = []\n",
    "product_list = []\n",
    "\n",
    "\n",
    "driver = webdriver.Chrome('chromedriver.exe')\n",
    "url = \"https://www.flipkart.com/canon-mg2570s-multi-function-color-printer/p/itme8pd6c9gcente?pid=PRNE8PD6M53KZZXA&lid=LSTPRNE8PD6M53KZZXA9GFNEE&marketplace=FLIPKART&q=printer&store=6bo&srno=s_1_13&otracker=search&otracker1=search&fm=SEARCH&iid=72aa59fc-54fa-4871-81bc-03de9683ba74.PRNE8PD6M53KZZXA.SEARCH&ppt=sp&ppn=sp&ssid=yehtwewzs00000001627418698075&qH=a9358f4ce02708d5\"\n",
    "driver.get(url)\n",
    "WebDriverWait(driver,delay).until(EC.presence_of_element_located((By.CLASS_NAME,'_3HKIdy')))\n",
    "All_reviews = driver.find_element_by_xpath(\"//div[@class='_3UAT2v _16PBlm']/span\")\n",
    "All_reviews.click()\n",
    "\n",
    "while len(Rating_list) < 800:\n",
    "\n",
    "\n",
    "    try:\n",
    "        delay = 6\n",
    "        WebDriverWait(driver,delay).until(EC.presence_of_element_located((By.CLASS_NAME,'_1LKTO3')))\n",
    "\n",
    "        review_cell = driver.find_elements_by_xpath(\"//div[@class='col _2wzgFH K0kLPL']\")\n",
    "        for i in review_cell:\n",
    "            rating = i.find_element_by_xpath(\"div[1]/div\")\n",
    "            rating = int(float(rating.text))\n",
    "            if Rating_list.count(rating) < 160:\n",
    "                Rating_list.append(rating)\n",
    "                summary = i.find_element_by_xpath(\"div[1]/p\")\n",
    "                summary_list.append(summary.text)\n",
    "                full_review = i.find_element_by_xpath(\"div[2]/div\")\n",
    "                review_list.append(full_review.text)\n",
    "                #product_list.append('Mobile')\n",
    "\n",
    "    except:\n",
    "        driver.back()\n",
    "\n",
    "    Next_button = driver.find_elements_by_xpath(\"//a[@class ='_1LKTO3']\")   \n",
    "\n",
    "    for i in Next_button:\n",
    "        if i.text == 'NEXT' or i.text == 'Next':\n",
    "            driver.get(i.get_attribute('href'))"
   ]
  },
  {
   "cell_type": "code",
   "execution_count": 419,
   "id": "8b456dd0",
   "metadata": {},
   "outputs": [],
   "source": [
    "#scraped 800 ratings of smart watch. 160 for each ratings\n",
    "df_printer2 = pd.DataFrame({'Ratings':Rating_list,'Summary':summary_list,'Review':review_list,'Product':'Printer'})"
   ]
  },
  {
   "cell_type": "code",
   "execution_count": 420,
   "id": "22acda64",
   "metadata": {},
   "outputs": [
    {
     "data": {
      "text/html": [
       "<div>\n",
       "<style scoped>\n",
       "    .dataframe tbody tr th:only-of-type {\n",
       "        vertical-align: middle;\n",
       "    }\n",
       "\n",
       "    .dataframe tbody tr th {\n",
       "        vertical-align: top;\n",
       "    }\n",
       "\n",
       "    .dataframe thead th {\n",
       "        text-align: right;\n",
       "    }\n",
       "</style>\n",
       "<table border=\"1\" class=\"dataframe\">\n",
       "  <thead>\n",
       "    <tr style=\"text-align: right;\">\n",
       "      <th></th>\n",
       "      <th>Ratings</th>\n",
       "      <th>Summary</th>\n",
       "      <th>Review</th>\n",
       "      <th>Product</th>\n",
       "    </tr>\n",
       "  </thead>\n",
       "  <tbody>\n",
       "    <tr>\n",
       "      <th>0</th>\n",
       "      <td>5</td>\n",
       "      <td>Perfect product!</td>\n",
       "      <td>Very nice printer, is worth the purchase. Idea...</td>\n",
       "      <td>Printer</td>\n",
       "    </tr>\n",
       "    <tr>\n",
       "      <th>1</th>\n",
       "      <td>5</td>\n",
       "      <td>Excellent</td>\n",
       "      <td>great !! easy to use ,, budget friendly,, good...</td>\n",
       "      <td>Printer</td>\n",
       "    </tr>\n",
       "    <tr>\n",
       "      <th>2</th>\n",
       "      <td>5</td>\n",
       "      <td>Brilliant</td>\n",
       "      <td>nice product\\nI am a student I ordered this fo...</td>\n",
       "      <td>Printer</td>\n",
       "    </tr>\n",
       "    <tr>\n",
       "      <th>3</th>\n",
       "      <td>5</td>\n",
       "      <td>Mind-blowing purchase</td>\n",
       "      <td>super Good delivery and canon printer is Good ...</td>\n",
       "      <td>Printer</td>\n",
       "    </tr>\n",
       "    <tr>\n",
       "      <th>4</th>\n",
       "      <td>1</td>\n",
       "      <td>Don't waste your money</td>\n",
       "      <td>After using 1 year I am writing\\n\\nProduct see...</td>\n",
       "      <td>Printer</td>\n",
       "    </tr>\n",
       "  </tbody>\n",
       "</table>\n",
       "</div>"
      ],
      "text/plain": [
       "   Ratings                 Summary  \\\n",
       "0        5        Perfect product!   \n",
       "1        5               Excellent   \n",
       "2        5               Brilliant   \n",
       "3        5   Mind-blowing purchase   \n",
       "4        1  Don't waste your money   \n",
       "\n",
       "                                              Review  Product  \n",
       "0  Very nice printer, is worth the purchase. Idea...  Printer  \n",
       "1  great !! easy to use ,, budget friendly,, good...  Printer  \n",
       "2  nice product\\nI am a student I ordered this fo...  Printer  \n",
       "3  super Good delivery and canon printer is Good ...  Printer  \n",
       "4  After using 1 year I am writing\\n\\nProduct see...  Printer  "
      ]
     },
     "execution_count": 420,
     "metadata": {},
     "output_type": "execute_result"
    }
   ],
   "source": [
    "df_printer2.head()"
   ]
  },
  {
   "cell_type": "code",
   "execution_count": 421,
   "id": "17d731a7",
   "metadata": {},
   "outputs": [
    {
     "data": {
      "text/plain": [
       "1    160\n",
       "2    160\n",
       "3    160\n",
       "4    160\n",
       "5    160\n",
       "Name: Ratings, dtype: int64"
      ]
     },
     "execution_count": 421,
     "metadata": {},
     "output_type": "execute_result"
    }
   ],
   "source": [
    "#we have 160 values for all ratings\n",
    "df_printer2['Ratings'].value_counts()"
   ]
  },
  {
   "cell_type": "code",
   "execution_count": 422,
   "id": "56b67ac9",
   "metadata": {},
   "outputs": [],
   "source": [
    "df_printer2.to_csv(\"df_printer2.csv\")"
   ]
  },
  {
   "cell_type": "code",
   "execution_count": null,
   "id": "73c15c0f",
   "metadata": {},
   "outputs": [],
   "source": [
    "Rating_list = []\n",
    "summary_list = []\n",
    "review_list = []\n",
    "product_list = []\n",
    "\n",
    "\n",
    "driver = webdriver.Chrome('chromedriver.exe')\n",
    "url = \"https://www.flipkart.com/oneplus-y-series-108-cm-43-inch-full-hd-led-smart-android-tv/p/itme3bf85dc7fef6?pid=TVSFVWD2GRQEG462&lid=LSTTVSFVWD2GRQEG462KP5F8D&marketplace=FLIPKART&q=tv&store=ckf%2Fczl&srno=s_1_10&otracker=search&otracker1=search&fm=SEARCH&iid=65dbcaf5-8878-459d-933b-ddb6dd7ee19e.TVSFVWD2GRQEG462.SEARCH&ppt=sp&ppn=sp&ssid=z5q8ugyo400000001627455587139&qH=c9a1fdac6e082dd8\"\n",
    "driver.get(url)\n",
    "WebDriverWait(driver,delay).until(EC.presence_of_element_located((By.CLASS_NAME,'_3HKIdy')))\n",
    "All_reviews = driver.find_element_by_xpath(\"//div[@class='_3UAT2v _16PBlm']/span\")\n",
    "All_reviews.click()\n",
    "\n",
    "while len(Rating_list) < 800:\n",
    "\n",
    "\n",
    "    try:\n",
    "        delay = 6\n",
    "        WebDriverWait(driver,delay).until(EC.presence_of_element_located((By.CLASS_NAME,'_1LKTO3')))\n",
    "\n",
    "        review_cell = driver.find_elements_by_xpath(\"//div[@class='col _2wzgFH K0kLPL']\")\n",
    "        for i in review_cell:\n",
    "            rating = i.find_element_by_xpath(\"div[1]/div\")\n",
    "            rating = int(float(rating.text))\n",
    "            if Rating_list.count(rating) < 160:\n",
    "                Rating_list.append(rating)\n",
    "                summary = i.find_element_by_xpath(\"div[1]/p\")\n",
    "                summary_list.append(summary.text)\n",
    "                full_review = i.find_element_by_xpath(\"div[2]/div\")\n",
    "                review_list.append(full_review.text)\n",
    "                #product_list.append('Mobile')\n",
    "\n",
    "    except:\n",
    "        driver.back()\n",
    "\n",
    "    Next_button = driver.find_elements_by_xpath(\"//a[@class ='_1LKTO3']\")   \n",
    "\n",
    "    for i in Next_button:\n",
    "        if i.text == 'NEXT' or i.text == 'Next':\n",
    "            driver.get(i.get_attribute('href'))"
   ]
  },
  {
   "cell_type": "code",
   "execution_count": 424,
   "id": "cc6f89df",
   "metadata": {},
   "outputs": [],
   "source": [
    "#scraped 800 ratings of smart TV\n",
    "df_TV_4 = pd.DataFrame({'Ratings':Rating_list,'Summary':summary_list,'Review':review_list,'Product':'Smart TV'})"
   ]
  },
  {
   "cell_type": "code",
   "execution_count": 425,
   "id": "160ebc71",
   "metadata": {},
   "outputs": [
    {
     "data": {
      "text/html": [
       "<div>\n",
       "<style scoped>\n",
       "    .dataframe tbody tr th:only-of-type {\n",
       "        vertical-align: middle;\n",
       "    }\n",
       "\n",
       "    .dataframe tbody tr th {\n",
       "        vertical-align: top;\n",
       "    }\n",
       "\n",
       "    .dataframe thead th {\n",
       "        text-align: right;\n",
       "    }\n",
       "</style>\n",
       "<table border=\"1\" class=\"dataframe\">\n",
       "  <thead>\n",
       "    <tr style=\"text-align: right;\">\n",
       "      <th></th>\n",
       "      <th>Ratings</th>\n",
       "      <th>Summary</th>\n",
       "      <th>Review</th>\n",
       "      <th>Product</th>\n",
       "    </tr>\n",
       "  </thead>\n",
       "  <tbody>\n",
       "    <tr>\n",
       "      <th>0</th>\n",
       "      <td>5</td>\n",
       "      <td>Best in the market!</td>\n",
       "      <td>A very nice Tv with many adjustments and a bes...</td>\n",
       "      <td>Smart TV</td>\n",
       "    </tr>\n",
       "    <tr>\n",
       "      <th>1</th>\n",
       "      <td>5</td>\n",
       "      <td>Must buy!</td>\n",
       "      <td>Great tv.. just got my order within one day an...</td>\n",
       "      <td>Smart TV</td>\n",
       "    </tr>\n",
       "    <tr>\n",
       "      <th>2</th>\n",
       "      <td>5</td>\n",
       "      <td>Perfect product!</td>\n",
       "      <td>It's pretty good n with oosaammmm clarity .......</td>\n",
       "      <td>Smart TV</td>\n",
       "    </tr>\n",
       "    <tr>\n",
       "      <th>3</th>\n",
       "      <td>5</td>\n",
       "      <td>Terrific</td>\n",
       "      <td>It is superior TV. Working on android pie .You...</td>\n",
       "      <td>Smart TV</td>\n",
       "    </tr>\n",
       "    <tr>\n",
       "      <th>4</th>\n",
       "      <td>4</td>\n",
       "      <td>Very Good</td>\n",
       "      <td>Great product for the price...\\nNote: The only...</td>\n",
       "      <td>Smart TV</td>\n",
       "    </tr>\n",
       "  </tbody>\n",
       "</table>\n",
       "</div>"
      ],
      "text/plain": [
       "   Ratings              Summary  \\\n",
       "0        5  Best in the market!   \n",
       "1        5            Must buy!   \n",
       "2        5     Perfect product!   \n",
       "3        5             Terrific   \n",
       "4        4            Very Good   \n",
       "\n",
       "                                              Review   Product  \n",
       "0  A very nice Tv with many adjustments and a bes...  Smart TV  \n",
       "1  Great tv.. just got my order within one day an...  Smart TV  \n",
       "2  It's pretty good n with oosaammmm clarity .......  Smart TV  \n",
       "3  It is superior TV. Working on android pie .You...  Smart TV  \n",
       "4  Great product for the price...\\nNote: The only...  Smart TV  "
      ]
     },
     "execution_count": 425,
     "metadata": {},
     "output_type": "execute_result"
    }
   ],
   "source": [
    "df_TV_4.head()"
   ]
  },
  {
   "cell_type": "code",
   "execution_count": 426,
   "id": "be8aeef5",
   "metadata": {},
   "outputs": [
    {
     "data": {
      "text/plain": [
       "1    160\n",
       "3    160\n",
       "4    160\n",
       "5    160\n",
       "2     80\n",
       "Name: Ratings, dtype: int64"
      ]
     },
     "execution_count": 426,
     "metadata": {},
     "output_type": "execute_result"
    }
   ],
   "source": [
    "#we have 160 values for all ratings\n",
    "df_TV_4['Ratings'].value_counts()"
   ]
  },
  {
   "cell_type": "code",
   "execution_count": 427,
   "id": "63806d9d",
   "metadata": {},
   "outputs": [],
   "source": [
    "df_TV_4.to_csv(\"df_TV_4.csv\")"
   ]
  },
  {
   "cell_type": "code",
   "execution_count": null,
   "id": "621b1c1d",
   "metadata": {},
   "outputs": [],
   "source": [
    "Rating_list = []\n",
    "summary_list = []\n",
    "review_list = []\n",
    "product_list = []\n",
    "\n",
    "\n",
    "driver = webdriver.Chrome('chromedriver.exe')\n",
    "url = \"https://www.flipkart.com/lg-80-cm-32-inch-hd-ready-led-smart-tv-2020/p/itm6207e6d122567?pid=TVSFTW4CSRW8PGDQ&lid=LSTTVSFTW4CSRW8PGDQSZQIO6&marketplace=FLIPKART&q=tv&store=ckf%2Fczl&spotlightTagId=BestvalueId_ckf%2Fczl&srno=s_1_7&otracker=search&otracker1=search&fm=SEARCH&iid=65dbcaf5-8878-459d-933b-ddb6dd7ee19e.TVSFTW4CSRW8PGDQ.SEARCH&ppt=sp&ppn=sp&ssid=z5q8ugyo400000001627455587139&qH=c9a1fdac6e082dd8\"\n",
    "driver.get(url)\n",
    "WebDriverWait(driver,delay).until(EC.presence_of_element_located((By.CLASS_NAME,'_3HKIdy')))\n",
    "All_reviews = driver.find_element_by_xpath(\"//div[@class='_3UAT2v _16PBlm']/span\")\n",
    "All_reviews.click()\n",
    "\n",
    "while len(Rating_list) < 800:\n",
    "\n",
    "\n",
    "    try:\n",
    "        delay = 6\n",
    "        WebDriverWait(driver,delay).until(EC.presence_of_element_located((By.CLASS_NAME,'_1LKTO3')))\n",
    "\n",
    "        review_cell = driver.find_elements_by_xpath(\"//div[@class='col _2wzgFH K0kLPL']\")\n",
    "        for i in review_cell:\n",
    "            rating = i.find_element_by_xpath(\"div[1]/div\")\n",
    "            rating = int(float(rating.text))\n",
    "            if Rating_list.count(rating) < 160:\n",
    "                Rating_list.append(rating)\n",
    "                summary = i.find_element_by_xpath(\"div[1]/p\")\n",
    "                summary_list.append(summary.text)\n",
    "                full_review = i.find_element_by_xpath(\"div[2]/div\")\n",
    "                review_list.append(full_review.text)\n",
    "                #product_list.append('Mobile')\n",
    "\n",
    "    except:\n",
    "        driver.back()\n",
    "\n",
    "    Next_button = driver.find_elements_by_xpath(\"//a[@class ='_1LKTO3']\")   \n",
    "\n",
    "    for i in Next_button:\n",
    "        if i.text == 'NEXT' or i.text == 'Next':\n",
    "            driver.get(i.get_attribute('href'))"
   ]
  },
  {
   "cell_type": "code",
   "execution_count": 429,
   "id": "5746ff9e",
   "metadata": {},
   "outputs": [],
   "source": [
    "#scraped 800 ratings of smart TV\n",
    "df_TV_5 = pd.DataFrame({'Ratings':Rating_list,'Summary':summary_list,'Review':review_list,'Product':'Smart TV'})"
   ]
  },
  {
   "cell_type": "code",
   "execution_count": 430,
   "id": "a124fb1e",
   "metadata": {},
   "outputs": [
    {
     "data": {
      "text/html": [
       "<div>\n",
       "<style scoped>\n",
       "    .dataframe tbody tr th:only-of-type {\n",
       "        vertical-align: middle;\n",
       "    }\n",
       "\n",
       "    .dataframe tbody tr th {\n",
       "        vertical-align: top;\n",
       "    }\n",
       "\n",
       "    .dataframe thead th {\n",
       "        text-align: right;\n",
       "    }\n",
       "</style>\n",
       "<table border=\"1\" class=\"dataframe\">\n",
       "  <thead>\n",
       "    <tr style=\"text-align: right;\">\n",
       "      <th></th>\n",
       "      <th>Ratings</th>\n",
       "      <th>Summary</th>\n",
       "      <th>Review</th>\n",
       "      <th>Product</th>\n",
       "    </tr>\n",
       "  </thead>\n",
       "  <tbody>\n",
       "    <tr>\n",
       "      <th>0</th>\n",
       "      <td>4</td>\n",
       "      <td>Very Good</td>\n",
       "      <td>Beautiful Product and it’s best in this price ...</td>\n",
       "      <td>Smart TV</td>\n",
       "    </tr>\n",
       "    <tr>\n",
       "      <th>1</th>\n",
       "      <td>5</td>\n",
       "      <td>Just wow!</td>\n",
       "      <td>Good picture quality good Saund good all LG br...</td>\n",
       "      <td>Smart TV</td>\n",
       "    </tr>\n",
       "    <tr>\n",
       "      <th>2</th>\n",
       "      <td>5</td>\n",
       "      <td>Must buy!</td>\n",
       "      <td>Lg is always first choice for me and you can a...</td>\n",
       "      <td>Smart TV</td>\n",
       "    </tr>\n",
       "    <tr>\n",
       "      <th>3</th>\n",
       "      <td>4</td>\n",
       "      <td>Pretty good</td>\n",
       "      <td>I received nice product in best price thanks F...</td>\n",
       "      <td>Smart TV</td>\n",
       "    </tr>\n",
       "    <tr>\n",
       "      <th>4</th>\n",
       "      <td>5</td>\n",
       "      <td>Brilliant</td>\n",
       "      <td>1- Superb TV And outstanding Performance compa...</td>\n",
       "      <td>Smart TV</td>\n",
       "    </tr>\n",
       "  </tbody>\n",
       "</table>\n",
       "</div>"
      ],
      "text/plain": [
       "   Ratings      Summary                                             Review  \\\n",
       "0        4    Very Good  Beautiful Product and it’s best in this price ...   \n",
       "1        5    Just wow!  Good picture quality good Saund good all LG br...   \n",
       "2        5    Must buy!  Lg is always first choice for me and you can a...   \n",
       "3        4  Pretty good  I received nice product in best price thanks F...   \n",
       "4        5    Brilliant  1- Superb TV And outstanding Performance compa...   \n",
       "\n",
       "    Product  \n",
       "0  Smart TV  \n",
       "1  Smart TV  \n",
       "2  Smart TV  \n",
       "3  Smart TV  \n",
       "4  Smart TV  "
      ]
     },
     "execution_count": 430,
     "metadata": {},
     "output_type": "execute_result"
    }
   ],
   "source": [
    "df_TV_5.head()"
   ]
  },
  {
   "cell_type": "code",
   "execution_count": 431,
   "id": "b9c7a6b4",
   "metadata": {},
   "outputs": [
    {
     "data": {
      "text/plain": [
       "4    160\n",
       "5    160\n",
       "3    120\n",
       "1     78\n",
       "2     52\n",
       "Name: Ratings, dtype: int64"
      ]
     },
     "execution_count": 431,
     "metadata": {},
     "output_type": "execute_result"
    }
   ],
   "source": [
    "#we have 160 values for all ratings\n",
    "df_TV_5['Ratings'].value_counts()"
   ]
  },
  {
   "cell_type": "code",
   "execution_count": 432,
   "id": "3687ffdb",
   "metadata": {},
   "outputs": [],
   "source": [
    "df_TV_5.to_csv(\"df_TV_5.csv\")"
   ]
  },
  {
   "cell_type": "code",
   "execution_count": null,
   "id": "8f141396",
   "metadata": {},
   "outputs": [],
   "source": [
    "Rating_list = []\n",
    "summary_list = []\n",
    "review_list = []\n",
    "product_list = []\n",
    "\n",
    "\n",
    "driver = webdriver.Chrome('chromedriver.exe')\n",
    "url = \"https://www.flipkart.com/boat-rockerz-510-super-extra-bass-bluetooth-headset/p/itmfcc31e7821a43?pid=ACCF5GXGMMVPDQVD&lid=LSTACCF5GXGMMVPDQVDZVFEZ3&marketplace=FLIPKART&q=headphones&store=0pm%2Ffcn&srno=s_1_8&otracker=AS_QueryStore_OrganicAutoSuggest_1_10_na_na_na&otracker1=AS_QueryStore_OrganicAutoSuggest_1_10_na_na_na&fm=SEARCH&iid=en_4jE5rzjxeb0LBs7G16PgUZSmVS%2B1HwAVil8DL%2ByoGyVSi94cHtijX4kszM6PRy%2FVG6Y%2BodrGUSvJEMwQENIy2w%3D%3D&ppt=sp&ppn=sp&ssid=pyx741c7hc0000001627456057379&qH=edd443896ef5dbfc\"\n",
    "driver.get(url)\n",
    "WebDriverWait(driver,delay).until(EC.presence_of_element_located((By.CLASS_NAME,'_3HKIdy')))\n",
    "All_reviews = driver.find_element_by_xpath(\"//div[@class='_3UAT2v _16PBlm']/span\")\n",
    "All_reviews.click()\n",
    "\n",
    "while len(Rating_list) < 1000:\n",
    "\n",
    "\n",
    "    try:\n",
    "        delay = 6\n",
    "        WebDriverWait(driver,delay).until(EC.presence_of_element_located((By.CLASS_NAME,'_1LKTO3')))\n",
    "\n",
    "        review_cell = driver.find_elements_by_xpath(\"//div[@class='col _2wzgFH K0kLPL']\")\n",
    "        for i in review_cell:\n",
    "            rating = i.find_element_by_xpath(\"div[1]/div\")\n",
    "            rating = int(float(rating.text))\n",
    "            if Rating_list.count(rating) < 200:\n",
    "                Rating_list.append(rating)\n",
    "                summary = i.find_element_by_xpath(\"div[1]/p\")\n",
    "                summary_list.append(summary.text)\n",
    "                full_review = i.find_element_by_xpath(\"div[2]/div\")\n",
    "                review_list.append(full_review.text)\n",
    "                #product_list.append('Mobile')\n",
    "\n",
    "    except:\n",
    "        driver.back()\n",
    "\n",
    "    Next_button = driver.find_elements_by_xpath(\"//a[@class ='_1LKTO3']\")   \n",
    "\n",
    "    for i in Next_button:\n",
    "        if i.text == 'NEXT' or i.text == 'Next':\n",
    "            driver.get(i.get_attribute('href'))"
   ]
  },
  {
   "cell_type": "code",
   "execution_count": 434,
   "id": "3e66da98",
   "metadata": {},
   "outputs": [],
   "source": [
    "#scraped 1000 ratings of smart watch. 200 for each ratings\n",
    "df_headphones1 = pd.DataFrame({'Ratings':Rating_list,'Summary':summary_list,'Review':review_list,'Product':'Bluetooth Headphones'})"
   ]
  },
  {
   "cell_type": "code",
   "execution_count": 435,
   "id": "534da832",
   "metadata": {},
   "outputs": [
    {
     "data": {
      "text/html": [
       "<div>\n",
       "<style scoped>\n",
       "    .dataframe tbody tr th:only-of-type {\n",
       "        vertical-align: middle;\n",
       "    }\n",
       "\n",
       "    .dataframe tbody tr th {\n",
       "        vertical-align: top;\n",
       "    }\n",
       "\n",
       "    .dataframe thead th {\n",
       "        text-align: right;\n",
       "    }\n",
       "</style>\n",
       "<table border=\"1\" class=\"dataframe\">\n",
       "  <thead>\n",
       "    <tr style=\"text-align: right;\">\n",
       "      <th></th>\n",
       "      <th>Ratings</th>\n",
       "      <th>Summary</th>\n",
       "      <th>Review</th>\n",
       "      <th>Product</th>\n",
       "    </tr>\n",
       "  </thead>\n",
       "  <tbody>\n",
       "    <tr>\n",
       "      <th>0</th>\n",
       "      <td>5</td>\n",
       "      <td>Great product</td>\n",
       "      <td>My one request🙏 plz to all buyers..plz dont re...</td>\n",
       "      <td>Bluetooth Headphones</td>\n",
       "    </tr>\n",
       "    <tr>\n",
       "      <th>1</th>\n",
       "      <td>5</td>\n",
       "      <td>Classy product</td>\n",
       "      <td>genuine review\\n1. sound quality : no issue va...</td>\n",
       "      <td>Bluetooth Headphones</td>\n",
       "    </tr>\n",
       "    <tr>\n",
       "      <th>2</th>\n",
       "      <td>5</td>\n",
       "      <td>Mind-blowing purchase</td>\n",
       "      <td>Nice product. Happy with the bass quality. One...</td>\n",
       "      <td>Bluetooth Headphones</td>\n",
       "    </tr>\n",
       "    <tr>\n",
       "      <th>3</th>\n",
       "      <td>5</td>\n",
       "      <td>Simply awesome</td>\n",
       "      <td>super sound quality, and battery backup is awe...</td>\n",
       "      <td>Bluetooth Headphones</td>\n",
       "    </tr>\n",
       "    <tr>\n",
       "      <th>4</th>\n",
       "      <td>4</td>\n",
       "      <td>Good choice</td>\n",
       "      <td>Good for :\\n- PUBG HEADPHONE ( BUY IT if gamer...</td>\n",
       "      <td>Bluetooth Headphones</td>\n",
       "    </tr>\n",
       "  </tbody>\n",
       "</table>\n",
       "</div>"
      ],
      "text/plain": [
       "   Ratings                Summary  \\\n",
       "0        5          Great product   \n",
       "1        5         Classy product   \n",
       "2        5  Mind-blowing purchase   \n",
       "3        5         Simply awesome   \n",
       "4        4            Good choice   \n",
       "\n",
       "                                              Review               Product  \n",
       "0  My one request🙏 plz to all buyers..plz dont re...  Bluetooth Headphones  \n",
       "1  genuine review\\n1. sound quality : no issue va...  Bluetooth Headphones  \n",
       "2  Nice product. Happy with the bass quality. One...  Bluetooth Headphones  \n",
       "3  super sound quality, and battery backup is awe...  Bluetooth Headphones  \n",
       "4  Good for :\\n- PUBG HEADPHONE ( BUY IT if gamer...  Bluetooth Headphones  "
      ]
     },
     "execution_count": 435,
     "metadata": {},
     "output_type": "execute_result"
    }
   ],
   "source": [
    "df_headphones1.head()"
   ]
  },
  {
   "cell_type": "code",
   "execution_count": 436,
   "id": "36cab1c7",
   "metadata": {},
   "outputs": [
    {
     "data": {
      "text/plain": [
       "1    200\n",
       "3    200\n",
       "4    200\n",
       "5    200\n",
       "2    197\n",
       "Name: Ratings, dtype: int64"
      ]
     },
     "execution_count": 436,
     "metadata": {},
     "output_type": "execute_result"
    }
   ],
   "source": [
    "#we have 160 values for all ratings\n",
    "df_headphones1['Ratings'].value_counts()"
   ]
  },
  {
   "cell_type": "code",
   "execution_count": 437,
   "id": "1f2c9536",
   "metadata": {},
   "outputs": [],
   "source": [
    "df_headphones1.to_csv(\"df_headphones1.csv\")"
   ]
  },
  {
   "cell_type": "code",
   "execution_count": null,
   "id": "c6bd99d6",
   "metadata": {},
   "outputs": [],
   "source": [
    "Rating_list = []\n",
    "summary_list = []\n",
    "review_list = []\n",
    "product_list = []\n",
    "\n",
    "\n",
    "driver = webdriver.Chrome('chromedriver.exe')\n",
    "url = \"https://www.flipkart.com/realme-narzo-30a-laser-blue-32-gb/p/itma78aeb1d764b5?pid=MOBGYFAXFQYTPYEF&lid=LSTMOBGYFAXFQYTPYEFHEOYGJ&marketplace=FLIPKART&q=phone&store=tyy&srno=s_1_38&otracker=search&otracker1=search&fm=SEARCH&iid=6c5981bb-0fa5-4dbc-930e-39e377ff88a8.MOBGYFAXFQYTPYEF.SEARCH&ppt=sp&ppn=sp&qH=f7a42fe7211f98ac\"\n",
    "driver.get(url)\n",
    "WebDriverWait(driver,delay).until(EC.presence_of_element_located((By.CLASS_NAME,'_3HKIdy')))\n",
    "All_reviews = driver.find_element_by_xpath(\"//div[@class='_3UAT2v _16PBlm']/span\")\n",
    "All_reviews.click()\n",
    "\n",
    "while len(Rating_list) < 1000:\n",
    "\n",
    "\n",
    "    try:\n",
    "        delay = 6\n",
    "        WebDriverWait(driver,delay).until(EC.presence_of_element_located((By.CLASS_NAME,'_1LKTO3')))\n",
    "\n",
    "        review_cell = driver.find_elements_by_xpath(\"//div[@class='col _2wzgFH K0kLPL']\")\n",
    "        for i in review_cell:\n",
    "            rating = i.find_element_by_xpath(\"div[1]/div\")\n",
    "            rating = int(float(rating.text))\n",
    "            if Rating_list.count(rating) < 200:\n",
    "                Rating_list.append(rating)\n",
    "                summary = i.find_element_by_xpath(\"div[1]/p\")\n",
    "                summary_list.append(summary.text)\n",
    "                full_review = i.find_element_by_xpath(\"div[2]/div\")\n",
    "                review_list.append(full_review.text)\n",
    "                #product_list.append('Mobile')\n",
    "\n",
    "    except:\n",
    "        driver.back()\n",
    "\n",
    "    Next_button = driver.find_elements_by_xpath(\"//a[@class ='_1LKTO3']\")   \n",
    "\n",
    "    for i in Next_button:\n",
    "        if i.text == 'NEXT' or i.text == 'Next':\n",
    "            driver.get(i.get_attribute('href'))"
   ]
  },
  {
   "cell_type": "code",
   "execution_count": 439,
   "id": "4427464f",
   "metadata": {},
   "outputs": [],
   "source": [
    "#scraped 1000 ratings of phone. 200 for each ratings\n",
    "df_phone_r = pd.DataFrame({'Ratings':Rating_list,'Summary':summary_list,'Review':review_list,'Product':'Mobile'})"
   ]
  },
  {
   "cell_type": "code",
   "execution_count": 440,
   "id": "f146fcc8",
   "metadata": {},
   "outputs": [
    {
     "data": {
      "text/html": [
       "<div>\n",
       "<style scoped>\n",
       "    .dataframe tbody tr th:only-of-type {\n",
       "        vertical-align: middle;\n",
       "    }\n",
       "\n",
       "    .dataframe tbody tr th {\n",
       "        vertical-align: top;\n",
       "    }\n",
       "\n",
       "    .dataframe thead th {\n",
       "        text-align: right;\n",
       "    }\n",
       "</style>\n",
       "<table border=\"1\" class=\"dataframe\">\n",
       "  <thead>\n",
       "    <tr style=\"text-align: right;\">\n",
       "      <th></th>\n",
       "      <th>Ratings</th>\n",
       "      <th>Summary</th>\n",
       "      <th>Review</th>\n",
       "      <th>Product</th>\n",
       "    </tr>\n",
       "  </thead>\n",
       "  <tbody>\n",
       "    <tr>\n",
       "      <th>0</th>\n",
       "      <td>4</td>\n",
       "      <td>Nice product</td>\n",
       "      <td>The phone is good enough in terms of price but...</td>\n",
       "      <td>Mobile</td>\n",
       "    </tr>\n",
       "    <tr>\n",
       "      <th>1</th>\n",
       "      <td>5</td>\n",
       "      <td>Wonderful</td>\n",
       "      <td>Best budget smartphone with Realme clean ui, g...</td>\n",
       "      <td>Mobile</td>\n",
       "    </tr>\n",
       "    <tr>\n",
       "      <th>2</th>\n",
       "      <td>4</td>\n",
       "      <td>Nice product</td>\n",
       "      <td>Very good performance gift from brothers she i...</td>\n",
       "      <td>Mobile</td>\n",
       "    </tr>\n",
       "    <tr>\n",
       "      <th>3</th>\n",
       "      <td>5</td>\n",
       "      <td>Excellent</td>\n",
       "      <td>I purchased this phone for my mother... and he...</td>\n",
       "      <td>Mobile</td>\n",
       "    </tr>\n",
       "    <tr>\n",
       "      <th>4</th>\n",
       "      <td>5</td>\n",
       "      <td>Wonderful</td>\n",
       "      <td>Best phone in this price range.\\n1) good manag...</td>\n",
       "      <td>Mobile</td>\n",
       "    </tr>\n",
       "  </tbody>\n",
       "</table>\n",
       "</div>"
      ],
      "text/plain": [
       "   Ratings       Summary                                             Review  \\\n",
       "0        4  Nice product  The phone is good enough in terms of price but...   \n",
       "1        5     Wonderful  Best budget smartphone with Realme clean ui, g...   \n",
       "2        4  Nice product  Very good performance gift from brothers she i...   \n",
       "3        5     Excellent  I purchased this phone for my mother... and he...   \n",
       "4        5     Wonderful  Best phone in this price range.\\n1) good manag...   \n",
       "\n",
       "  Product  \n",
       "0  Mobile  \n",
       "1  Mobile  \n",
       "2  Mobile  \n",
       "3  Mobile  \n",
       "4  Mobile  "
      ]
     },
     "execution_count": 440,
     "metadata": {},
     "output_type": "execute_result"
    }
   ],
   "source": [
    "df_phone_r.head()"
   ]
  },
  {
   "cell_type": "code",
   "execution_count": 441,
   "id": "e3f66b2e",
   "metadata": {},
   "outputs": [
    {
     "data": {
      "text/plain": [
       "1    200\n",
       "3    200\n",
       "4    200\n",
       "5    200\n",
       "2    128\n",
       "Name: Ratings, dtype: int64"
      ]
     },
     "execution_count": 441,
     "metadata": {},
     "output_type": "execute_result"
    }
   ],
   "source": [
    "#we have 200 values for all ratings\n",
    "df_phone_r['Ratings'].value_counts()"
   ]
  },
  {
   "cell_type": "code",
   "execution_count": 442,
   "id": "0fb58ed1",
   "metadata": {},
   "outputs": [],
   "source": [
    "df_phone_r.to_csv(\"df_phone_r.csv\")"
   ]
  },
  {
   "cell_type": "code",
   "execution_count": null,
   "id": "48afada7",
   "metadata": {
    "scrolled": false
   },
   "outputs": [],
   "source": [
    "Rating_list = []\n",
    "summary_list = []\n",
    "review_list = []\n",
    "product_list = []\n",
    "\n",
    "\n",
    "driver = webdriver.Chrome('chromedriver.exe')\n",
    "url = \"https://www.flipkart.com/kall-k260-blue-16-gb/product-reviews/itm88c21a920500f?pid=MOBFVDESMWVHGMD2&lid=LSTMOBFVDESMWVHGMD2LBDNV7&marketplace=FLIPKART\"\n",
    "driver.get(url)\n",
    "while len(Rating_list) < 200:\n",
    "\n",
    "\n",
    "    try:\n",
    "        delay = 6\n",
    "        WebDriverWait(driver,delay).until(EC.presence_of_element_located((By.CLASS_NAME,'_1LKTO3')))\n",
    "\n",
    "        review_cell = driver.find_elements_by_xpath(\"//div[@class='col _2wzgFH K0kLPL']\")\n",
    "        for i in review_cell:\n",
    "            rating = i.find_element_by_xpath(\"div[1]/div\")\n",
    "            rating = int(float(rating.text))\n",
    "            if rating == 2:\n",
    "                Rating_list.append(rating)\n",
    "                summary = i.find_element_by_xpath(\"div[1]/p\")\n",
    "                summary_list.append(summary.text)\n",
    "                full_review = i.find_element_by_xpath(\"div[2]/div\")\n",
    "                review_list.append(full_review.text)\n",
    "                #product_list.append('Mobile')\n",
    "\n",
    "    except:\n",
    "        driver.back()\n",
    "\n",
    "    Next_button = driver.find_elements_by_xpath(\"//a[@class ='_1LKTO3']\")   \n",
    "\n",
    "    for i in Next_button:\n",
    "        if i.text == 'NEXT' or i.text == 'Next':\n",
    "            driver.get(i.get_attribute('href'))"
   ]
  },
  {
   "cell_type": "code",
   "execution_count": 447,
   "id": "e9361478",
   "metadata": {},
   "outputs": [],
   "source": [
    "#scraped 1000 ratings of phone. 200 for each ratings\n",
    "df_phone_n1 = pd.DataFrame({'Ratings':Rating_list,'Summary':summary_list,'Review':review_list,'Product':'Mobile'})"
   ]
  },
  {
   "cell_type": "code",
   "execution_count": 451,
   "id": "ade6f3f9",
   "metadata": {},
   "outputs": [],
   "source": [
    "df_phone_n1.to_csv(\"df_phone_n1.csv\")"
   ]
  },
  {
   "cell_type": "code",
   "execution_count": null,
   "id": "bf95d5d5",
   "metadata": {},
   "outputs": [],
   "source": [
    "Rating_list = []\n",
    "summary_list = []\n",
    "review_list = []\n",
    "product_list = []\n",
    "\n",
    "\n",
    "driver = webdriver.Chrome('chromedriver.exe')\n",
    "url = \"https://www.flipkart.com/infinix-hot-10-play-aegean-blue-64-gb/product-reviews/itm1f660c8716944?pid=MOBGFG7URKYYCXUS&lid=LSTMOBGFG7URKYYCXUSZ1U485&aid=overall&certifiedBuyer=false&sortOrder=NEGATIVE_FIRST\"\n",
    "driver.get(url)\n",
    "while len(Rating_list) < 200:\n",
    "\n",
    "\n",
    "    try:\n",
    "        delay = 6\n",
    "        WebDriverWait(driver,delay).until(EC.presence_of_element_located((By.CLASS_NAME,'_1LKTO3')))\n",
    "\n",
    "        review_cell = driver.find_elements_by_xpath(\"//div[@class='col _2wzgFH K0kLPL']\")\n",
    "        for i in review_cell:\n",
    "            rating = i.find_element_by_xpath(\"div[1]/div\")\n",
    "            rating = int(float(rating.text))\n",
    "            if rating == 2:\n",
    "                Rating_list.append(rating)\n",
    "                summary = i.find_element_by_xpath(\"div[1]/p\")\n",
    "                summary_list.append(summary.text)\n",
    "                full_review = i.find_element_by_xpath(\"div[2]/div\")\n",
    "                review_list.append(full_review.text)\n",
    "                #product_list.append('Mobile')\n",
    "\n",
    "    except:\n",
    "        driver.back()\n",
    "\n",
    "    Next_button = driver.find_elements_by_xpath(\"//a[@class ='_1LKTO3']\")   \n",
    "\n",
    "    for i in Next_button:\n",
    "        if i.text == 'NEXT' or i.text == 'Next':\n",
    "            driver.get(i.get_attribute('href'))"
   ]
  },
  {
   "cell_type": "code",
   "execution_count": 452,
   "id": "0d846f76",
   "metadata": {},
   "outputs": [],
   "source": [
    "#scraped 1000 ratings of phone. 200 for each ratings\n",
    "df_phone_n2 = pd.DataFrame({'Ratings':Rating_list,'Summary':summary_list,'Review':review_list,'Product':'Mobile'})"
   ]
  },
  {
   "cell_type": "code",
   "execution_count": 453,
   "id": "65ee96ef",
   "metadata": {},
   "outputs": [],
   "source": [
    "df_phone_n2.to_csv(\"df_phone_n2.csv\")"
   ]
  },
  {
   "cell_type": "code",
   "execution_count": 455,
   "id": "870c772a",
   "metadata": {},
   "outputs": [
    {
     "data": {
      "text/plain": [
       "(82, 4)"
      ]
     },
     "execution_count": 455,
     "metadata": {},
     "output_type": "execute_result"
    }
   ],
   "source": [
    "df_phone_n2.shape"
   ]
  },
  {
   "cell_type": "code",
   "execution_count": null,
   "id": "5372dd6f",
   "metadata": {},
   "outputs": [],
   "source": [
    "Rating_list = []\n",
    "summary_list = []\n",
    "review_list = []\n",
    "product_list = []\n",
    "\n",
    "\n",
    "driver = webdriver.Chrome('chromedriver.exe')\n",
    "url = \"https://www.flipkart.com/oppo-f11-marble-green-128-gb/product-reviews/itmfgb8ft4kfgfe6?pid=MOBFGB8FFMZDKSBF&lid=LSTMOBFGB8FFMZDKSBFZVHMK3&aid=overall&certifiedBuyer=false&sortOrder=NEGATIVE_FIRST\"\n",
    "driver.get(url)\n",
    "while len(Rating_list) < 200:\n",
    "\n",
    "\n",
    "    try:\n",
    "        delay = 6\n",
    "        WebDriverWait(driver,delay).until(EC.presence_of_element_located((By.CLASS_NAME,'_1LKTO3')))\n",
    "\n",
    "        review_cell = driver.find_elements_by_xpath(\"//div[@class='col _2wzgFH K0kLPL']\")\n",
    "        for i in review_cell:\n",
    "            rating = i.find_element_by_xpath(\"div[1]/div\")\n",
    "            rating = int(float(rating.text))\n",
    "            if rating == 2:\n",
    "                Rating_list.append(rating)\n",
    "                summary = i.find_element_by_xpath(\"div[1]/p\")\n",
    "                summary_list.append(summary.text)\n",
    "                full_review = i.find_element_by_xpath(\"div[2]/div\")\n",
    "                review_list.append(full_review.text)\n",
    "                #product_list.append('Mobile')\n",
    "\n",
    "    except:\n",
    "        driver.back()\n",
    "\n",
    "    Next_button = driver.find_elements_by_xpath(\"//a[@class ='_1LKTO3']\")   \n",
    "\n",
    "    for i in Next_button:\n",
    "        if i.text == 'NEXT' or i.text == 'Next':\n",
    "            driver.get(i.get_attribute('href'))"
   ]
  },
  {
   "cell_type": "code",
   "execution_count": 457,
   "id": "92d8dbfa",
   "metadata": {},
   "outputs": [],
   "source": [
    "#scraped 1000 ratings of phone. 200 for each ratings\n",
    "df_phone_n3 = pd.DataFrame({'Ratings':Rating_list,'Summary':summary_list,'Review':review_list,'Product':'Mobile'})"
   ]
  },
  {
   "cell_type": "code",
   "execution_count": 458,
   "id": "15a001b0",
   "metadata": {},
   "outputs": [],
   "source": [
    "df_phone_n3.to_csv(\"df_phone_n3.csv\")\n"
   ]
  },
  {
   "cell_type": "code",
   "execution_count": 459,
   "id": "44da4b52",
   "metadata": {},
   "outputs": [
    {
     "data": {
      "text/plain": [
       "(93, 4)"
      ]
     },
     "execution_count": 459,
     "metadata": {},
     "output_type": "execute_result"
    }
   ],
   "source": [
    "df_phone_n3.shape"
   ]
  },
  {
   "cell_type": "code",
   "execution_count": 460,
   "id": "678d7ab4",
   "metadata": {},
   "outputs": [],
   "source": [
    "Rating_list = []\n",
    "summary_list = []\n",
    "review_list = []\n",
    "product_list = []\n",
    "\n",
    "\n",
    "driver = webdriver.Chrome('chromedriver.exe')\n",
    "url = \"https://www.flipkart.com/boat-rockerz-255-pro-bluetooth-headset/product-reviews/itm107777852f3b6?pid=ACCGFGGF5Y5YHPYT&lid=LSTACCGFGGF5Y5YHPYTUNAIIG&aid=overall&certifiedBuyer=false&sortOrder=NEGATIVE_FIRST\"\n",
    "driver.get(url)\n",
    "while len(Rating_list) < 400:\n",
    "\n",
    "\n",
    "    try:\n",
    "        delay = 6\n",
    "        WebDriverWait(driver,delay).until(EC.presence_of_element_located((By.CLASS_NAME,'_1LKTO3')))\n",
    "\n",
    "        review_cell = driver.find_elements_by_xpath(\"//div[@class='col _2wzgFH K0kLPL']\")\n",
    "        for i in review_cell:\n",
    "            rating = i.find_element_by_xpath(\"div[1]/div\")\n",
    "            rating = int(float(rating.text))\n",
    "            if rating == 2:\n",
    "                Rating_list.append(rating)\n",
    "                summary = i.find_element_by_xpath(\"div[1]/p\")\n",
    "                summary_list.append(summary.text)\n",
    "                full_review = i.find_element_by_xpath(\"div[2]/div\")\n",
    "                review_list.append(full_review.text)\n",
    "                #product_list.append('Mobile')\n",
    "\n",
    "    except:\n",
    "        driver.back()\n",
    "\n",
    "    Next_button = driver.find_elements_by_xpath(\"//a[@class ='_1LKTO3']\")   \n",
    "\n",
    "    for i in Next_button:\n",
    "        if i.text == 'NEXT' or i.text == 'Next':\n",
    "            driver.get(i.get_attribute('href'))"
   ]
  },
  {
   "cell_type": "code",
   "execution_count": 463,
   "id": "1e5afd5b",
   "metadata": {},
   "outputs": [],
   "source": [
    "#scraped 1000 ratings of phone. 200 for each ratings\n",
    "df_phone_n4 = pd.DataFrame({'Ratings':Rating_list,'Summary':summary_list,'Review':review_list,'Product':'Ear Phones'})"
   ]
  },
  {
   "cell_type": "code",
   "execution_count": 464,
   "id": "6ffb4a58",
   "metadata": {},
   "outputs": [],
   "source": [
    "df_phone_n4.to_csv(\"df_phone_n4.csv\")"
   ]
  },
  {
   "cell_type": "code",
   "execution_count": 465,
   "id": "99609ecd",
   "metadata": {},
   "outputs": [
    {
     "data": {
      "text/plain": [
       "(400, 4)"
      ]
     },
     "execution_count": 465,
     "metadata": {},
     "output_type": "execute_result"
    }
   ],
   "source": [
    "df_phone_n4.shape"
   ]
  },
  {
   "cell_type": "code",
   "execution_count": 474,
   "id": "f664d4ea",
   "metadata": {},
   "outputs": [],
   "source": [
    "Rating_list = []\n",
    "summary_list = []\n",
    "review_list = []\n",
    "product_list = []\n",
    "\n",
    "\n",
    "driver = webdriver.Chrome('chromedriver.exe')\n",
    "url = \"https://www.flipkart.com/boat-rockerz-255-pro-bluetooth-headset/product-reviews/itm107777852f3b6?pid=ACCGFGGF5Y5YHPYT&lid=LSTACCGFGGF5Y5YHPYTUNAIIG&aid=overall&certifiedBuyer=false&sortOrder=NEGATIVE_FIRST\"\n",
    "driver.get(url)\n",
    "while len(Rating_list) < 140:\n",
    "\n",
    "\n",
    "    try:\n",
    "        delay = 6\n",
    "        WebDriverWait(driver,delay).until(EC.presence_of_element_located((By.CLASS_NAME,'_1LKTO3')))\n",
    "\n",
    "        review_cell = driver.find_elements_by_xpath(\"//div[@class='col _2wzgFH K0kLPL']\")\n",
    "        for i in review_cell:\n",
    "            rating = i.find_element_by_xpath(\"div[1]/div\")\n",
    "            rating = int(float(rating.text))\n",
    "            if rating == 1:\n",
    "                Rating_list.append(rating)\n",
    "                summary = i.find_element_by_xpath(\"div[1]/p\")\n",
    "                summary_list.append(summary.text)\n",
    "                full_review = i.find_element_by_xpath(\"div[2]/div\")\n",
    "                review_list.append(full_review.text)\n",
    "                #product_list.append('Mobile')\n",
    "\n",
    "    except:\n",
    "        driver.back()\n",
    "\n",
    "    Next_button = driver.find_elements_by_xpath(\"//a[@class ='_1LKTO3']\")   \n",
    "\n",
    "    for i in Next_button:\n",
    "        if i.text == 'NEXT' or i.text == 'Next':\n",
    "            driver.get(i.get_attribute('href'))"
   ]
  },
  {
   "cell_type": "code",
   "execution_count": 475,
   "id": "d1e40d56",
   "metadata": {},
   "outputs": [],
   "source": [
    "#scraped 1000 ratings of phone. 200 for each ratings\n",
    "df_phone_n5 = pd.DataFrame({'Ratings':Rating_list,'Summary':summary_list,'Review':review_list,'Product':'Ear Phones'})"
   ]
  },
  {
   "cell_type": "code",
   "execution_count": 476,
   "id": "5869f154",
   "metadata": {},
   "outputs": [],
   "source": [
    "df_phone_n5.to_csv(\"df_phone_n5.csv\")"
   ]
  },
  {
   "cell_type": "code",
   "execution_count": 477,
   "id": "4210783c",
   "metadata": {},
   "outputs": [
    {
     "data": {
      "text/plain": [
       "(149, 4)"
      ]
     },
     "execution_count": 477,
     "metadata": {},
     "output_type": "execute_result"
    }
   ],
   "source": [
    "df_phone_n5.shape"
   ]
  },
  {
   "cell_type": "code",
   "execution_count": 480,
   "id": "09729d20",
   "metadata": {},
   "outputs": [],
   "source": [
    "Rating_list = []\n",
    "summary_list = []\n",
    "review_list = []\n",
    "product_list = []\n",
    "\n",
    "\n",
    "driver = webdriver.Chrome('chromedriver.exe')\n",
    "url = \"https://www.flipkart.com/oppo-f11-marble-green-128-gb/product-reviews/itmfgb8ft4kfgfe6?pid=MOBFGB8FFMZDKSBF&lid=LSTMOBFGB8FFMZDKSBFZVHMK3&aid=overall&certifiedBuyer=false&sortOrder=NEGATIVE_FIRST\"\n",
    "driver.get(url)\n",
    "while len(Rating_list) < 40:\n",
    "\n",
    "\n",
    "    try:\n",
    "        delay = 6\n",
    "        WebDriverWait(driver,delay).until(EC.presence_of_element_located((By.CLASS_NAME,'_1LKTO3')))\n",
    "\n",
    "        review_cell = driver.find_elements_by_xpath(\"//div[@class='col _2wzgFH K0kLPL']\")\n",
    "        for i in review_cell:\n",
    "            rating = i.find_element_by_xpath(\"div[1]/div\")\n",
    "            rating = int(float(rating.text))\n",
    "            if rating == 3:\n",
    "                Rating_list.append(rating)\n",
    "                summary = i.find_element_by_xpath(\"div[1]/p\")\n",
    "                summary_list.append(summary.text)\n",
    "                full_review = i.find_element_by_xpath(\"div[2]/div\")\n",
    "                review_list.append(full_review.text)\n",
    "                #product_list.append('Mobile')\n",
    "\n",
    "    except:\n",
    "        driver.back()\n",
    "\n",
    "    Next_button = driver.find_elements_by_xpath(\"//a[@class ='_1LKTO3']\")   \n",
    "\n",
    "    for i in Next_button:\n",
    "        if i.text == 'NEXT' or i.text == 'Next':\n",
    "            driver.get(i.get_attribute('href'))"
   ]
  },
  {
   "cell_type": "code",
   "execution_count": 483,
   "id": "ab9d2185",
   "metadata": {},
   "outputs": [],
   "source": [
    "#scraped 1000 ratings of phone. 200 for each ratings\n",
    "df_phone_n6 = pd.DataFrame({'Ratings':Rating_list,'Summary':summary_list,'Review':review_list,'Product':'Ear Phones'})"
   ]
  },
  {
   "cell_type": "code",
   "execution_count": 488,
   "id": "1e5f0561",
   "metadata": {},
   "outputs": [],
   "source": [
    "df_phone_n6.iloc[:40,:].to_csv(\"df_phone_n6.csv\")"
   ]
  },
  {
   "cell_type": "code",
   "execution_count": null,
   "id": "061f565e",
   "metadata": {},
   "outputs": [],
   "source": []
  }
 ],
 "metadata": {
  "kernelspec": {
   "display_name": "Python 3",
   "language": "python",
   "name": "python3"
  },
  "language_info": {
   "codemirror_mode": {
    "name": "ipython",
    "version": 3
   },
   "file_extension": ".py",
   "mimetype": "text/x-python",
   "name": "python",
   "nbconvert_exporter": "python",
   "pygments_lexer": "ipython3",
   "version": "3.8.8"
  }
 },
 "nbformat": 4,
 "nbformat_minor": 5
}
