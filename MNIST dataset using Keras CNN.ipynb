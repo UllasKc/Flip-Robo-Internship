{
 "cells": [
  {
   "cell_type": "code",
   "execution_count": 2,
   "id": "a72d3a21",
   "metadata": {},
   "outputs": [],
   "source": [
    "import matplotlib.pyplot as plt\n",
    "from keras.layers import Dense, Flatten\n",
    "from keras.utils import to_categorical,plot_model\n",
    "from keras.models import Sequential\n",
    "from keras.datasets import mnist\n",
    "from keras import utils\n",
    "from keras.utils import np_utils\n",
    "from keras.layers import MaxPool2D,Conv2D,Dropout,Activation"
   ]
  },
  {
   "cell_type": "code",
   "execution_count": 6,
   "id": "35c8c11b",
   "metadata": {},
   "outputs": [],
   "source": [
    "#"
   ]
  }
 ],
 "metadata": {
  "kernelspec": {
   "display_name": "Python 3 (ipykernel)",
   "language": "python",
   "name": "python3"
  },
  "language_info": {
   "codemirror_mode": {
    "name": "ipython",
    "version": 3
   },
   "file_extension": ".py",
   "mimetype": "text/x-python",
   "name": "python",
   "nbconvert_exporter": "python",
   "pygments_lexer": "ipython3",
   "version": "3.8.11"
  }
 },
 "nbformat": 4,
 "nbformat_minor": 5
}
